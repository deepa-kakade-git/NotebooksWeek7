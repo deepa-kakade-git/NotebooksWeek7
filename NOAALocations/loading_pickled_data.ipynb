{
 "cells": [
  {
   "cell_type": "code",
   "execution_count": 1,
   "metadata": {},
   "outputs": [],
   "source": [
    "# import pandas module\n",
    "# import os module\n",
    "import pandas as pd\n",
    "import os"
   ]
  },
  {
   "cell_type": "code",
   "execution_count": 4,
   "metadata": {},
   "outputs": [],
   "source": [
    "# Define a file path (using os module) pointing to the pickled file from Exercise 1\n",
    "# Create a Pandas DataFrame from the pickled file. Use the file path as an argument.\n",
    "\n",
    "#df = pd.read_pickle(\"locations_data_frame.pickle\")\n",
    "\n",
    "df = pd.read_pickle(\"locations_data_frame.pickle\")\n"
   ]
  },
  {
   "cell_type": "code",
   "execution_count": 5,
   "metadata": {},
   "outputs": [
    {
     "data": {
      "text/html": [
       "<div>\n",
       "<style scoped>\n",
       "    .dataframe tbody tr th:only-of-type {\n",
       "        vertical-align: middle;\n",
       "    }\n",
       "\n",
       "    .dataframe tbody tr th {\n",
       "        vertical-align: top;\n",
       "    }\n",
       "\n",
       "    .dataframe thead th {\n",
       "        text-align: right;\n",
       "    }\n",
       "</style>\n",
       "<table border=\"1\" class=\"dataframe\">\n",
       "  <thead>\n",
       "    <tr style=\"text-align: right;\">\n",
       "      <th></th>\n",
       "      <th>mindate</th>\n",
       "      <th>maxdate</th>\n",
       "      <th>name</th>\n",
       "      <th>datacoverage</th>\n",
       "      <th>id</th>\n",
       "      <th>source</th>\n",
       "    </tr>\n",
       "  </thead>\n",
       "  <tbody>\n",
       "    <tr>\n",
       "      <th>0</th>\n",
       "      <td>1909-11-01</td>\n",
       "      <td>2024-04-21</td>\n",
       "      <td>Bejaia, AG</td>\n",
       "      <td>1.0000</td>\n",
       "      <td>CITY:AG000005</td>\n",
       "      <td>locations_10.json</td>\n",
       "    </tr>\n",
       "    <tr>\n",
       "      <th>0</th>\n",
       "      <td>1951-01-01</td>\n",
       "      <td>2000-12-31</td>\n",
       "      <td>Shkoder, AL</td>\n",
       "      <td>0.9916</td>\n",
       "      <td>CITY:AL000004</td>\n",
       "      <td>locations_26.json</td>\n",
       "    </tr>\n",
       "    <tr>\n",
       "      <th>0</th>\n",
       "      <td>1957-09-01</td>\n",
       "      <td>2024-04-21</td>\n",
       "      <td>Lubango, AO</td>\n",
       "      <td>1.0000</td>\n",
       "      <td>CITY:AO000006</td>\n",
       "      <td>locations_30.json</td>\n",
       "    </tr>\n",
       "    <tr>\n",
       "      <th>0</th>\n",
       "      <td>1944-03-01</td>\n",
       "      <td>2024-04-21</td>\n",
       "      <td>Sharjah, AE</td>\n",
       "      <td>1.0000</td>\n",
       "      <td>CITY:AE000006</td>\n",
       "      <td>locations_3.json</td>\n",
       "    </tr>\n",
       "    <tr>\n",
       "      <th>0</th>\n",
       "      <td>1944-03-01</td>\n",
       "      <td>2024-04-21</td>\n",
       "      <td>Dubai, AE</td>\n",
       "      <td>1.0000</td>\n",
       "      <td>CITY:AE000003</td>\n",
       "      <td>locations_2.json</td>\n",
       "    </tr>\n",
       "  </tbody>\n",
       "</table>\n",
       "</div>"
      ],
      "text/plain": [
       "      mindate     maxdate         name  datacoverage             id  \\\n",
       "0  1909-11-01  2024-04-21   Bejaia, AG        1.0000  CITY:AG000005   \n",
       "0  1951-01-01  2000-12-31  Shkoder, AL        0.9916  CITY:AL000004   \n",
       "0  1957-09-01  2024-04-21  Lubango, AO        1.0000  CITY:AO000006   \n",
       "0  1944-03-01  2024-04-21  Sharjah, AE        1.0000  CITY:AE000006   \n",
       "0  1944-03-01  2024-04-21    Dubai, AE        1.0000  CITY:AE000003   \n",
       "\n",
       "              source  \n",
       "0  locations_10.json  \n",
       "0  locations_26.json  \n",
       "0  locations_30.json  \n",
       "0   locations_3.json  \n",
       "0   locations_2.json  "
      ]
     },
     "execution_count": 5,
     "metadata": {},
     "output_type": "execute_result"
    }
   ],
   "source": [
    "# Display the DataFrame\n",
    "df.head()"
   ]
  },
  {
   "cell_type": "code",
   "execution_count": null,
   "metadata": {},
   "outputs": [],
   "source": []
  }
 ],
 "metadata": {
  "kernelspec": {
   "display_name": "Python 3 (ipykernel)",
   "language": "python",
   "name": "python3"
  },
  "language_info": {
   "codemirror_mode": {
    "name": "ipython",
    "version": 3
   },
   "file_extension": ".py",
   "mimetype": "text/x-python",
   "name": "python",
   "nbconvert_exporter": "python",
   "pygments_lexer": "ipython3",
   "version": "3.12.2"
  }
 },
 "nbformat": 4,
 "nbformat_minor": 4
}
