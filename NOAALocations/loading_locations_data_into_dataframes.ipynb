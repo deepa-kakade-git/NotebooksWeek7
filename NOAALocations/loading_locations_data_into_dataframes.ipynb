{
 "cells": [
  {
   "cell_type": "code",
   "execution_count": 7,
   "metadata": {},
   "outputs": [],
   "source": [
    "import pandas as pd\n",
    "import os\n",
    "import json"
   ]
  },
  {
   "cell_type": "markdown",
   "metadata": {},
   "source": [
    "## Read a single JSON"
   ]
  },
  {
   "cell_type": "markdown",
   "metadata": {},
   "source": [
    "Define a function called read_json. Given a string representing a file path to a json file, this function should open said file and convert its contens into a json object."
   ]
  },
  {
   "cell_type": "code",
   "execution_count": 8,
   "metadata": {},
   "outputs": [],
   "source": [
    "# implement me\n",
    "def read_json(file_path):\n",
    "    f = open(file_path)\n",
    "    json_data = json.load(f)\n",
    "    return json_data"
   ]
  },
  {
   "cell_type": "markdown",
   "metadata": {},
   "source": [
    "Use the read_json function defined above to read the contents of one of the locations_4.json file acquired in the Data Acquisition Lab."
   ]
  },
  {
   "cell_type": "code",
   "execution_count": 11,
   "metadata": {},
   "outputs": [],
   "source": [
    "file_path = os.path.join('./', 'data', 'locations', 'locations_4.json')\n",
    "json_contents = read_json(file_path)"
   ]
  },
  {
   "cell_type": "markdown",
   "metadata": {},
   "source": [
    "Display the value of the json_contents variable defined above."
   ]
  },
  {
   "cell_type": "code",
   "execution_count": 13,
   "metadata": {},
   "outputs": [
    {
     "data": {
      "text/plain": [
       "{'mindate': '1966-03-02',\n",
       " 'maxdate': '2021-08-30',\n",
       " 'name': 'Kabul, AF',\n",
       " 'datacoverage': 0.9969,\n",
       " 'id': 'CITY:AF000007'}"
      ]
     },
     "execution_count": 13,
     "metadata": {},
     "output_type": "execute_result"
    }
   ],
   "source": [
    "json_contents"
   ]
  },
  {
   "cell_type": "markdown",
   "metadata": {},
   "source": [
    "## Convert JSON Into a DataFrame"
   ]
  },
  {
   "cell_type": "markdown",
   "metadata": {},
   "source": [
    "Using the json_contents variable, create a Pandas dataframe."
   ]
  },
  {
   "cell_type": "code",
   "execution_count": 19,
   "metadata": {},
   "outputs": [],
   "source": [
    "# Create DataFrame here.\n",
    "df = pd.DataFrame([json_contents])"
   ]
  },
  {
   "cell_type": "markdown",
   "metadata": {},
   "source": [
    "Display the contents of the DataFrame. "
   ]
  },
  {
   "cell_type": "code",
   "execution_count": 21,
   "metadata": {},
   "outputs": [
    {
     "data": {
      "text/html": [
       "<div>\n",
       "<style scoped>\n",
       "    .dataframe tbody tr th:only-of-type {\n",
       "        vertical-align: middle;\n",
       "    }\n",
       "\n",
       "    .dataframe tbody tr th {\n",
       "        vertical-align: top;\n",
       "    }\n",
       "\n",
       "    .dataframe thead th {\n",
       "        text-align: right;\n",
       "    }\n",
       "</style>\n",
       "<table border=\"1\" class=\"dataframe\">\n",
       "  <thead>\n",
       "    <tr style=\"text-align: right;\">\n",
       "      <th></th>\n",
       "      <th>mindate</th>\n",
       "      <th>maxdate</th>\n",
       "      <th>name</th>\n",
       "      <th>datacoverage</th>\n",
       "      <th>id</th>\n",
       "    </tr>\n",
       "  </thead>\n",
       "  <tbody>\n",
       "    <tr>\n",
       "      <th>0</th>\n",
       "      <td>1966-03-02</td>\n",
       "      <td>2021-08-30</td>\n",
       "      <td>Kabul, AF</td>\n",
       "      <td>0.9969</td>\n",
       "      <td>CITY:AF000007</td>\n",
       "    </tr>\n",
       "  </tbody>\n",
       "</table>\n",
       "</div>"
      ],
      "text/plain": [
       "      mindate     maxdate       name  datacoverage             id\n",
       "0  1966-03-02  2021-08-30  Kabul, AF        0.9969  CITY:AF000007"
      ]
     },
     "execution_count": 21,
     "metadata": {},
     "output_type": "execute_result"
    }
   ],
   "source": [
    "# Display contents of the DataFrame here.\n",
    "df.head()"
   ]
  },
  {
   "cell_type": "markdown",
   "metadata": {},
   "source": [
    "How many records are in the DataFrame? How many columns does each record have? "
   ]
  },
  {
   "cell_type": "markdown",
   "metadata": {},
   "source": [
    "Filter the contents of the DataFrame to only show records where the name column contains the string \"Durham\"."
   ]
  },
  {
   "cell_type": "code",
   "execution_count": 26,
   "metadata": {},
   "outputs": [
    {
     "name": "stdout",
     "output_type": "stream",
     "text": [
      "1\n",
      "5\n"
     ]
    }
   ],
   "source": [
    "print(df.shape[0])\n",
    "print(df.shape[1])"
   ]
  },
  {
   "cell_type": "markdown",
   "metadata": {},
   "source": [
    "## Read Multiple JSON Files"
   ]
  },
  {
   "cell_type": "markdown",
   "metadata": {},
   "source": [
    "Define a function called read_all_json_files. Given a string representing a path to a directory, this function should read all of the json files and return a Pandas DataFrame containing all of the objects. In addition to the data from the files, this DataFrame should also contain an additional column called \"source\". The source column should be populated with the name of the file from which this record originated from."
   ]
  },
  {
   "cell_type": "code",
   "execution_count": 66,
   "metadata": {},
   "outputs": [],
   "source": [
    "# implement me\n",
    "def read_all_json_files(JSON_ROOT):\n",
    "    df1 = pd.DataFrame()\n",
    "    for filename in os.listdir(JSON_ROOT):\n",
    "        with open(os.path.join(JSON_ROOT, filename) , 'r') as file:  # os.path.join constructs the full path to the file \n",
    "            json_data = json.load(file)\n",
    "            df2 = pd.json_normalize(json_data)\n",
    "            df2['source']= str(filename)\n",
    "            df1 = pd.concat([df1, df2])\n",
    "            #print(str(df1))\n",
    "    return df1"
   ]
  },
  {
   "cell_type": "code",
   "execution_count": 42,
   "metadata": {},
   "outputs": [
    {
     "data": {
      "text/plain": [
       "'/Users/deepa/Documents/Projects/NotebooksWeek7/NOAALocations'"
      ]
     },
     "execution_count": 42,
     "metadata": {},
     "output_type": "execute_result"
    }
   ],
   "source": [
    "os.getcwd()"
   ]
  },
  {
   "cell_type": "markdown",
   "metadata": {},
   "source": [
    "Use the read_all_json_files function above to read the contents of all locations file acquired in the the Data Acquisition Lab.  \n",
    "Hint: It is easier if you put all of those files in a dedicated subdirectory ex: (./data/locations/)"
   ]
  },
  {
   "cell_type": "code",
   "execution_count": 77,
   "metadata": {},
   "outputs": [],
   "source": [
    "df1 = read_all_json_files('./data/locations')"
   ]
  },
  {
   "cell_type": "markdown",
   "metadata": {},
   "source": [
    "What is the shape of the DataFrame? Does this match the number of columns and records you expected?"
   ]
  },
  {
   "cell_type": "code",
   "execution_count": 78,
   "metadata": {},
   "outputs": [
    {
     "data": {
      "text/plain": [
       "39"
      ]
     },
     "execution_count": 78,
     "metadata": {},
     "output_type": "execute_result"
    }
   ],
   "source": [
    "# Validate the shape of the DataFrame here\n",
    "df1.shape[0]"
   ]
  },
  {
   "cell_type": "code",
   "execution_count": 79,
   "metadata": {},
   "outputs": [
    {
     "data": {
      "text/plain": [
       "6"
      ]
     },
     "execution_count": 79,
     "metadata": {},
     "output_type": "execute_result"
    }
   ],
   "source": [
    "df1.shape[1]"
   ]
  },
  {
   "cell_type": "code",
   "execution_count": 92,
   "metadata": {},
   "outputs": [
    {
     "data": {
      "text/plain": [
       "mindate         39\n",
       "maxdate         39\n",
       "name            39\n",
       "datacoverage    39\n",
       "id              39\n",
       "source          39\n",
       "dtype: int64"
      ]
     },
     "execution_count": 92,
     "metadata": {},
     "output_type": "execute_result"
    }
   ],
   "source": [
    "df.count()"
   ]
  },
  {
   "cell_type": "markdown",
   "metadata": {},
   "source": [
    "Show the first few records of the DataFrame."
   ]
  },
  {
   "cell_type": "code",
   "execution_count": 93,
   "metadata": {},
   "outputs": [
    {
     "data": {
      "text/html": [
       "<div>\n",
       "<style scoped>\n",
       "    .dataframe tbody tr th:only-of-type {\n",
       "        vertical-align: middle;\n",
       "    }\n",
       "\n",
       "    .dataframe tbody tr th {\n",
       "        vertical-align: top;\n",
       "    }\n",
       "\n",
       "    .dataframe thead th {\n",
       "        text-align: right;\n",
       "    }\n",
       "</style>\n",
       "<table border=\"1\" class=\"dataframe\">\n",
       "  <thead>\n",
       "    <tr style=\"text-align: right;\">\n",
       "      <th></th>\n",
       "      <th>mindate</th>\n",
       "      <th>maxdate</th>\n",
       "      <th>name</th>\n",
       "      <th>datacoverage</th>\n",
       "      <th>id</th>\n",
       "      <th>source</th>\n",
       "    </tr>\n",
       "  </thead>\n",
       "  <tbody>\n",
       "    <tr>\n",
       "      <th>0</th>\n",
       "      <td>1909-11-01</td>\n",
       "      <td>2024-04-21</td>\n",
       "      <td>Bejaia, AG</td>\n",
       "      <td>1.0000</td>\n",
       "      <td>CITY:AG000005</td>\n",
       "      <td>locations_10.json</td>\n",
       "    </tr>\n",
       "    <tr>\n",
       "      <th>0</th>\n",
       "      <td>1951-01-01</td>\n",
       "      <td>2000-12-31</td>\n",
       "      <td>Shkoder, AL</td>\n",
       "      <td>0.9916</td>\n",
       "      <td>CITY:AL000004</td>\n",
       "      <td>locations_26.json</td>\n",
       "    </tr>\n",
       "    <tr>\n",
       "      <th>0</th>\n",
       "      <td>1957-09-01</td>\n",
       "      <td>2024-04-21</td>\n",
       "      <td>Lubango, AO</td>\n",
       "      <td>1.0000</td>\n",
       "      <td>CITY:AO000006</td>\n",
       "      <td>locations_30.json</td>\n",
       "    </tr>\n",
       "    <tr>\n",
       "      <th>0</th>\n",
       "      <td>1944-03-01</td>\n",
       "      <td>2024-04-21</td>\n",
       "      <td>Sharjah, AE</td>\n",
       "      <td>1.0000</td>\n",
       "      <td>CITY:AE000006</td>\n",
       "      <td>locations_3.json</td>\n",
       "    </tr>\n",
       "    <tr>\n",
       "      <th>0</th>\n",
       "      <td>1944-03-01</td>\n",
       "      <td>2024-04-21</td>\n",
       "      <td>Dubai, AE</td>\n",
       "      <td>1.0000</td>\n",
       "      <td>CITY:AE000003</td>\n",
       "      <td>locations_2.json</td>\n",
       "    </tr>\n",
       "    <tr>\n",
       "      <th>0</th>\n",
       "      <td>1955-01-01</td>\n",
       "      <td>2015-10-01</td>\n",
       "      <td>Namibe, AO</td>\n",
       "      <td>0.7495</td>\n",
       "      <td>CITY:AO000008</td>\n",
       "      <td>locations_31.json</td>\n",
       "    </tr>\n",
       "    <tr>\n",
       "      <th>0</th>\n",
       "      <td>1940-04-01</td>\n",
       "      <td>2024-04-21</td>\n",
       "      <td>Tirana, AL</td>\n",
       "      <td>0.9925</td>\n",
       "      <td>CITY:AL000005</td>\n",
       "      <td>locations_27.json</td>\n",
       "    </tr>\n",
       "    <tr>\n",
       "      <th>0</th>\n",
       "      <td>1880-05-01</td>\n",
       "      <td>2024-04-21</td>\n",
       "      <td>Constantine, AG</td>\n",
       "      <td>1.0000</td>\n",
       "      <td>CITY:AG000006</td>\n",
       "      <td>locations_11.json</td>\n",
       "    </tr>\n",
       "    <tr>\n",
       "      <th>0</th>\n",
       "      <td>1957-12-31</td>\n",
       "      <td>2024-04-21</td>\n",
       "      <td>Skikda, AG</td>\n",
       "      <td>1.0000</td>\n",
       "      <td>CITY:AG000015</td>\n",
       "      <td>locations_20.json</td>\n",
       "    </tr>\n",
       "    <tr>\n",
       "      <th>0</th>\n",
       "      <td>1960-01-01</td>\n",
       "      <td>2024-04-11</td>\n",
       "      <td>Corrientes, AR</td>\n",
       "      <td>0.9973</td>\n",
       "      <td>CITY:AR000006</td>\n",
       "      <td>location.json</td>\n",
       "    </tr>\n",
       "    <tr>\n",
       "      <th>0</th>\n",
       "      <td>1956-02-01</td>\n",
       "      <td>2024-04-21</td>\n",
       "      <td>Cordoba, AR</td>\n",
       "      <td>1.0000</td>\n",
       "      <td>CITY:AR000005</td>\n",
       "      <td>locations_36.json</td>\n",
       "    </tr>\n",
       "    <tr>\n",
       "      <th>0</th>\n",
       "      <td>1973-01-02</td>\n",
       "      <td>2020-12-31</td>\n",
       "      <td>Kandahar, AF</td>\n",
       "      <td>1.0000</td>\n",
       "      <td>CITY:AF000008</td>\n",
       "      <td>locations_5.json</td>\n",
       "    </tr>\n",
       "    <tr>\n",
       "      <th>0</th>\n",
       "      <td>1957-01-01</td>\n",
       "      <td>2024-04-21</td>\n",
       "      <td>Bechar, AG</td>\n",
       "      <td>1.0000</td>\n",
       "      <td>CITY:AG000004</td>\n",
       "      <td>locations_9.json</td>\n",
       "    </tr>\n",
       "    <tr>\n",
       "      <th>0</th>\n",
       "      <td>1957-01-01</td>\n",
       "      <td>2024-11-14</td>\n",
       "      <td>Oran, AG</td>\n",
       "      <td>1.0000</td>\n",
       "      <td>CITY:AG000011</td>\n",
       "      <td>locations_16.json</td>\n",
       "    </tr>\n",
       "    <tr>\n",
       "      <th>0</th>\n",
       "      <td>1985-02-01</td>\n",
       "      <td>2024-04-21</td>\n",
       "      <td>Oum el Bouaghi, AG</td>\n",
       "      <td>1.0000</td>\n",
       "      <td>CITY:AG000012</td>\n",
       "      <td>locations_17.json</td>\n",
       "    </tr>\n",
       "    <tr>\n",
       "      <th>0</th>\n",
       "      <td>1973-04-01</td>\n",
       "      <td>2024-04-21</td>\n",
       "      <td>Batna, AG</td>\n",
       "      <td>1.0000</td>\n",
       "      <td>CITY:AG000003</td>\n",
       "      <td>locations_8.json</td>\n",
       "    </tr>\n",
       "    <tr>\n",
       "      <th>0</th>\n",
       "      <td>1966-03-02</td>\n",
       "      <td>2021-08-30</td>\n",
       "      <td>Kabul, AF</td>\n",
       "      <td>0.9969</td>\n",
       "      <td>CITY:AF000007</td>\n",
       "      <td>locations_4.json</td>\n",
       "    </tr>\n",
       "    <tr>\n",
       "      <th>0</th>\n",
       "      <td>1960-01-01</td>\n",
       "      <td>2024-04-21</td>\n",
       "      <td>Corrientes, AR</td>\n",
       "      <td>0.9973</td>\n",
       "      <td>CITY:AR000006</td>\n",
       "      <td>locations_37.json</td>\n",
       "    </tr>\n",
       "    <tr>\n",
       "      <th>0</th>\n",
       "      <td>1940-01-01</td>\n",
       "      <td>2014-02-01</td>\n",
       "      <td>Tamanrasset, AG</td>\n",
       "      <td>0.9973</td>\n",
       "      <td>CITY:AG000016</td>\n",
       "      <td>locations_21.json</td>\n",
       "    </tr>\n",
       "    <tr>\n",
       "      <th>0</th>\n",
       "      <td>1981-01-01</td>\n",
       "      <td>2024-04-21</td>\n",
       "      <td>Saida, AG</td>\n",
       "      <td>1.0000</td>\n",
       "      <td>CITY:AG000013</td>\n",
       "      <td>locations_18.json</td>\n",
       "    </tr>\n",
       "    <tr>\n",
       "      <th>0</th>\n",
       "      <td>1909-11-01</td>\n",
       "      <td>2024-04-21</td>\n",
       "      <td>Annaba, AG</td>\n",
       "      <td>1.0000</td>\n",
       "      <td>CITY:AG000002</td>\n",
       "      <td>locations_7.json</td>\n",
       "    </tr>\n",
       "    <tr>\n",
       "      <th>0</th>\n",
       "      <td>1973-07-01</td>\n",
       "      <td>2024-04-21</td>\n",
       "      <td>Catamarca, AR</td>\n",
       "      <td>0.9720</td>\n",
       "      <td>CITY:AR000003</td>\n",
       "      <td>locations_34.json</td>\n",
       "    </tr>\n",
       "    <tr>\n",
       "      <th>0</th>\n",
       "      <td>1981-01-01</td>\n",
       "      <td>2024-04-21</td>\n",
       "      <td>Tlemcen, AG</td>\n",
       "      <td>1.0000</td>\n",
       "      <td>CITY:AG000017</td>\n",
       "      <td>locations_22.json</td>\n",
       "    </tr>\n",
       "    <tr>\n",
       "      <th>0</th>\n",
       "      <td>1995-10-01</td>\n",
       "      <td>2024-04-21</td>\n",
       "      <td>Medea, AG</td>\n",
       "      <td>0.9875</td>\n",
       "      <td>CITY:AG000009</td>\n",
       "      <td>locations_14.json</td>\n",
       "    </tr>\n",
       "    <tr>\n",
       "      <th>0</th>\n",
       "      <td>1976-04-01</td>\n",
       "      <td>2024-04-21</td>\n",
       "      <td>Mostaganem, AG</td>\n",
       "      <td>1.0000</td>\n",
       "      <td>CITY:AG000010</td>\n",
       "      <td>locations_15.json</td>\n",
       "    </tr>\n",
       "    <tr>\n",
       "      <th>0</th>\n",
       "      <td>1881-07-01</td>\n",
       "      <td>1992-01-31</td>\n",
       "      <td>Baku, AJ</td>\n",
       "      <td>0.9910</td>\n",
       "      <td>CITY:AJ000001</td>\n",
       "      <td>locations_23.json</td>\n",
       "    </tr>\n",
       "    <tr>\n",
       "      <th>0</th>\n",
       "      <td>1956-02-01</td>\n",
       "      <td>2024-04-21</td>\n",
       "      <td>Comodoro Rivadavia, AR</td>\n",
       "      <td>0.9987</td>\n",
       "      <td>CITY:AR000004</td>\n",
       "      <td>locations_35.json</td>\n",
       "    </tr>\n",
       "    <tr>\n",
       "      <th>0</th>\n",
       "      <td>1877-04-01</td>\n",
       "      <td>2024-04-21</td>\n",
       "      <td>Algiers, AG</td>\n",
       "      <td>1.0000</td>\n",
       "      <td>CITY:AG000001</td>\n",
       "      <td>locations_6.json</td>\n",
       "    </tr>\n",
       "    <tr>\n",
       "      <th>0</th>\n",
       "      <td>1995-10-01</td>\n",
       "      <td>2024-04-21</td>\n",
       "      <td>Sidi-Bel-Abbes, AG</td>\n",
       "      <td>0.9995</td>\n",
       "      <td>CITY:AG000014</td>\n",
       "      <td>locations_19.json</td>\n",
       "    </tr>\n",
       "    <tr>\n",
       "      <th>0</th>\n",
       "      <td>1995-10-01</td>\n",
       "      <td>2024-04-21</td>\n",
       "      <td>Guelma, AG</td>\n",
       "      <td>1.0000</td>\n",
       "      <td>CITY:AG000007</td>\n",
       "      <td>locations_12.json</td>\n",
       "    </tr>\n",
       "    <tr>\n",
       "      <th>0</th>\n",
       "      <td>1885-06-01</td>\n",
       "      <td>2024-04-21</td>\n",
       "      <td>Yerevan, AM</td>\n",
       "      <td>1.0000</td>\n",
       "      <td>CITY:AM000001</td>\n",
       "      <td>locations_28.json</td>\n",
       "    </tr>\n",
       "    <tr>\n",
       "      <th>0</th>\n",
       "      <td>1944-03-01</td>\n",
       "      <td>2024-04-21</td>\n",
       "      <td>Ajman, AE</td>\n",
       "      <td>1.0000</td>\n",
       "      <td>CITY:AE000002</td>\n",
       "      <td>locations_1.json</td>\n",
       "    </tr>\n",
       "    <tr>\n",
       "      <th>0</th>\n",
       "      <td>1956-02-01</td>\n",
       "      <td>2024-04-21</td>\n",
       "      <td>Bahia Blanca, AR</td>\n",
       "      <td>0.9973</td>\n",
       "      <td>CITY:AR000001</td>\n",
       "      <td>locations_32.json</td>\n",
       "    </tr>\n",
       "    <tr>\n",
       "      <th>0</th>\n",
       "      <td>1925-09-01</td>\n",
       "      <td>1991-12-31</td>\n",
       "      <td>Naxcivian, AJ</td>\n",
       "      <td>1.0000</td>\n",
       "      <td>CITY:AJ000002</td>\n",
       "      <td>locations_24.json</td>\n",
       "    </tr>\n",
       "    <tr>\n",
       "      <th>0</th>\n",
       "      <td>1973-02-05</td>\n",
       "      <td>2024-04-21</td>\n",
       "      <td>Durres, AL</td>\n",
       "      <td>0.9925</td>\n",
       "      <td>CITY:AL000001</td>\n",
       "      <td>locations_25.json</td>\n",
       "    </tr>\n",
       "    <tr>\n",
       "      <th>0</th>\n",
       "      <td>1908-09-01</td>\n",
       "      <td>2024-04-21</td>\n",
       "      <td>Buenos Aires, AR</td>\n",
       "      <td>1.0000</td>\n",
       "      <td>CITY:AR000002</td>\n",
       "      <td>locations_33.json</td>\n",
       "    </tr>\n",
       "    <tr>\n",
       "      <th>0</th>\n",
       "      <td>1983-01-01</td>\n",
       "      <td>2024-04-21</td>\n",
       "      <td>Abu Dhabi, AE</td>\n",
       "      <td>0.9975</td>\n",
       "      <td>CITY:AE000001</td>\n",
       "      <td>locations_0.json</td>\n",
       "    </tr>\n",
       "    <tr>\n",
       "      <th>0</th>\n",
       "      <td>1960-04-01</td>\n",
       "      <td>2024-04-21</td>\n",
       "      <td>Luanda, AO</td>\n",
       "      <td>0.4997</td>\n",
       "      <td>CITY:AO000005</td>\n",
       "      <td>locations_29.json</td>\n",
       "    </tr>\n",
       "    <tr>\n",
       "      <th>0</th>\n",
       "      <td>1888-01-01</td>\n",
       "      <td>2024-04-21</td>\n",
       "      <td>Laghouat, AG</td>\n",
       "      <td>1.0000</td>\n",
       "      <td>CITY:AG000008</td>\n",
       "      <td>locations_13.json</td>\n",
       "    </tr>\n",
       "  </tbody>\n",
       "</table>\n",
       "</div>"
      ],
      "text/plain": [
       "      mindate     maxdate                    name  datacoverage  \\\n",
       "0  1909-11-01  2024-04-21              Bejaia, AG        1.0000   \n",
       "0  1951-01-01  2000-12-31             Shkoder, AL        0.9916   \n",
       "0  1957-09-01  2024-04-21             Lubango, AO        1.0000   \n",
       "0  1944-03-01  2024-04-21             Sharjah, AE        1.0000   \n",
       "0  1944-03-01  2024-04-21               Dubai, AE        1.0000   \n",
       "0  1955-01-01  2015-10-01              Namibe, AO        0.7495   \n",
       "0  1940-04-01  2024-04-21              Tirana, AL        0.9925   \n",
       "0  1880-05-01  2024-04-21         Constantine, AG        1.0000   \n",
       "0  1957-12-31  2024-04-21              Skikda, AG        1.0000   \n",
       "0  1960-01-01  2024-04-11          Corrientes, AR        0.9973   \n",
       "0  1956-02-01  2024-04-21             Cordoba, AR        1.0000   \n",
       "0  1973-01-02  2020-12-31            Kandahar, AF        1.0000   \n",
       "0  1957-01-01  2024-04-21              Bechar, AG        1.0000   \n",
       "0  1957-01-01  2024-11-14                Oran, AG        1.0000   \n",
       "0  1985-02-01  2024-04-21      Oum el Bouaghi, AG        1.0000   \n",
       "0  1973-04-01  2024-04-21               Batna, AG        1.0000   \n",
       "0  1966-03-02  2021-08-30               Kabul, AF        0.9969   \n",
       "0  1960-01-01  2024-04-21          Corrientes, AR        0.9973   \n",
       "0  1940-01-01  2014-02-01         Tamanrasset, AG        0.9973   \n",
       "0  1981-01-01  2024-04-21               Saida, AG        1.0000   \n",
       "0  1909-11-01  2024-04-21              Annaba, AG        1.0000   \n",
       "0  1973-07-01  2024-04-21           Catamarca, AR        0.9720   \n",
       "0  1981-01-01  2024-04-21             Tlemcen, AG        1.0000   \n",
       "0  1995-10-01  2024-04-21               Medea, AG        0.9875   \n",
       "0  1976-04-01  2024-04-21          Mostaganem, AG        1.0000   \n",
       "0  1881-07-01  1992-01-31                Baku, AJ        0.9910   \n",
       "0  1956-02-01  2024-04-21  Comodoro Rivadavia, AR        0.9987   \n",
       "0  1877-04-01  2024-04-21             Algiers, AG        1.0000   \n",
       "0  1995-10-01  2024-04-21      Sidi-Bel-Abbes, AG        0.9995   \n",
       "0  1995-10-01  2024-04-21              Guelma, AG        1.0000   \n",
       "0  1885-06-01  2024-04-21             Yerevan, AM        1.0000   \n",
       "0  1944-03-01  2024-04-21               Ajman, AE        1.0000   \n",
       "0  1956-02-01  2024-04-21        Bahia Blanca, AR        0.9973   \n",
       "0  1925-09-01  1991-12-31           Naxcivian, AJ        1.0000   \n",
       "0  1973-02-05  2024-04-21              Durres, AL        0.9925   \n",
       "0  1908-09-01  2024-04-21        Buenos Aires, AR        1.0000   \n",
       "0  1983-01-01  2024-04-21           Abu Dhabi, AE        0.9975   \n",
       "0  1960-04-01  2024-04-21              Luanda, AO        0.4997   \n",
       "0  1888-01-01  2024-04-21            Laghouat, AG        1.0000   \n",
       "\n",
       "              id             source  \n",
       "0  CITY:AG000005  locations_10.json  \n",
       "0  CITY:AL000004  locations_26.json  \n",
       "0  CITY:AO000006  locations_30.json  \n",
       "0  CITY:AE000006   locations_3.json  \n",
       "0  CITY:AE000003   locations_2.json  \n",
       "0  CITY:AO000008  locations_31.json  \n",
       "0  CITY:AL000005  locations_27.json  \n",
       "0  CITY:AG000006  locations_11.json  \n",
       "0  CITY:AG000015  locations_20.json  \n",
       "0  CITY:AR000006      location.json  \n",
       "0  CITY:AR000005  locations_36.json  \n",
       "0  CITY:AF000008   locations_5.json  \n",
       "0  CITY:AG000004   locations_9.json  \n",
       "0  CITY:AG000011  locations_16.json  \n",
       "0  CITY:AG000012  locations_17.json  \n",
       "0  CITY:AG000003   locations_8.json  \n",
       "0  CITY:AF000007   locations_4.json  \n",
       "0  CITY:AR000006  locations_37.json  \n",
       "0  CITY:AG000016  locations_21.json  \n",
       "0  CITY:AG000013  locations_18.json  \n",
       "0  CITY:AG000002   locations_7.json  \n",
       "0  CITY:AR000003  locations_34.json  \n",
       "0  CITY:AG000017  locations_22.json  \n",
       "0  CITY:AG000009  locations_14.json  \n",
       "0  CITY:AG000010  locations_15.json  \n",
       "0  CITY:AJ000001  locations_23.json  \n",
       "0  CITY:AR000004  locations_35.json  \n",
       "0  CITY:AG000001   locations_6.json  \n",
       "0  CITY:AG000014  locations_19.json  \n",
       "0  CITY:AG000007  locations_12.json  \n",
       "0  CITY:AM000001  locations_28.json  \n",
       "0  CITY:AE000002   locations_1.json  \n",
       "0  CITY:AR000001  locations_32.json  \n",
       "0  CITY:AJ000002  locations_24.json  \n",
       "0  CITY:AL000001  locations_25.json  \n",
       "0  CITY:AR000002  locations_33.json  \n",
       "0  CITY:AE000001   locations_0.json  \n",
       "0  CITY:AO000005  locations_29.json  \n",
       "0  CITY:AG000008  locations_13.json  "
      ]
     },
     "execution_count": 93,
     "metadata": {},
     "output_type": "execute_result"
    }
   ],
   "source": [
    "# Show the first few records\n",
    "df1.head(200)"
   ]
  },
  {
   "cell_type": "markdown",
   "metadata": {},
   "source": [
    "Show the last few records of the DataFrame."
   ]
  },
  {
   "cell_type": "code",
   "execution_count": 81,
   "metadata": {},
   "outputs": [
    {
     "data": {
      "text/html": [
       "<div>\n",
       "<style scoped>\n",
       "    .dataframe tbody tr th:only-of-type {\n",
       "        vertical-align: middle;\n",
       "    }\n",
       "\n",
       "    .dataframe tbody tr th {\n",
       "        vertical-align: top;\n",
       "    }\n",
       "\n",
       "    .dataframe thead th {\n",
       "        text-align: right;\n",
       "    }\n",
       "</style>\n",
       "<table border=\"1\" class=\"dataframe\">\n",
       "  <thead>\n",
       "    <tr style=\"text-align: right;\">\n",
       "      <th></th>\n",
       "      <th>mindate</th>\n",
       "      <th>maxdate</th>\n",
       "      <th>name</th>\n",
       "      <th>datacoverage</th>\n",
       "      <th>id</th>\n",
       "      <th>source</th>\n",
       "    </tr>\n",
       "  </thead>\n",
       "  <tbody>\n",
       "    <tr>\n",
       "      <th>0</th>\n",
       "      <td>1973-02-05</td>\n",
       "      <td>2024-04-21</td>\n",
       "      <td>Durres, AL</td>\n",
       "      <td>0.9925</td>\n",
       "      <td>CITY:AL000001</td>\n",
       "      <td>locations_25.json</td>\n",
       "    </tr>\n",
       "    <tr>\n",
       "      <th>0</th>\n",
       "      <td>1908-09-01</td>\n",
       "      <td>2024-04-21</td>\n",
       "      <td>Buenos Aires, AR</td>\n",
       "      <td>1.0000</td>\n",
       "      <td>CITY:AR000002</td>\n",
       "      <td>locations_33.json</td>\n",
       "    </tr>\n",
       "    <tr>\n",
       "      <th>0</th>\n",
       "      <td>1983-01-01</td>\n",
       "      <td>2024-04-21</td>\n",
       "      <td>Abu Dhabi, AE</td>\n",
       "      <td>0.9975</td>\n",
       "      <td>CITY:AE000001</td>\n",
       "      <td>locations_0.json</td>\n",
       "    </tr>\n",
       "    <tr>\n",
       "      <th>0</th>\n",
       "      <td>1960-04-01</td>\n",
       "      <td>2024-04-21</td>\n",
       "      <td>Luanda, AO</td>\n",
       "      <td>0.4997</td>\n",
       "      <td>CITY:AO000005</td>\n",
       "      <td>locations_29.json</td>\n",
       "    </tr>\n",
       "    <tr>\n",
       "      <th>0</th>\n",
       "      <td>1888-01-01</td>\n",
       "      <td>2024-04-21</td>\n",
       "      <td>Laghouat, AG</td>\n",
       "      <td>1.0000</td>\n",
       "      <td>CITY:AG000008</td>\n",
       "      <td>locations_13.json</td>\n",
       "    </tr>\n",
       "  </tbody>\n",
       "</table>\n",
       "</div>"
      ],
      "text/plain": [
       "      mindate     maxdate              name  datacoverage             id  \\\n",
       "0  1973-02-05  2024-04-21        Durres, AL        0.9925  CITY:AL000001   \n",
       "0  1908-09-01  2024-04-21  Buenos Aires, AR        1.0000  CITY:AR000002   \n",
       "0  1983-01-01  2024-04-21     Abu Dhabi, AE        0.9975  CITY:AE000001   \n",
       "0  1960-04-01  2024-04-21        Luanda, AO        0.4997  CITY:AO000005   \n",
       "0  1888-01-01  2024-04-21      Laghouat, AG        1.0000  CITY:AG000008   \n",
       "\n",
       "              source  \n",
       "0  locations_25.json  \n",
       "0  locations_33.json  \n",
       "0   locations_0.json  \n",
       "0  locations_29.json  \n",
       "0  locations_13.json  "
      ]
     },
     "execution_count": 81,
     "metadata": {},
     "output_type": "execute_result"
    }
   ],
   "source": [
    "# Show the last few records\n",
    "df1.tail()"
   ]
  },
  {
   "cell_type": "markdown",
   "metadata": {},
   "source": [
    "## Validate Records Are Unique"
   ]
  },
  {
   "cell_type": "markdown",
   "metadata": {},
   "source": [
    "Provide two different ways to determine there are no duplicate records.  \n",
    "Hint: The id field should be unique."
   ]
  },
  {
   "cell_type": "code",
   "execution_count": 82,
   "metadata": {},
   "outputs": [
    {
     "name": "stdout",
     "output_type": "stream",
     "text": [
      "All ids are not unique\n"
     ]
    }
   ],
   "source": [
    "# one day to determine there are not duplicate records\n",
    "if df1['id'].is_unique:\n",
    "    print(\"All ids are unique\")\n",
    "else:\n",
    "    print(\"All ids are not unique\")"
   ]
  },
  {
   "cell_type": "code",
   "execution_count": 83,
   "metadata": {},
   "outputs": [
    {
     "name": "stdout",
     "output_type": "stream",
     "text": [
      "All rows are not unique\n"
     ]
    }
   ],
   "source": [
    "# another way to determine there are no duplicate records\n",
    "boolean = df1[\"id\"].is_unique  \n",
    "if boolean == True:\n",
    "    print(\"All rows are unique\")\n",
    "else:\n",
    "    print(\"All rows are not unique\")\n",
    "    "
   ]
  },
  {
   "cell_type": "code",
   "execution_count": 84,
   "metadata": {},
   "outputs": [
    {
     "name": "stdout",
     "output_type": "stream",
     "text": [
      "No duplicate rows.\n"
     ]
    }
   ],
   "source": [
    "#another way to determine is there are duplicate records\n",
    "if df1.duplicated().any():\n",
    "    print(\"Duplicate rows exist.\")\n",
    "else:\n",
    "    print(\"No duplicate rows.\")"
   ]
  },
  {
   "cell_type": "markdown",
   "metadata": {},
   "source": [
    "# Peking In"
   ]
  },
  {
   "cell_type": "markdown",
   "metadata": {},
   "source": [
    "Show the record with id \"CITY:TU000041\". Which file did it come from? "
   ]
  },
  {
   "cell_type": "code",
   "execution_count": 91,
   "metadata": {},
   "outputs": [
    {
     "name": "stdout",
     "output_type": "stream",
     "text": [
      "Record :\n",
      "mindate                1888-01-01\n",
      "maxdate                2024-04-21\n",
      "name                 Laghouat, AG\n",
      "datacoverage                  1.0\n",
      "id                  CITY:AG000008\n",
      "source          locations_13.json\n",
      "Name: 0, dtype: object\n",
      "**********\n",
      "Source :\n",
      "locations_13.json\n"
     ]
    }
   ],
   "source": [
    "# \n",
    "# record = df1[df1['id'] == 'CITY:TU000041']\n",
    "\n",
    "# if not record.empty:\n",
    "#     print(\"Record found\")\n",
    "#     print (record)\n",
    "#     print(\"This record came from the file:\", record['source'].iloc[0])\n",
    "# else:\n",
    "#     print(\"Record with city id CITY:TU000041 not found\")\n",
    "\n",
    "\n",
    "record = df[df['id'] == \"CITY:AG000008\"]\n",
    "if not record.empty:\n",
    "    print(\"Record :\")\n",
    "    print(record.iloc[0])\n",
    "    print(\"**********\")\n",
    "    print(\"Source :\")\n",
    "    print(record['source'].iloc[0])"
   ]
  },
  {
   "cell_type": "code",
   "execution_count": 94,
   "metadata": {},
   "outputs": [
    {
     "name": "stdout",
     "output_type": "stream",
     "text": [
      "Record :\n",
      "mindate                1908-09-01\n",
      "maxdate                2024-04-21\n",
      "name             Buenos Aires, AR\n",
      "datacoverage                  1.0\n",
      "id                  CITY:AR000002\n",
      "source          locations_33.json\n",
      "Name: 0, dtype: object\n",
      "**********\n",
      "Source :\n",
      "locations_33.json\n"
     ]
    }
   ],
   "source": [
    "# which file did it come from \n",
    "# record = df1[df1['id'] == 'CITY:TU000041']\n",
    "\n",
    "# if not record.empty:\n",
    "#     print(\"Record found\")\n",
    "#     print(record)\n",
    "#     print(\"This record came from the file : \" , record['source'].iloc[0])\n",
    "# else:\n",
    "#     print(\"Record not found\")\n",
    "\n",
    "record = df[df['id'] == \"CITY:AR000002\"]  #CITY:AG000008\n",
    "if not record.empty:\n",
    "    print(\"Record :\")\n",
    "    print(record.iloc[0])\n",
    "    print(\"**********\")\n",
    "    print(\"Source :\")\n",
    "    print(record['source'].iloc[0])\n"
   ]
  },
  {
   "cell_type": "markdown",
   "metadata": {},
   "source": [
    "Show the record with id \"CLIM:0405\". Which file did it come from? "
   ]
  },
  {
   "cell_type": "code",
   "execution_count": 95,
   "metadata": {},
   "outputs": [
    {
     "name": "stdout",
     "output_type": "stream",
     "text": [
      "Record :\n",
      "mindate                1925-09-01\n",
      "maxdate                1991-12-31\n",
      "name                Naxcivian, AJ\n",
      "datacoverage                  1.0\n",
      "id                  CITY:AJ000002\n",
      "source          locations_24.json\n",
      "Name: 0, dtype: object\n",
      "**********\n",
      "Source :\n",
      "locations_24.json\n"
     ]
    }
   ],
   "source": [
    "# Show the record with id \"CITY:AJ000002\". Which file did it come from?\n",
    "# record = df1[df1['id'] == 'ITY:AJ000002']\n",
    "\n",
    "# if not record.empty:\n",
    "#     print(\"Record found\")\n",
    "#     print(record)\n",
    "#     print(\"This record came from the file : \" , record['source'].iloc[0])\n",
    "# else:\n",
    "#     print(\"record not found\")\n",
    "record = df[df['id'] == \"CITY:AJ000002\"]  #CITY:AG000008\n",
    "if not record.empty:\n",
    "    print(\"Record :\")\n",
    "    print(record.iloc[0])\n",
    "    print(\"**********\")\n",
    "    print(\"Source :\")\n",
    "    print(record['source'].iloc[0])\n",
    "\n"
   ]
  },
  {
   "cell_type": "markdown",
   "metadata": {},
   "source": [
    "How many unique values are there for the source column in the DataFrame?"
   ]
  },
  {
   "cell_type": "code",
   "execution_count": 99,
   "metadata": {},
   "outputs": [
    {
     "name": "stdout",
     "output_type": "stream",
     "text": [
      "Number of unique values in the 'source' column: 39\n",
      "Number of unique values in the 'source' column : 39\n"
     ]
    }
   ],
   "source": [
    "# \n",
    "# item_counts = df[\"source\"].value_counts()\n",
    "# print(item_counts)\n",
    "\n",
    "unique_source = df['source'].nunique()\n",
    "print(\"Number of unique values in the 'source' column :\", unique_source)"
   ]
  },
  {
   "cell_type": "markdown",
   "metadata": {},
   "source": [
    "How many records did the locations_38.json file contain?"
   ]
  },
  {
   "cell_type": "code",
   "execution_count": 102,
   "metadata": {},
   "outputs": [
    {
     "name": "stdout",
     "output_type": "stream",
     "text": [
      "0\n"
     ]
    }
   ],
   "source": [
    "# records_with_source_38 = df[df['source'] == \"locations_38.json\"]\n",
    "# num_records_with_source_38 = len(records_with_source_38)\n",
    "# print(num_records_with_source_38)\n",
    "\n",
    "records_source38 = df[df['source'] == \"locations_38.json\"]\n",
    "num_records_with_source38 = len(records_source38)\n",
    "print(num_records_with_source38)"
   ]
  },
  {
   "cell_type": "markdown",
   "metadata": {},
   "source": [
    "We will work with this DataFrame in a subsequent part of the lab. Instead of repeating all of this work again, let's export the DataFrame to a pickled file."
   ]
  },
  {
   "cell_type": "code",
   "execution_count": 103,
   "metadata": {},
   "outputs": [],
   "source": [
    "# export DataFrame to a pickled file called locations_data_frame.pickle. Save it to the data directory.\n",
    "\n",
    "\n",
    "df1.to_pickle(\"locations_data_frame.pickle\")"
   ]
  },
  {
   "cell_type": "code",
   "execution_count": null,
   "metadata": {},
   "outputs": [],
   "source": []
  }
 ],
 "metadata": {
  "kernelspec": {
   "display_name": "Python 3 (ipykernel)",
   "language": "python",
   "name": "python3"
  },
  "language_info": {
   "codemirror_mode": {
    "name": "ipython",
    "version": 3
   },
   "file_extension": ".py",
   "mimetype": "text/x-python",
   "name": "python",
   "nbconvert_exporter": "python",
   "pygments_lexer": "ipython3",
   "version": "3.12.2"
  }
 },
 "nbformat": 4,
 "nbformat_minor": 4
}
