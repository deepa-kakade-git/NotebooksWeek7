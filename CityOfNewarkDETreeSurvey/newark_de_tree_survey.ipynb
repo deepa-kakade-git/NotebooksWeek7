{
 "cells": [
  {
   "cell_type": "code",
   "execution_count": 2,
   "metadata": {},
   "outputs": [],
   "source": [
    "import pandas as pd\n",
    "import numpy as np"
   ]
  },
  {
   "cell_type": "markdown",
   "metadata": {},
   "source": [
    "# Read a comma-separated values (csv) file into DataFrame.\n",
    "\n",
    "The data folder contains a file named \"newark_tree_data.csv\". Read this file into a dataframe.\n",
    "\n",
    "\n",
    "resources:\n",
    "* [Pandas read csv docs](https://pandas.pydata.org/pandas-docs/stable/reference/api/pandas.read_csv.html#pandas.read_csv)"
   ]
  },
  {
   "cell_type": "code",
   "execution_count": 4,
   "metadata": {},
   "outputs": [],
   "source": [
    "# Create DataFrame here.\n",
    "\n",
    "df=pd.read_csv(\"data/newark_tree_data.csv\")\n"
   ]
  },
  {
   "cell_type": "code",
   "execution_count": 5,
   "metadata": {},
   "outputs": [
    {
     "data": {
      "text/html": [
       "<div>\n",
       "<style scoped>\n",
       "    .dataframe tbody tr th:only-of-type {\n",
       "        vertical-align: middle;\n",
       "    }\n",
       "\n",
       "    .dataframe tbody tr th {\n",
       "        vertical-align: top;\n",
       "    }\n",
       "\n",
       "    .dataframe thead th {\n",
       "        text-align: right;\n",
       "    }\n",
       "</style>\n",
       "<table border=\"1\" class=\"dataframe\">\n",
       "  <thead>\n",
       "    <tr style=\"text-align: right;\">\n",
       "      <th></th>\n",
       "      <th>ID</th>\n",
       "      <th>ON</th>\n",
       "      <th>AREA</th>\n",
       "      <th>ADDRESS</th>\n",
       "      <th>STREET</th>\n",
       "      <th>SITE</th>\n",
       "      <th>SIDE</th>\n",
       "      <th>ASSIGNED</th>\n",
       "      <th>COMMON</th>\n",
       "      <th>BOTANICAL</th>\n",
       "      <th>...</th>\n",
       "      <th>IMPROPMULC</th>\n",
       "      <th>IMPROPPRUN</th>\n",
       "      <th>NUTRIENTD</th>\n",
       "      <th>PEST</th>\n",
       "      <th>GIRDLING</th>\n",
       "      <th>STRESS</th>\n",
       "      <th>OHUTILITY</th>\n",
       "      <th>TOP_HEIGHT</th>\n",
       "      <th>CROWN_M</th>\n",
       "      <th>CROWN_DIE</th>\n",
       "    </tr>\n",
       "  </thead>\n",
       "  <tbody>\n",
       "    <tr>\n",
       "      <th>0</th>\n",
       "      <td>11.0</td>\n",
       "      <td>Elan Park</td>\n",
       "      <td>Elan Park</td>\n",
       "      <td>2</td>\n",
       "      <td>Blue Hen Rg</td>\n",
       "      <td>11.0</td>\n",
       "      <td>Front</td>\n",
       "      <td>False</td>\n",
       "      <td>arborvitae, eastern</td>\n",
       "      <td>Thuja occidentalis</td>\n",
       "      <td>...</td>\n",
       "      <td>False</td>\n",
       "      <td>False</td>\n",
       "      <td>False</td>\n",
       "      <td>False</td>\n",
       "      <td>False</td>\n",
       "      <td>False</td>\n",
       "      <td>No</td>\n",
       "      <td>40</td>\n",
       "      <td>0-5%</td>\n",
       "      <td>0-5%</td>\n",
       "    </tr>\n",
       "    <tr>\n",
       "      <th>1</th>\n",
       "      <td>12.0</td>\n",
       "      <td>Elan Park</td>\n",
       "      <td>Elan Park</td>\n",
       "      <td>2</td>\n",
       "      <td>Blue Hen Rg</td>\n",
       "      <td>12.0</td>\n",
       "      <td>Front</td>\n",
       "      <td>False</td>\n",
       "      <td>arborvitae, eastern</td>\n",
       "      <td>Thuja occidentalis</td>\n",
       "      <td>...</td>\n",
       "      <td>False</td>\n",
       "      <td>False</td>\n",
       "      <td>False</td>\n",
       "      <td>False</td>\n",
       "      <td>False</td>\n",
       "      <td>False</td>\n",
       "      <td>No</td>\n",
       "      <td>41</td>\n",
       "      <td>0-5%</td>\n",
       "      <td>0-5%</td>\n",
       "    </tr>\n",
       "    <tr>\n",
       "      <th>2</th>\n",
       "      <td>13.0</td>\n",
       "      <td>Elan Park</td>\n",
       "      <td>Elan Park</td>\n",
       "      <td>2</td>\n",
       "      <td>Blue Hen Rg</td>\n",
       "      <td>13.0</td>\n",
       "      <td>Front</td>\n",
       "      <td>False</td>\n",
       "      <td>pine, eastern white</td>\n",
       "      <td>Pinus strobus</td>\n",
       "      <td>...</td>\n",
       "      <td>False</td>\n",
       "      <td>False</td>\n",
       "      <td>False</td>\n",
       "      <td>False</td>\n",
       "      <td>True</td>\n",
       "      <td>False</td>\n",
       "      <td>No</td>\n",
       "      <td>54</td>\n",
       "      <td>0-5%</td>\n",
       "      <td>6-10%</td>\n",
       "    </tr>\n",
       "    <tr>\n",
       "      <th>3</th>\n",
       "      <td>14.0</td>\n",
       "      <td>Elan Park</td>\n",
       "      <td>Elan Park</td>\n",
       "      <td>2</td>\n",
       "      <td>Blue Hen Rg</td>\n",
       "      <td>14.0</td>\n",
       "      <td>Front</td>\n",
       "      <td>False</td>\n",
       "      <td>whitecedar, Atlantic</td>\n",
       "      <td>Chamaecyparis thyoides</td>\n",
       "      <td>...</td>\n",
       "      <td>False</td>\n",
       "      <td>False</td>\n",
       "      <td>False</td>\n",
       "      <td>False</td>\n",
       "      <td>True</td>\n",
       "      <td>False</td>\n",
       "      <td>No</td>\n",
       "      <td>57</td>\n",
       "      <td>11-15%</td>\n",
       "      <td>26-30%</td>\n",
       "    </tr>\n",
       "    <tr>\n",
       "      <th>4</th>\n",
       "      <td>15.0</td>\n",
       "      <td>Elan Park</td>\n",
       "      <td>Elan Park</td>\n",
       "      <td>2</td>\n",
       "      <td>Blue Hen Rg</td>\n",
       "      <td>15.0</td>\n",
       "      <td>Front</td>\n",
       "      <td>False</td>\n",
       "      <td>whitecedar, Atlantic</td>\n",
       "      <td>Chamaecyparis thyoides</td>\n",
       "      <td>...</td>\n",
       "      <td>False</td>\n",
       "      <td>False</td>\n",
       "      <td>False</td>\n",
       "      <td>False</td>\n",
       "      <td>True</td>\n",
       "      <td>False</td>\n",
       "      <td>No</td>\n",
       "      <td>55</td>\n",
       "      <td>11-15%</td>\n",
       "      <td>21-25%</td>\n",
       "    </tr>\n",
       "  </tbody>\n",
       "</table>\n",
       "<p>5 rows × 54 columns</p>\n",
       "</div>"
      ],
      "text/plain": [
       "     ID         ON       AREA  ADDRESS       STREET  SITE   SIDE  ASSIGNED  \\\n",
       "0  11.0  Elan Park  Elan Park        2  Blue Hen Rg  11.0  Front     False   \n",
       "1  12.0  Elan Park  Elan Park        2  Blue Hen Rg  12.0  Front     False   \n",
       "2  13.0  Elan Park  Elan Park        2  Blue Hen Rg  13.0  Front     False   \n",
       "3  14.0  Elan Park  Elan Park        2  Blue Hen Rg  14.0  Front     False   \n",
       "4  15.0  Elan Park  Elan Park        2  Blue Hen Rg  15.0  Front     False   \n",
       "\n",
       "                 COMMON               BOTANICAL  ... IMPROPMULC  IMPROPPRUN  \\\n",
       "0   arborvitae, eastern      Thuja occidentalis  ...      False       False   \n",
       "1   arborvitae, eastern      Thuja occidentalis  ...      False       False   \n",
       "2   pine, eastern white           Pinus strobus  ...      False       False   \n",
       "3  whitecedar, Atlantic  Chamaecyparis thyoides  ...      False       False   \n",
       "4  whitecedar, Atlantic  Chamaecyparis thyoides  ...      False       False   \n",
       "\n",
       "  NUTRIENTD   PEST GIRDLING STRESS  OHUTILITY  TOP_HEIGHT CROWN_M CROWN_DIE  \n",
       "0     False  False    False  False         No          40    0-5%      0-5%  \n",
       "1     False  False    False  False         No          41    0-5%      0-5%  \n",
       "2     False  False     True  False         No          54    0-5%     6-10%  \n",
       "3     False  False     True  False         No          57  11-15%    26-30%  \n",
       "4     False  False     True  False         No          55  11-15%    21-25%  \n",
       "\n",
       "[5 rows x 54 columns]"
      ]
     },
     "execution_count": 5,
     "metadata": {},
     "output_type": "execute_result"
    }
   ],
   "source": [
    "# Display the first few rows of the DataFrame here.\n",
    "df.head()"
   ]
  },
  {
   "cell_type": "code",
   "execution_count": 10,
   "metadata": {},
   "outputs": [
    {
     "data": {
      "text/plain": [
       "54"
      ]
     },
     "execution_count": 10,
     "metadata": {},
     "output_type": "execute_result"
    }
   ],
   "source": [
    "# How many columns does the DataFrame contain?\n",
    "#len(df.columns)\n",
    "\n",
    "df.shape[1]"
   ]
  },
  {
   "cell_type": "code",
   "execution_count": 9,
   "metadata": {},
   "outputs": [
    {
     "data": {
      "text/plain": [
       "Index(['ID', 'ON', 'AREA', 'ADDRESS', 'STREET', 'SITE', 'SIDE', 'ASSIGNED',\n",
       "       'COMMON', 'BOTANICAL', 'CULTIVAR', 'DBH', 'REMOVAL', 'STEMS', 'COND',\n",
       "       'MAINTPRIM', 'OBSERVE', 'INSPECT', 'LOCATION', 'NOTES', 'DATE', 'TIME',\n",
       "       'STAFF', 'XCOORD', 'YCOORD', 'FAILURE', 'LIKELIHOOD', 'TARGET',\n",
       "       'CONSEQ', 'RISK', 'UNIQUEID', 'EDITTIME', 'SPREAD', 'HEIGHT',\n",
       "       'CLEARANCE', 'DECAYCL', 'DECAYT', 'DECAYRF', 'DAMC', 'DAMT', 'DAMRF',\n",
       "       'CAVITYCL', 'CAVITYT', 'CAVITYRF', 'IMPROPMULC', 'IMPROPPRUN',\n",
       "       'NUTRIENTD', 'PEST', 'GIRDLING', 'STRESS', 'OHUTILITY', 'TOP_HEIGHT',\n",
       "       'CROWN_M', 'CROWN_DIE'],\n",
       "      dtype='object')"
      ]
     },
     "execution_count": 9,
     "metadata": {},
     "output_type": "execute_result"
    }
   ],
   "source": [
    "# What attributes (columns) does this DataFrame contain?\n",
    "# pd.set_option('display.max_columns', None)\n",
    "# print(df.describe())\n",
    "\n",
    "df.columns"
   ]
  },
  {
   "cell_type": "markdown",
   "metadata": {},
   "source": [
    "Upon reviewing the columns of the DataFrame, we see that there is already a column named ID that is well suited for an index column.  \n",
    "\n",
    "For the purposes of this lab, we are only going to need a few of the available attributes. The attributes we wish to keep are listed below:\n",
    "* ID\n",
    "* UNIQUEID\n",
    "* COMMON\n",
    "* BOTANICAL\n",
    "* COND\n",
    "* RISK\n",
    "* HEIGHT\n",
    "\n",
    "Let's provide the index_col and the usecols args when we invoke the read_csv method."
   ]
  },
  {
   "cell_type": "code",
   "execution_count": 14,
   "metadata": {},
   "outputs": [],
   "source": [
    "# Create the new DataFrame here.\n",
    "ndf =pd.read_csv(\"data/newark_tree_data.csv\", index_col=\"ID\", usecols=[\"ID\",\"UNIQUEID\",\"BOTANICAL\",\"COND\",\"RISK\",\"HEIGHT\"])"
   ]
  },
  {
   "cell_type": "code",
   "execution_count": 15,
   "metadata": {},
   "outputs": [
    {
     "data": {
      "text/html": [
       "<div>\n",
       "<style scoped>\n",
       "    .dataframe tbody tr th:only-of-type {\n",
       "        vertical-align: middle;\n",
       "    }\n",
       "\n",
       "    .dataframe tbody tr th {\n",
       "        vertical-align: top;\n",
       "    }\n",
       "\n",
       "    .dataframe thead th {\n",
       "        text-align: right;\n",
       "    }\n",
       "</style>\n",
       "<table border=\"1\" class=\"dataframe\">\n",
       "  <thead>\n",
       "    <tr style=\"text-align: right;\">\n",
       "      <th></th>\n",
       "      <th>BOTANICAL</th>\n",
       "      <th>COND</th>\n",
       "      <th>RISK</th>\n",
       "      <th>UNIQUEID</th>\n",
       "      <th>HEIGHT</th>\n",
       "    </tr>\n",
       "    <tr>\n",
       "      <th>ID</th>\n",
       "      <th></th>\n",
       "      <th></th>\n",
       "      <th></th>\n",
       "      <th></th>\n",
       "      <th></th>\n",
       "    </tr>\n",
       "  </thead>\n",
       "  <tbody>\n",
       "    <tr>\n",
       "      <th>11.0</th>\n",
       "      <td>Thuja occidentalis</td>\n",
       "      <td>Good</td>\n",
       "      <td>Low</td>\n",
       "      <td>LM 20150929141218</td>\n",
       "      <td>40</td>\n",
       "    </tr>\n",
       "    <tr>\n",
       "      <th>12.0</th>\n",
       "      <td>Thuja occidentalis</td>\n",
       "      <td>Very Good</td>\n",
       "      <td>Low</td>\n",
       "      <td>LM 20150929141418</td>\n",
       "      <td>40</td>\n",
       "    </tr>\n",
       "    <tr>\n",
       "      <th>13.0</th>\n",
       "      <td>Pinus strobus</td>\n",
       "      <td>Good</td>\n",
       "      <td>Low</td>\n",
       "      <td>LM 20150929141844</td>\n",
       "      <td>54</td>\n",
       "    </tr>\n",
       "    <tr>\n",
       "      <th>14.0</th>\n",
       "      <td>Chamaecyparis thyoides</td>\n",
       "      <td>Fair</td>\n",
       "      <td>Low</td>\n",
       "      <td>LM 20150929142424</td>\n",
       "      <td>56</td>\n",
       "    </tr>\n",
       "    <tr>\n",
       "      <th>15.0</th>\n",
       "      <td>Chamaecyparis thyoides</td>\n",
       "      <td>Fair</td>\n",
       "      <td>Low</td>\n",
       "      <td>LM 20150929143018</td>\n",
       "      <td>55</td>\n",
       "    </tr>\n",
       "  </tbody>\n",
       "</table>\n",
       "</div>"
      ],
      "text/plain": [
       "                   BOTANICAL       COND RISK           UNIQUEID  HEIGHT\n",
       "ID                                                                     \n",
       "11.0      Thuja occidentalis       Good  Low  LM 20150929141218      40\n",
       "12.0      Thuja occidentalis  Very Good  Low  LM 20150929141418      40\n",
       "13.0           Pinus strobus       Good  Low  LM 20150929141844      54\n",
       "14.0  Chamaecyparis thyoides       Fair  Low  LM 20150929142424      56\n",
       "15.0  Chamaecyparis thyoides       Fair  Low  LM 20150929143018      55"
      ]
     },
     "execution_count": 15,
     "metadata": {},
     "output_type": "execute_result"
    }
   ],
   "source": [
    "# Display the first few rows of the new DataFrame here.\n",
    "ndf.head()"
   ]
  },
  {
   "cell_type": "markdown",
   "metadata": {},
   "source": [
    "The data narritive specifies that 4,193 sites were inventoried. Use the DataFrame shape attribute to verify the number of rows."
   ]
  },
  {
   "cell_type": "code",
   "execution_count": 16,
   "metadata": {},
   "outputs": [
    {
     "name": "stdout",
     "output_type": "stream",
     "text": [
      "4193\n"
     ]
    }
   ],
   "source": [
    "# How many rows does your DataFrame contain.\n",
    "print(ndf.shape[0])"
   ]
  },
  {
   "cell_type": "markdown",
   "metadata": {},
   "source": [
    "Let's look at the distribution of data for the HEIGHT attribute."
   ]
  },
  {
   "cell_type": "code",
   "execution_count": 18,
   "metadata": {},
   "outputs": [
    {
     "name": "stdout",
     "output_type": "stream",
     "text": [
      "0\n"
     ]
    }
   ],
   "source": [
    "# What is the min height?\n",
    "print(ndf[\"HEIGHT\"].min())"
   ]
  },
  {
   "cell_type": "code",
   "execution_count": 19,
   "metadata": {},
   "outputs": [
    {
     "name": "stdout",
     "output_type": "stream",
     "text": [
      "140\n"
     ]
    }
   ],
   "source": [
    "# What is the max height?\n",
    "print(ndf[\"HEIGHT\"].max())"
   ]
  },
  {
   "cell_type": "code",
   "execution_count": 20,
   "metadata": {},
   "outputs": [
    {
     "data": {
      "text/html": [
       "<div>\n",
       "<style scoped>\n",
       "    .dataframe tbody tr th:only-of-type {\n",
       "        vertical-align: middle;\n",
       "    }\n",
       "\n",
       "    .dataframe tbody tr th {\n",
       "        vertical-align: top;\n",
       "    }\n",
       "\n",
       "    .dataframe thead th {\n",
       "        text-align: right;\n",
       "    }\n",
       "</style>\n",
       "<table border=\"1\" class=\"dataframe\">\n",
       "  <thead>\n",
       "    <tr style=\"text-align: right;\">\n",
       "      <th></th>\n",
       "      <th>BOTANICAL</th>\n",
       "      <th>COND</th>\n",
       "      <th>RISK</th>\n",
       "      <th>UNIQUEID</th>\n",
       "      <th>HEIGHT</th>\n",
       "    </tr>\n",
       "  </thead>\n",
       "  <tbody>\n",
       "    <tr>\n",
       "      <th>count</th>\n",
       "      <td>4193</td>\n",
       "      <td>4087</td>\n",
       "      <td>4087</td>\n",
       "      <td>4193</td>\n",
       "      <td>4193.000000</td>\n",
       "    </tr>\n",
       "    <tr>\n",
       "      <th>unique</th>\n",
       "      <td>159</td>\n",
       "      <td>8</td>\n",
       "      <td>3</td>\n",
       "      <td>4193</td>\n",
       "      <td>NaN</td>\n",
       "    </tr>\n",
       "    <tr>\n",
       "      <th>top</th>\n",
       "      <td>Fraxinus americana</td>\n",
       "      <td>Fair</td>\n",
       "      <td>Low</td>\n",
       "      <td>LM 20150929141218</td>\n",
       "      <td>NaN</td>\n",
       "    </tr>\n",
       "    <tr>\n",
       "      <th>freq</th>\n",
       "      <td>585</td>\n",
       "      <td>1598</td>\n",
       "      <td>3833</td>\n",
       "      <td>1</td>\n",
       "      <td>NaN</td>\n",
       "    </tr>\n",
       "    <tr>\n",
       "      <th>mean</th>\n",
       "      <td>NaN</td>\n",
       "      <td>NaN</td>\n",
       "      <td>NaN</td>\n",
       "      <td>NaN</td>\n",
       "      <td>55.311472</td>\n",
       "    </tr>\n",
       "    <tr>\n",
       "      <th>std</th>\n",
       "      <td>NaN</td>\n",
       "      <td>NaN</td>\n",
       "      <td>NaN</td>\n",
       "      <td>NaN</td>\n",
       "      <td>36.293489</td>\n",
       "    </tr>\n",
       "    <tr>\n",
       "      <th>min</th>\n",
       "      <td>NaN</td>\n",
       "      <td>NaN</td>\n",
       "      <td>NaN</td>\n",
       "      <td>NaN</td>\n",
       "      <td>0.000000</td>\n",
       "    </tr>\n",
       "    <tr>\n",
       "      <th>25%</th>\n",
       "      <td>NaN</td>\n",
       "      <td>NaN</td>\n",
       "      <td>NaN</td>\n",
       "      <td>NaN</td>\n",
       "      <td>23.000000</td>\n",
       "    </tr>\n",
       "    <tr>\n",
       "      <th>50%</th>\n",
       "      <td>NaN</td>\n",
       "      <td>NaN</td>\n",
       "      <td>NaN</td>\n",
       "      <td>NaN</td>\n",
       "      <td>50.000000</td>\n",
       "    </tr>\n",
       "    <tr>\n",
       "      <th>75%</th>\n",
       "      <td>NaN</td>\n",
       "      <td>NaN</td>\n",
       "      <td>NaN</td>\n",
       "      <td>NaN</td>\n",
       "      <td>86.000000</td>\n",
       "    </tr>\n",
       "    <tr>\n",
       "      <th>max</th>\n",
       "      <td>NaN</td>\n",
       "      <td>NaN</td>\n",
       "      <td>NaN</td>\n",
       "      <td>NaN</td>\n",
       "      <td>140.000000</td>\n",
       "    </tr>\n",
       "  </tbody>\n",
       "</table>\n",
       "</div>"
      ],
      "text/plain": [
       "                 BOTANICAL  COND  RISK           UNIQUEID       HEIGHT\n",
       "count                 4193  4087  4087               4193  4193.000000\n",
       "unique                 159     8     3               4193          NaN\n",
       "top     Fraxinus americana  Fair   Low  LM 20150929141218          NaN\n",
       "freq                   585  1598  3833                  1          NaN\n",
       "mean                   NaN   NaN   NaN                NaN    55.311472\n",
       "std                    NaN   NaN   NaN                NaN    36.293489\n",
       "min                    NaN   NaN   NaN                NaN     0.000000\n",
       "25%                    NaN   NaN   NaN                NaN    23.000000\n",
       "50%                    NaN   NaN   NaN                NaN    50.000000\n",
       "75%                    NaN   NaN   NaN                NaN    86.000000\n",
       "max                    NaN   NaN   NaN                NaN   140.000000"
      ]
     },
     "execution_count": 20,
     "metadata": {},
     "output_type": "execute_result"
    }
   ],
   "source": [
    "# How do we acquire count, mean, standard deviation, and distribution information from the DataFrame \n",
    "# by invoking a single method?\n",
    "ndf.describe(include='all')"
   ]
  },
  {
   "cell_type": "markdown",
   "metadata": {},
   "source": [
    "# Plot a histogram using the HEIGHT attribute. \n",
    "\n",
    "resources:\n",
    "* [Magic commands](https://ipython.readthedocs.io/en/stable/interactive/magics.html)\n",
    "* [Pandas Series Hist](https://pandas.pydata.org/pandas-docs/stable/reference/api/pandas.Series.plot.hist.html#pandas.Series.plot.hist)"
   ]
  },
  {
   "cell_type": "code",
   "execution_count": 21,
   "metadata": {},
   "outputs": [],
   "source": [
    "# Apply magic command to display matplotlib images inline\n",
    "%matplotlib inline "
   ]
  },
  {
   "cell_type": "code",
   "execution_count": 23,
   "metadata": {},
   "outputs": [
    {
     "data": {
      "image/png": "[encoded data removed]",
      "text/plain": [
       "<Figure size 640x480 with 1 Axes>"
      ]
     },
     "metadata": {},
     "output_type": "display_data"
    }
   ],
   "source": [
    "# Create a histogram using the HEIGHT attribute here\n",
    "import matplotlib.pyplot as plt\n",
    "\n",
    "plt.hist(ndf['HEIGHT'], bins=10)\n",
    "plt.xlabel('Height')\n",
    "plt.ylabel('Frequency/Count')\n",
    "plt.show()"
   ]
  },
  {
   "cell_type": "markdown",
   "metadata": {},
   "source": [
    "The data narrative specifies the following:\n",
    "\"A total of 4,193 sites were inventoried, including 4,087 trees, 100 stumps, and 6 vacant planting sites\"\n",
    "\n",
    "Earlier, we were able to validate the total number of entries in the DataFrame. Let's now dig in a bit deeper and validate the stumps and vacant planting sites."
   ]
  },
  {
   "cell_type": "code",
   "execution_count": 26,
   "metadata": {},
   "outputs": [
    {
     "data": {
      "text/plain": [
       "100"
      ]
     },
     "execution_count": 26,
     "metadata": {},
     "output_type": "execute_result"
    }
   ],
   "source": [
    "# How many entries are stumps\n",
    "len(df[df['COMMON']=='stump'])"
   ]
  },
  {
   "cell_type": "code",
   "execution_count": 28,
   "metadata": {},
   "outputs": [
    {
     "data": {
      "text/plain": [
       "6"
      ]
     },
     "execution_count": 28,
     "metadata": {},
     "output_type": "execute_result"
    }
   ],
   "source": [
    "# How many entries are vacant sites\n",
    "len(df[df['COMMON'].str.contains('vacant site')])"
   ]
  },
  {
   "cell_type": "code",
   "execution_count": null,
   "metadata": {},
   "outputs": [],
   "source": [
    "# Do these number add up?\n"
   ]
  },
  {
   "cell_type": "markdown",
   "metadata": {},
   "source": [
    "# Plot a bar graph using the COND attribute.\n",
    "\n",
    "resources:\n",
    "* [Pandas Series Bar](https://pandas.pydata.org/pandas-docs/stable/reference/api/pandas.Series.plot.bar.html#pandas.Series.plot.bar)"
   ]
  },
  {
   "cell_type": "code",
   "execution_count": 30,
   "metadata": {},
   "outputs": [],
   "source": [
    "# How can we determine all of the possible values describing the condition of a tree and their associated counts?\n",
    "scond=df.groupby(['COND'])['COND'].count()"
   ]
  },
  {
   "cell_type": "code",
   "execution_count": 31,
   "metadata": {},
   "outputs": [],
   "source": [
    "# Were these already in the order you would want them to be in order for a graph to make sense? \n",
    "# If not, reorder  the Series.\n",
    "\n",
    "scond_sort=scond.sort_values()"
   ]
  },
  {
   "cell_type": "code",
   "execution_count": 32,
   "metadata": {},
   "outputs": [
    {
     "data": {
      "text/plain": [
       "<Axes: xlabel='COND'>"
      ]
     },
     "execution_count": 32,
     "metadata": {},
     "output_type": "execute_result"
    },
    {
     "data": {
      "image/png": "[encoded data removed]",
      "text/plain": [
       "<Figure size 640x480 with 1 Axes>"
      ]
     },
     "metadata": {},
     "output_type": "display_data"
    }
   ],
   "source": [
    "# Plot the Series here\n",
    "scond_sort.plot.bar()"
   ]
  },
  {
   "cell_type": "code",
   "execution_count": 36,
   "metadata": {},
   "outputs": [
    {
     "name": "stdout",
     "output_type": "stream",
     "text": [
      "          ID                           ON  \\\n",
      "118    119.0  George Wilson Center & Park   \n",
      "119    120.0  George Wilson Center & Park   \n",
      "268    269.0             Olan Thomas Park   \n",
      "269    270.0             Olan Thomas Park   \n",
      "270    271.0             Olan Thomas Park   \n",
      "...      ...                          ...   \n",
      "4094  4095.0                 Hawthorne Av   \n",
      "4148  4149.0                    Rahway Dr   \n",
      "4166  4167.0                  Delaware Av   \n",
      "4167  4168.0                  Delaware Av   \n",
      "4174  4175.0                New London Rd   \n",
      "\n",
      "                                                   AREA  ADDRESS  \\\n",
      "118                         George Wilson Center & Park      303   \n",
      "119                         George Wilson Center & Park      303   \n",
      "268                                    Olan Thomas Park     1000   \n",
      "269                                    Olan Thomas Park     1000   \n",
      "270                                    Olan Thomas Park     1000   \n",
      "...                                                 ...      ...   \n",
      "4094                                    Anna Way Basins       24   \n",
      "4148                            Rahway Drive Open Space      945   \n",
      "4166                       Downtown Public Parking Lots        0   \n",
      "4167                       Downtown Public Parking Lots        0   \n",
      "4174  New London Road on EAST side North of Clevelan...      100   \n",
      "\n",
      "              STREET  SITE       SIDE  ASSIGNED COMMON BOTANICAL CULTIVAR  \\\n",
      "118    New London Rd  10.0      Front     False  stump     stump      NaN   \n",
      "119    New London Rd  11.0      Front     False  stump     stump      NaN   \n",
      "268    Paper Mill Rd  31.0      Front     False  stump     stump      NaN   \n",
      "269    Paper Mill Rd  32.0      Front     False  stump     stump      NaN   \n",
      "270    Paper Mill Rd  33.0      Front     False  stump     stump      NaN   \n",
      "...              ...   ...        ...       ...    ...       ...      ...   \n",
      "4094    Hawthorne Av  44.0      Front     False  stump     stump      NaN   \n",
      "4148       Rahway Dr  11.0      Front     False  stump     stump      NaN   \n",
      "4166     Delaware Av  63.0      Front     False  stump     stump      NaN   \n",
      "4167     Delaware Av  64.0      Front     False  stump     stump      NaN   \n",
      "4174  W Cleveland Av   1.0  Side Away     False  stump     stump      NaN   \n",
      "\n",
      "       DBH REMOVAL  STEMS COND MAINTPRIM  OBSERVE  INSPECT LOCATION NOTES  \\\n",
      "118   82.0     NaN    1.0  NaN       NaN      NaN    False     Park   NaN   \n",
      "119   51.0     NaN    1.0  NaN       NaN      NaN    False     Park   NaN   \n",
      "268    9.0     NaN    1.0  NaN       NaN      NaN    False     Park   NaN   \n",
      "269    9.0     NaN    1.0  NaN       NaN      NaN    False     Park   NaN   \n",
      "270    8.0     NaN    1.0  NaN       NaN      NaN    False     Park   NaN   \n",
      "...    ...     ...    ...  ...       ...      ...      ...      ...   ...   \n",
      "4094  17.0     NaN    1.0  NaN       NaN      NaN    False     Park   NaN   \n",
      "4148  25.0     NaN    1.0  NaN       NaN      NaN    False     Park   NaN   \n",
      "4166   7.0     NaN    1.0  NaN       NaN      NaN    False     Park   NaN   \n",
      "4167  27.0     NaN    1.0  NaN       NaN      NaN    False     Park   NaN   \n",
      "4174  15.0     NaN    1.0  NaN       NaN      NaN    False  Streets   NaN   \n",
      "\n",
      "           DATE         TIME STAFF        XCOORD        YCOORD FAILURE  \\\n",
      "118   10/1/2015   9:35:00 AM    LM  558974.96659  615574.67900     NaN   \n",
      "119   10/1/2015   9:36:12 AM    LM  558937.13519  615552.46056     NaN   \n",
      "268   10/5/2015  10:13:19 AM    LM  562765.88659  614798.13624     NaN   \n",
      "269   10/5/2015  10:14:03 AM    LM  562761.97826  614788.75626     NaN   \n",
      "270   10/5/2015  10:14:35 AM    LM  562751.42577  614784.45709     NaN   \n",
      "...         ...          ...   ...           ...           ...     ...   \n",
      "4094  11/3/2015   3:44:46 PM    SR  569158.74441  615672.52238     NaN   \n",
      "4148  11/4/2015  11:57:21 AM    SR  554008.14171  612138.67945     NaN   \n",
      "4166  11/4/2015   2:26:35 PM    SR  564311.76006  612950.82423     NaN   \n",
      "4167  11/4/2015   2:27:03 PM    SR  564313.26366  612927.51841     NaN   \n",
      "4174  11/4/2015   3:17:20 PM    SR  559993.02589  614160.21278     NaN   \n",
      "\n",
      "     LIKELIHOOD TARGET CONSEQ RISK           UNIQUEID               EDITTIME  \\\n",
      "118         NaN    NaN    NaN  NaN  LM 20151001093501   10/1/2015 9:35:01 AM   \n",
      "119         NaN    NaN    NaN  NaN  LM 20151001093612   10/1/2015 9:36:12 AM   \n",
      "268         NaN    NaN    NaN  NaN  LM 20151005101319  10/5/2015 10:13:19 AM   \n",
      "269         NaN    NaN    NaN  NaN  LM 20151005101403  10/5/2015 10:14:03 AM   \n",
      "270         NaN    NaN    NaN  NaN  LM 20151005101436  10/5/2015 10:14:36 AM   \n",
      "...         ...    ...    ...  ...                ...                    ...   \n",
      "4094        NaN    NaN    NaN  NaN  SR 20151103154447   11/3/2015 3:44:47 PM   \n",
      "4148        NaN    NaN    NaN  NaN  SR 20151104115722  11/4/2015 11:57:21 AM   \n",
      "4166        NaN    NaN    NaN  NaN  SR 20151104142636   11/4/2015 2:26:35 PM   \n",
      "4167        NaN    NaN    NaN  NaN  SR 20151104142704   11/4/2015 2:27:03 PM   \n",
      "4174        NaN    NaN    NaN  NaN  SR 20151104151721   11/4/2015 3:39:13 PM   \n",
      "\n",
      "      SPREAD  HEIGHT CLEARANCE  DECAYCL  DECAYT  DECAYRF   DAMC   DAMT  DAMRF  \\\n",
      "118        0       0       NaN    False   False    False  False  False  False   \n",
      "119        0       0       NaN    False   False    False  False  False  False   \n",
      "268        0       0       NaN    False   False    False  False  False  False   \n",
      "269        0       0       NaN    False   False    False  False  False  False   \n",
      "270        0       0       NaN    False   False    False  False  False  False   \n",
      "...      ...     ...       ...      ...     ...      ...    ...    ...    ...   \n",
      "4094       0       0       NaN    False   False    False  False  False  False   \n",
      "4148       0       0       NaN    False   False    False  False  False  False   \n",
      "4166       0       0       NaN    False   False    False  False  False  False   \n",
      "4167       0       0       NaN    False   False    False  False  False  False   \n",
      "4174       0       0       NaN    False   False    False  False  False  False   \n",
      "\n",
      "      CAVITYCL  CAVITYT  CAVITYRF  IMPROPMULC  IMPROPPRUN  NUTRIENTD   PEST  \\\n",
      "118      False    False     False       False       False      False  False   \n",
      "119      False    False     False       False       False      False  False   \n",
      "268      False    False     False       False       False      False  False   \n",
      "269      False    False     False       False       False      False  False   \n",
      "270      False    False     False       False       False      False  False   \n",
      "...        ...      ...       ...         ...         ...        ...    ...   \n",
      "4094     False    False     False       False       False      False  False   \n",
      "4148     False    False     False       False       False      False  False   \n",
      "4166     False    False     False       False       False      False  False   \n",
      "4167     False    False     False       False       False      False  False   \n",
      "4174     False    False     False       False       False      False  False   \n",
      "\n",
      "      GIRDLING  STRESS OHUTILITY  TOP_HEIGHT CROWN_M CROWN_DIE  \n",
      "118      False   False        No           0    0-5%      0-5%  \n",
      "119      False   False        No           0    0-5%      0-5%  \n",
      "268      False   False        No           0    0-5%      0-5%  \n",
      "269      False   False        No           0    0-5%      0-5%  \n",
      "270      False   False        No           0    0-5%      0-5%  \n",
      "...        ...     ...       ...         ...     ...       ...  \n",
      "4094     False   False        No           0    0-5%      0-5%  \n",
      "4148     False   False        No           0    0-5%      0-5%  \n",
      "4166     False   False        No           0    0-5%      0-5%  \n",
      "4167     False   False        No           0    0-5%      0-5%  \n",
      "4174     False   False        No           0    0-5%      0-5%  \n",
      "\n",
      "[106 rows x 54 columns]\n"
     ]
    }
   ],
   "source": [
    "# How many entries have missing values for the COND attribute? Why are these values missing?\n",
    "nan_rows=df[df['COND'].isna()]\n",
    "print(nan_rows)"
   ]
  },
  {
   "cell_type": "markdown",
   "metadata": {},
   "source": [
    "# Plot a pie chart using the RISK attribute."
   ]
  },
  {
   "cell_type": "markdown",
   "metadata": {},
   "source": [
    "resources:\n",
    "* [Pandas Series Pie](https://pandas.pydata.org/pandas-docs/stable/reference/api/pandas.Series.plot.pie.html#pandas.Series.plot.pie)\n",
    "* [matplotlib pie chart docs](https://matplotlib.org/api/pyplot_api.html#matplotlib.pyplot.pie)"
   ]
  },
  {
   "cell_type": "code",
   "execution_count": 40,
   "metadata": {},
   "outputs": [
    {
     "data": {
      "text/plain": [
       "RISK\n",
       "High          13\n",
       "Low         3833\n",
       "Moderate     241\n",
       "Name: RISK, dtype: int64"
      ]
     },
     "execution_count": 40,
     "metadata": {},
     "output_type": "execute_result"
    }
   ],
   "source": [
    "# How can we determine all of the possible values describing the RISK associated with each tree\n",
    "# along with the corresponding row counts?\n",
    "srisk=df.groupby(['RISK'])['RISK'].count()\n",
    "srisk"
   ]
  },
  {
   "cell_type": "code",
   "execution_count": 41,
   "metadata": {},
   "outputs": [],
   "source": [
    "# Create an array containing the colors green, yellow, and orange\n",
    "# When we create our pie chart, the colors should be associated with the attributes according to the specifications below:\n",
    "# Green -> Low\n",
    "# Yellow -> Moderate\n",
    "# Orange -> High\n",
    "\n",
    "colors = {'High': 'blue', 'Low':'green', 'Moderate': 'yellow'}"
   ]
  },
  {
   "cell_type": "code",
   "execution_count": 43,
   "metadata": {},
   "outputs": [
    {
     "data": {
      "text/plain": [
       "([<matplotlib.patches.Wedge at 0x14db7b620>,\n",
       "  <matplotlib.patches.Wedge at 0x14db73dd0>,\n",
       "  <matplotlib.patches.Wedge at 0x14db72870>],\n",
       " [Text(1.0999450792761147, 0.010991932326113531, 'High'),\n",
       "  Text(-1.0831495734361938, 0.19179937842702094, 'Low'),\n",
       "  Text(1.0811789072357736, -0.2026133523449499, 'Moderate')])"
      ]
     },
     "execution_count": 43,
     "metadata": {},
     "output_type": "execute_result"
    },
    {
     "data": {
      "image/png": "[encoded data removed]",
      "text/plain": [
       "<Figure size 640x480 with 1 Axes>"
      ]
     },
     "metadata": {},
     "output_type": "display_data"
    }
   ],
   "source": [
    "# Plot the pie chart here\n",
    "plt.pie(srisk.values, labels=srisk.index, colors=['Blue', 'Green', 'Yellow'])"
   ]
  },
  {
   "cell_type": "code",
   "execution_count": 45,
   "metadata": {},
   "outputs": [
    {
     "name": "stdout",
     "output_type": "stream",
     "text": [
      "          ID                           ON  \\\n",
      "118    119.0  George Wilson Center & Park   \n",
      "119    120.0  George Wilson Center & Park   \n",
      "268    269.0             Olan Thomas Park   \n",
      "269    270.0             Olan Thomas Park   \n",
      "270    271.0             Olan Thomas Park   \n",
      "...      ...                          ...   \n",
      "4094  4095.0                 Hawthorne Av   \n",
      "4148  4149.0                    Rahway Dr   \n",
      "4166  4167.0                  Delaware Av   \n",
      "4167  4168.0                  Delaware Av   \n",
      "4174  4175.0                New London Rd   \n",
      "\n",
      "                                                   AREA  ADDRESS  \\\n",
      "118                         George Wilson Center & Park      303   \n",
      "119                         George Wilson Center & Park      303   \n",
      "268                                    Olan Thomas Park     1000   \n",
      "269                                    Olan Thomas Park     1000   \n",
      "270                                    Olan Thomas Park     1000   \n",
      "...                                                 ...      ...   \n",
      "4094                                    Anna Way Basins       24   \n",
      "4148                            Rahway Drive Open Space      945   \n",
      "4166                       Downtown Public Parking Lots        0   \n",
      "4167                       Downtown Public Parking Lots        0   \n",
      "4174  New London Road on EAST side North of Clevelan...      100   \n",
      "\n",
      "              STREET  SITE       SIDE  ASSIGNED COMMON BOTANICAL CULTIVAR  \\\n",
      "118    New London Rd  10.0      Front     False  stump     stump      NaN   \n",
      "119    New London Rd  11.0      Front     False  stump     stump      NaN   \n",
      "268    Paper Mill Rd  31.0      Front     False  stump     stump      NaN   \n",
      "269    Paper Mill Rd  32.0      Front     False  stump     stump      NaN   \n",
      "270    Paper Mill Rd  33.0      Front     False  stump     stump      NaN   \n",
      "...              ...   ...        ...       ...    ...       ...      ...   \n",
      "4094    Hawthorne Av  44.0      Front     False  stump     stump      NaN   \n",
      "4148       Rahway Dr  11.0      Front     False  stump     stump      NaN   \n",
      "4166     Delaware Av  63.0      Front     False  stump     stump      NaN   \n",
      "4167     Delaware Av  64.0      Front     False  stump     stump      NaN   \n",
      "4174  W Cleveland Av   1.0  Side Away     False  stump     stump      NaN   \n",
      "\n",
      "       DBH REMOVAL  STEMS COND MAINTPRIM  OBSERVE  INSPECT LOCATION NOTES  \\\n",
      "118   82.0     NaN    1.0  NaN       NaN      NaN    False     Park   NaN   \n",
      "119   51.0     NaN    1.0  NaN       NaN      NaN    False     Park   NaN   \n",
      "268    9.0     NaN    1.0  NaN       NaN      NaN    False     Park   NaN   \n",
      "269    9.0     NaN    1.0  NaN       NaN      NaN    False     Park   NaN   \n",
      "270    8.0     NaN    1.0  NaN       NaN      NaN    False     Park   NaN   \n",
      "...    ...     ...    ...  ...       ...      ...      ...      ...   ...   \n",
      "4094  17.0     NaN    1.0  NaN       NaN      NaN    False     Park   NaN   \n",
      "4148  25.0     NaN    1.0  NaN       NaN      NaN    False     Park   NaN   \n",
      "4166   7.0     NaN    1.0  NaN       NaN      NaN    False     Park   NaN   \n",
      "4167  27.0     NaN    1.0  NaN       NaN      NaN    False     Park   NaN   \n",
      "4174  15.0     NaN    1.0  NaN       NaN      NaN    False  Streets   NaN   \n",
      "\n",
      "           DATE         TIME STAFF        XCOORD        YCOORD FAILURE  \\\n",
      "118   10/1/2015   9:35:00 AM    LM  558974.96659  615574.67900     NaN   \n",
      "119   10/1/2015   9:36:12 AM    LM  558937.13519  615552.46056     NaN   \n",
      "268   10/5/2015  10:13:19 AM    LM  562765.88659  614798.13624     NaN   \n",
      "269   10/5/2015  10:14:03 AM    LM  562761.97826  614788.75626     NaN   \n",
      "270   10/5/2015  10:14:35 AM    LM  562751.42577  614784.45709     NaN   \n",
      "...         ...          ...   ...           ...           ...     ...   \n",
      "4094  11/3/2015   3:44:46 PM    SR  569158.74441  615672.52238     NaN   \n",
      "4148  11/4/2015  11:57:21 AM    SR  554008.14171  612138.67945     NaN   \n",
      "4166  11/4/2015   2:26:35 PM    SR  564311.76006  612950.82423     NaN   \n",
      "4167  11/4/2015   2:27:03 PM    SR  564313.26366  612927.51841     NaN   \n",
      "4174  11/4/2015   3:17:20 PM    SR  559993.02589  614160.21278     NaN   \n",
      "\n",
      "     LIKELIHOOD TARGET CONSEQ RISK           UNIQUEID               EDITTIME  \\\n",
      "118         NaN    NaN    NaN  NaN  LM 20151001093501   10/1/2015 9:35:01 AM   \n",
      "119         NaN    NaN    NaN  NaN  LM 20151001093612   10/1/2015 9:36:12 AM   \n",
      "268         NaN    NaN    NaN  NaN  LM 20151005101319  10/5/2015 10:13:19 AM   \n",
      "269         NaN    NaN    NaN  NaN  LM 20151005101403  10/5/2015 10:14:03 AM   \n",
      "270         NaN    NaN    NaN  NaN  LM 20151005101436  10/5/2015 10:14:36 AM   \n",
      "...         ...    ...    ...  ...                ...                    ...   \n",
      "4094        NaN    NaN    NaN  NaN  SR 20151103154447   11/3/2015 3:44:47 PM   \n",
      "4148        NaN    NaN    NaN  NaN  SR 20151104115722  11/4/2015 11:57:21 AM   \n",
      "4166        NaN    NaN    NaN  NaN  SR 20151104142636   11/4/2015 2:26:35 PM   \n",
      "4167        NaN    NaN    NaN  NaN  SR 20151104142704   11/4/2015 2:27:03 PM   \n",
      "4174        NaN    NaN    NaN  NaN  SR 20151104151721   11/4/2015 3:39:13 PM   \n",
      "\n",
      "      SPREAD  HEIGHT CLEARANCE  DECAYCL  DECAYT  DECAYRF   DAMC   DAMT  DAMRF  \\\n",
      "118        0       0       NaN    False   False    False  False  False  False   \n",
      "119        0       0       NaN    False   False    False  False  False  False   \n",
      "268        0       0       NaN    False   False    False  False  False  False   \n",
      "269        0       0       NaN    False   False    False  False  False  False   \n",
      "270        0       0       NaN    False   False    False  False  False  False   \n",
      "...      ...     ...       ...      ...     ...      ...    ...    ...    ...   \n",
      "4094       0       0       NaN    False   False    False  False  False  False   \n",
      "4148       0       0       NaN    False   False    False  False  False  False   \n",
      "4166       0       0       NaN    False   False    False  False  False  False   \n",
      "4167       0       0       NaN    False   False    False  False  False  False   \n",
      "4174       0       0       NaN    False   False    False  False  False  False   \n",
      "\n",
      "      CAVITYCL  CAVITYT  CAVITYRF  IMPROPMULC  IMPROPPRUN  NUTRIENTD   PEST  \\\n",
      "118      False    False     False       False       False      False  False   \n",
      "119      False    False     False       False       False      False  False   \n",
      "268      False    False     False       False       False      False  False   \n",
      "269      False    False     False       False       False      False  False   \n",
      "270      False    False     False       False       False      False  False   \n",
      "...        ...      ...       ...         ...         ...        ...    ...   \n",
      "4094     False    False     False       False       False      False  False   \n",
      "4148     False    False     False       False       False      False  False   \n",
      "4166     False    False     False       False       False      False  False   \n",
      "4167     False    False     False       False       False      False  False   \n",
      "4174     False    False     False       False       False      False  False   \n",
      "\n",
      "      GIRDLING  STRESS OHUTILITY  TOP_HEIGHT CROWN_M CROWN_DIE  \n",
      "118      False   False        No           0    0-5%      0-5%  \n",
      "119      False   False        No           0    0-5%      0-5%  \n",
      "268      False   False        No           0    0-5%      0-5%  \n",
      "269      False   False        No           0    0-5%      0-5%  \n",
      "270      False   False        No           0    0-5%      0-5%  \n",
      "...        ...     ...       ...         ...     ...       ...  \n",
      "4094     False   False        No           0    0-5%      0-5%  \n",
      "4148     False   False        No           0    0-5%      0-5%  \n",
      "4166     False   False        No           0    0-5%      0-5%  \n",
      "4167     False   False        No           0    0-5%      0-5%  \n",
      "4174     False   False        No           0    0-5%      0-5%  \n",
      "\n",
      "[106 rows x 54 columns]\n"
     ]
    }
   ],
   "source": [
    "# How many entries have missing values for the RISK attribute? Why are these values missing?\n",
    "nan_rows_risk=df[df['RISK'].isna()]\n",
    "print(nan_rows)"
   ]
  },
  {
   "cell_type": "markdown",
   "metadata": {},
   "source": [
    "# Indexing"
   ]
  },
  {
   "cell_type": "code",
   "execution_count": 46,
   "metadata": {},
   "outputs": [
    {
     "data": {
      "text/plain": [
       "ID                            12.0\n",
       "ON                       Elan Park\n",
       "AREA                     Elan Park\n",
       "ADDRESS                          2\n",
       "STREET                 Blue Hen Rg\n",
       "SITE                          12.0\n",
       "SIDE                         Front\n",
       "ASSIGNED                     False\n",
       "COMMON         arborvitae, eastern\n",
       "BOTANICAL       Thuja occidentalis\n",
       "CULTIVAR                       NaN\n",
       "DBH                           11.0\n",
       "REMOVAL                        NaN\n",
       "STEMS                          1.0\n",
       "COND                     Very Good\n",
       "MAINTPRIM                      NaN\n",
       "OBSERVE                        NaN\n",
       "INSPECT                      False\n",
       "LOCATION                      Park\n",
       "NOTES                          NaN\n",
       "DATE                     9/29/2015\n",
       "TIME                    2:14:17 PM\n",
       "STAFF                           LM\n",
       "XCOORD                553196.93222\n",
       "YCOORD                611651.08843\n",
       "FAILURE                 Improbable\n",
       "LIKELIHOOD                Unlikely\n",
       "TARGET                      Medium\n",
       "CONSEQ                 Significant\n",
       "RISK                           Low\n",
       "UNIQUEID         LM 20150929141418\n",
       "EDITTIME      9/29/2015 2:14:18 PM\n",
       "SPREAD                          15\n",
       "HEIGHT                          40\n",
       "CLEARANCE                      NaN\n",
       "DECAYCL                      False\n",
       "DECAYT                       False\n",
       "DECAYRF                      False\n",
       "DAMC                         False\n",
       "DAMT                         False\n",
       "DAMRF                        False\n",
       "CAVITYCL                     False\n",
       "CAVITYT                      False\n",
       "CAVITYRF                     False\n",
       "IMPROPMULC                   False\n",
       "IMPROPPRUN                   False\n",
       "NUTRIENTD                    False\n",
       "PEST                         False\n",
       "GIRDLING                     False\n",
       "STRESS                       False\n",
       "OHUTILITY                       No\n",
       "TOP_HEIGHT                      41\n",
       "CROWN_M                       0-5%\n",
       "CROWN_DIE                     0-5%\n",
       "Name: 1, dtype: object"
      ]
     },
     "execution_count": 46,
     "metadata": {},
     "output_type": "execute_result"
    }
   ],
   "source": [
    "# Display row by position 1\n",
    "df.iloc[1]"
   ]
  },
  {
   "cell_type": "code",
   "execution_count": 47,
   "metadata": {},
   "outputs": [
    {
     "data": {
      "text/plain": [
       "ID                            11.0\n",
       "ON                       Elan Park\n",
       "AREA                     Elan Park\n",
       "ADDRESS                          2\n",
       "STREET                 Blue Hen Rg\n",
       "SITE                          11.0\n",
       "SIDE                         Front\n",
       "ASSIGNED                     False\n",
       "COMMON         arborvitae, eastern\n",
       "BOTANICAL       Thuja occidentalis\n",
       "CULTIVAR                       NaN\n",
       "DBH                           15.0\n",
       "REMOVAL                        NaN\n",
       "STEMS                          2.0\n",
       "COND                          Good\n",
       "MAINTPRIM                      NaN\n",
       "OBSERVE                        NaN\n",
       "INSPECT                      False\n",
       "LOCATION                      Park\n",
       "NOTES                          NaN\n",
       "DATE                     9/29/2015\n",
       "TIME                    2:12:18 PM\n",
       "STAFF                           LM\n",
       "XCOORD                553199.23595\n",
       "YCOORD                611651.08843\n",
       "FAILURE                   Possible\n",
       "LIKELIHOOD                Unlikely\n",
       "TARGET                      Medium\n",
       "CONSEQ                       Minor\n",
       "RISK                           Low\n",
       "UNIQUEID         LM 20150929141218\n",
       "EDITTIME      9/29/2015 2:12:18 PM\n",
       "SPREAD                          16\n",
       "HEIGHT                          40\n",
       "CLEARANCE                      NaN\n",
       "DECAYCL                      False\n",
       "DECAYT                       False\n",
       "DECAYRF                      False\n",
       "DAMC                         False\n",
       "DAMT                         False\n",
       "DAMRF                        False\n",
       "CAVITYCL                     False\n",
       "CAVITYT                      False\n",
       "CAVITYRF                     False\n",
       "IMPROPMULC                   False\n",
       "IMPROPPRUN                   False\n",
       "NUTRIENTD                    False\n",
       "PEST                         False\n",
       "GIRDLING                     False\n",
       "STRESS                       False\n",
       "OHUTILITY                       No\n",
       "TOP_HEIGHT                      40\n",
       "CROWN_M                       0-5%\n",
       "CROWN_DIE                     0-5%\n",
       "Name: 0, dtype: object"
      ]
     },
     "execution_count": 47,
     "metadata": {},
     "output_type": "execute_result"
    }
   ],
   "source": [
    "# Display row by label 1\n",
    "df.loc[0]"
   ]
  },
  {
   "cell_type": "code",
   "execution_count": null,
   "metadata": {},
   "outputs": [],
   "source": []
  }
 ],
 "metadata": {
  "kernelspec": {
   "display_name": "Python 3 (ipykernel)",
   "language": "python",
   "name": "python3"
  },
  "language_info": {
   "codemirror_mode": {
    "name": "ipython",
    "version": 3
   },
   "file_extension": ".py",
   "mimetype": "text/x-python",
   "name": "python",
   "nbconvert_exporter": "python",
   "pygments_lexer": "ipython3",
   "version": "3.12.2"
  }
 },
 "nbformat": 4,
 "nbformat_minor": 4
}
