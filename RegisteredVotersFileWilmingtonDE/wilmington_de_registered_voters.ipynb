{
 "cells": [
  {
   "cell_type": "markdown",
   "metadata": {},
   "source": [
    "Import numpy and pandas."
   ]
  },
  {
   "cell_type": "code",
   "execution_count": 6,
   "metadata": {},
   "outputs": [],
   "source": [
    "import pandas as pd\n",
    "import numpy as np"
   ]
  },
  {
   "cell_type": "markdown",
   "metadata": {},
   "source": [
    "Using the bash magic command, view the list of files inside of the data directory."
   ]
  },
  {
   "cell_type": "code",
   "execution_count": 34,
   "metadata": {},
   "outputs": [
    {
     "name": "stdout",
     "output_type": "stream",
     "text": [
      "ActiveFile-Wilm1thru8-20191015.csv\n",
      "DE-VoterFile-Documentation 20171010.pdf\n"
     ]
    }
   ],
   "source": [
    "%%bash\n",
    "ls data\n",
    "#dir data\n"
   ]
  },
  {
   "cell_type": "markdown",
   "metadata": {},
   "source": [
    "Load the csv file into a Pandas DataFrame."
   ]
  },
  {
   "cell_type": "code",
   "execution_count": 35,
   "metadata": {},
   "outputs": [
    {
     "name": "stdout",
     "output_type": "stream",
     "text": [
      "   UNIQUE-ID     LAST-NAME FIRST-NAME MID-INIT SUFFIX  YEAR-OF-BIRTH HOME-NO  \\\n",
      "0  100234840           ROY    BEVERLY        A    NaN           1952     320   \n",
      "1  100685572      WILLIAMS       LISA        F    NaN           1968     826   \n",
      "2  100485262        HARRIS     JOSEPH        A    III           1963    2616   \n",
      "3  100349191       LAMBORN     GERALD        V    NaN           1958     706   \n",
      "4  100394887  KRYSTOPOLSKI     ANDREW        R    NaN           1981    1009   \n",
      "\n",
      "  HOME-APT   HOME-STREET            HOME-DEV  ... REF-HIST-5  MAIL-NO  \\\n",
      "0     #912      E 5TH ST  HERLIHY HOUSE APTS  ...        NaN      NaN   \n",
      "1      NaN      W 5TH ST                 NaN  ...        NaN      NaN   \n",
      "2      NaN     W 18TH ST                 NaN  ...        NaN      NaN   \n",
      "3      NaN     W 34TH ST                 NaN  ...        NaN      NaN   \n",
      "4      NaN  ANCHORAGE ST                 NaN  ...        NaN      NaN   \n",
      "\n",
      "  MAIL-APT  MAIL-STR  MAIL-CITY  MAIL-STATE  MAIL-ZIP  DATE-LAST-CHG  \\\n",
      "0      NaN       NaN        NaN         NaN       NaN       20180715   \n",
      "1      NaN       NaN        NaN         NaN       NaN       20180715   \n",
      "2      NaN       NaN        NaN         NaN       NaN       20180715   \n",
      "3      NaN       NaN        NaN         NaN       NaN       20190805   \n",
      "4      NaN       NaN        NaN         NaN       NaN       20180715   \n",
      "\n",
      "  CODE-CHANGE STATUS  \n",
      "0          CR      A  \n",
      "1          CR      A  \n",
      "2          CR      A  \n",
      "3          CR      A  \n",
      "4          CR      A  \n",
      "\n",
      "[5 rows x 54 columns]\n"
     ]
    },
    {
     "name": "stderr",
     "output_type": "stream",
     "text": [
      "/var/folders/cn/2lgryvj10c92k5wktj1wn8tr0000gp/T/ipykernel_63164/68060648.py:2: DtypeWarning: Columns (18,32,35,36,37,40,41,42,46) have mixed types. Specify dtype option on import or set low_memory=False.\n",
      "  df= pd.read_csv(\"Data/ActiveFile-Wilm1thru8-20191015.csv\")\n"
     ]
    }
   ],
   "source": [
    "df=pd.DataFrame()\n",
    "df= pd.read_csv(\"Data/ActiveFile-Wilm1thru8-20191015.csv\")\n",
    "print(df.head())"
   ]
  },
  {
   "cell_type": "markdown",
   "metadata": {},
   "source": [
    "Display a list of columns in the DataFrame."
   ]
  },
  {
   "cell_type": "code",
   "execution_count": 10,
   "metadata": {},
   "outputs": [
    {
     "data": {
      "text/plain": [
       "54"
      ]
     },
     "execution_count": 10,
     "metadata": {},
     "output_type": "execute_result"
    }
   ],
   "source": [
    "df.shape[1]"
   ]
  },
  {
   "cell_type": "markdown",
   "metadata": {},
   "source": [
    "What is the shape of this DataFrame? How many columns does each row have? How many rows are there?"
   ]
  },
  {
   "cell_type": "code",
   "execution_count": 11,
   "metadata": {},
   "outputs": [
    {
     "data": {
      "text/plain": [
       "51909"
      ]
     },
     "execution_count": 11,
     "metadata": {},
     "output_type": "execute_result"
    }
   ],
   "source": [
    "df.shape[0]"
   ]
  },
  {
   "cell_type": "code",
   "execution_count": 12,
   "metadata": {},
   "outputs": [
    {
     "name": "stdout",
     "output_type": "stream",
     "text": [
      "(51909, 54)\n"
     ]
    }
   ],
   "source": [
    "print(df.shape)"
   ]
  },
  {
   "cell_type": "code",
   "execution_count": 13,
   "metadata": {},
   "outputs": [
    {
     "data": {
      "text/html": [
       "<div>\n",
       "<style scoped>\n",
       "    .dataframe tbody tr th:only-of-type {\n",
       "        vertical-align: middle;\n",
       "    }\n",
       "\n",
       "    .dataframe tbody tr th {\n",
       "        vertical-align: top;\n",
       "    }\n",
       "\n",
       "    .dataframe thead th {\n",
       "        text-align: right;\n",
       "    }\n",
       "</style>\n",
       "<table border=\"1\" class=\"dataframe\">\n",
       "  <thead>\n",
       "    <tr style=\"text-align: right;\">\n",
       "      <th></th>\n",
       "      <th>UNIQUE-ID</th>\n",
       "      <th>YEAR-OF-BIRTH</th>\n",
       "      <th>HOME-ZIPCODE</th>\n",
       "      <th>ED</th>\n",
       "      <th>RD</th>\n",
       "      <th>SD</th>\n",
       "      <th>CNLEVY</th>\n",
       "      <th>WILM</th>\n",
       "      <th>DATE-REG</th>\n",
       "      <th>PP-HIST-1</th>\n",
       "      <th>...</th>\n",
       "      <th>GEN-HIST-4</th>\n",
       "      <th>GEN-HIST-5</th>\n",
       "      <th>SP-HIST-2</th>\n",
       "      <th>SP-HIST-3</th>\n",
       "      <th>SCHL-HIST-4</th>\n",
       "      <th>SCHL-HIST-5</th>\n",
       "      <th>REF-HIST-4</th>\n",
       "      <th>REF-HIST-5</th>\n",
       "      <th>MAIL-ZIP</th>\n",
       "      <th>DATE-LAST-CHG</th>\n",
       "    </tr>\n",
       "  </thead>\n",
       "  <tbody>\n",
       "    <tr>\n",
       "      <th>count</th>\n",
       "      <td>5.190900e+04</td>\n",
       "      <td>51909.000000</td>\n",
       "      <td>51909.000000</td>\n",
       "      <td>51909.000000</td>\n",
       "      <td>51909.000000</td>\n",
       "      <td>51909.000000</td>\n",
       "      <td>51909.000000</td>\n",
       "      <td>51909.000000</td>\n",
       "      <td>5.190900e+04</td>\n",
       "      <td>51909.000000</td>\n",
       "      <td>...</td>\n",
       "      <td>51909.000000</td>\n",
       "      <td>51909.000000</td>\n",
       "      <td>0.0</td>\n",
       "      <td>0.0</td>\n",
       "      <td>0.0</td>\n",
       "      <td>0.0</td>\n",
       "      <td>0.0</td>\n",
       "      <td>0.0</td>\n",
       "      <td>4.800000e+02</td>\n",
       "      <td>5.190900e+04</td>\n",
       "    </tr>\n",
       "    <tr>\n",
       "      <th>mean</th>\n",
       "      <td>1.007288e+08</td>\n",
       "      <td>1973.077270</td>\n",
       "      <td>19803.345297</td>\n",
       "      <td>5.842860</td>\n",
       "      <td>2.934828</td>\n",
       "      <td>2.236298</td>\n",
       "      <td>6.380859</td>\n",
       "      <td>4.541159</td>\n",
       "      <td>2.004053e+07</td>\n",
       "      <td>416.528617</td>\n",
       "      <td>...</td>\n",
       "      <td>950.978327</td>\n",
       "      <td>728.257566</td>\n",
       "      <td>NaN</td>\n",
       "      <td>NaN</td>\n",
       "      <td>NaN</td>\n",
       "      <td>NaN</td>\n",
       "      <td>NaN</td>\n",
       "      <td>NaN</td>\n",
       "      <td>8.531307e+07</td>\n",
       "      <td>2.018242e+07</td>\n",
       "    </tr>\n",
       "    <tr>\n",
       "      <th>std</th>\n",
       "      <td>3.282878e+05</td>\n",
       "      <td>18.043989</td>\n",
       "      <td>1.928276</td>\n",
       "      <td>3.416253</td>\n",
       "      <td>2.783597</td>\n",
       "      <td>0.804783</td>\n",
       "      <td>2.935444</td>\n",
       "      <td>2.357617</td>\n",
       "      <td>1.295107e+05</td>\n",
       "      <td>816.233924</td>\n",
       "      <td>...</td>\n",
       "      <td>1004.502233</td>\n",
       "      <td>965.935798</td>\n",
       "      <td>NaN</td>\n",
       "      <td>NaN</td>\n",
       "      <td>NaN</td>\n",
       "      <td>NaN</td>\n",
       "      <td>NaN</td>\n",
       "      <td>NaN</td>\n",
       "      <td>9.861152e+07</td>\n",
       "      <td>4.220581e+03</td>\n",
       "    </tr>\n",
       "    <tr>\n",
       "      <th>min</th>\n",
       "      <td>1.000000e+08</td>\n",
       "      <td>1900.000000</td>\n",
       "      <td>19801.000000</td>\n",
       "      <td>1.000000</td>\n",
       "      <td>1.000000</td>\n",
       "      <td>1.000000</td>\n",
       "      <td>4.000000</td>\n",
       "      <td>1.000000</td>\n",
       "      <td>1.956030e+07</td>\n",
       "      <td>0.000000</td>\n",
       "      <td>...</td>\n",
       "      <td>0.000000</td>\n",
       "      <td>0.000000</td>\n",
       "      <td>NaN</td>\n",
       "      <td>NaN</td>\n",
       "      <td>NaN</td>\n",
       "      <td>NaN</td>\n",
       "      <td>NaN</td>\n",
       "      <td>NaN</td>\n",
       "      <td>0.000000e+00</td>\n",
       "      <td>2.016073e+07</td>\n",
       "    </tr>\n",
       "    <tr>\n",
       "      <th>25%</th>\n",
       "      <td>1.004716e+08</td>\n",
       "      <td>1959.000000</td>\n",
       "      <td>19802.000000</td>\n",
       "      <td>3.000000</td>\n",
       "      <td>1.000000</td>\n",
       "      <td>2.000000</td>\n",
       "      <td>4.000000</td>\n",
       "      <td>2.000000</td>\n",
       "      <td>1.996101e+07</td>\n",
       "      <td>0.000000</td>\n",
       "      <td>...</td>\n",
       "      <td>0.000000</td>\n",
       "      <td>0.000000</td>\n",
       "      <td>NaN</td>\n",
       "      <td>NaN</td>\n",
       "      <td>NaN</td>\n",
       "      <td>NaN</td>\n",
       "      <td>NaN</td>\n",
       "      <td>NaN</td>\n",
       "      <td>1.980500e+04</td>\n",
       "      <td>2.018072e+07</td>\n",
       "    </tr>\n",
       "    <tr>\n",
       "      <th>50%</th>\n",
       "      <td>1.007901e+08</td>\n",
       "      <td>1976.000000</td>\n",
       "      <td>19802.000000</td>\n",
       "      <td>6.000000</td>\n",
       "      <td>2.000000</td>\n",
       "      <td>2.000000</td>\n",
       "      <td>4.000000</td>\n",
       "      <td>4.000000</td>\n",
       "      <td>2.008021e+07</td>\n",
       "      <td>0.000000</td>\n",
       "      <td>...</td>\n",
       "      <td>0.000000</td>\n",
       "      <td>0.000000</td>\n",
       "      <td>NaN</td>\n",
       "      <td>NaN</td>\n",
       "      <td>NaN</td>\n",
       "      <td>NaN</td>\n",
       "      <td>NaN</td>\n",
       "      <td>NaN</td>\n",
       "      <td>1.989900e+04</td>\n",
       "      <td>2.018111e+07</td>\n",
       "    </tr>\n",
       "    <tr>\n",
       "      <th>75%</th>\n",
       "      <td>1.010212e+08</td>\n",
       "      <td>1988.000000</td>\n",
       "      <td>19805.000000</td>\n",
       "      <td>9.000000</td>\n",
       "      <td>3.000000</td>\n",
       "      <td>3.000000</td>\n",
       "      <td>10.000000</td>\n",
       "      <td>7.000000</td>\n",
       "      <td>2.014120e+07</td>\n",
       "      <td>0.000000</td>\n",
       "      <td>...</td>\n",
       "      <td>2012.000000</td>\n",
       "      <td>2010.000000</td>\n",
       "      <td>NaN</td>\n",
       "      <td>NaN</td>\n",
       "      <td>NaN</td>\n",
       "      <td>NaN</td>\n",
       "      <td>NaN</td>\n",
       "      <td>NaN</td>\n",
       "      <td>1.980575e+08</td>\n",
       "      <td>2.018112e+07</td>\n",
       "    </tr>\n",
       "    <tr>\n",
       "      <th>max</th>\n",
       "      <td>1.012025e+08</td>\n",
       "      <td>2002.000000</td>\n",
       "      <td>19807.000000</td>\n",
       "      <td>16.000000</td>\n",
       "      <td>16.000000</td>\n",
       "      <td>3.000000</td>\n",
       "      <td>10.000000</td>\n",
       "      <td>8.000000</td>\n",
       "      <td>2.019101e+07</td>\n",
       "      <td>2016.000000</td>\n",
       "      <td>...</td>\n",
       "      <td>2012.000000</td>\n",
       "      <td>2012.000000</td>\n",
       "      <td>NaN</td>\n",
       "      <td>NaN</td>\n",
       "      <td>NaN</td>\n",
       "      <td>NaN</td>\n",
       "      <td>NaN</td>\n",
       "      <td>NaN</td>\n",
       "      <td>3.131317e+08</td>\n",
       "      <td>2.019102e+07</td>\n",
       "    </tr>\n",
       "  </tbody>\n",
       "</table>\n",
       "<p>8 rows × 27 columns</p>\n",
       "</div>"
      ],
      "text/plain": [
       "          UNIQUE-ID  YEAR-OF-BIRTH  HOME-ZIPCODE            ED            RD  \\\n",
       "count  5.190900e+04   51909.000000  51909.000000  51909.000000  51909.000000   \n",
       "mean   1.007288e+08    1973.077270  19803.345297      5.842860      2.934828   \n",
       "std    3.282878e+05      18.043989      1.928276      3.416253      2.783597   \n",
       "min    1.000000e+08    1900.000000  19801.000000      1.000000      1.000000   \n",
       "25%    1.004716e+08    1959.000000  19802.000000      3.000000      1.000000   \n",
       "50%    1.007901e+08    1976.000000  19802.000000      6.000000      2.000000   \n",
       "75%    1.010212e+08    1988.000000  19805.000000      9.000000      3.000000   \n",
       "max    1.012025e+08    2002.000000  19807.000000     16.000000     16.000000   \n",
       "\n",
       "                 SD        CNLEVY          WILM      DATE-REG     PP-HIST-1  \\\n",
       "count  51909.000000  51909.000000  51909.000000  5.190900e+04  51909.000000   \n",
       "mean       2.236298      6.380859      4.541159  2.004053e+07    416.528617   \n",
       "std        0.804783      2.935444      2.357617  1.295107e+05    816.233924   \n",
       "min        1.000000      4.000000      1.000000  1.956030e+07      0.000000   \n",
       "25%        2.000000      4.000000      2.000000  1.996101e+07      0.000000   \n",
       "50%        2.000000      4.000000      4.000000  2.008021e+07      0.000000   \n",
       "75%        3.000000     10.000000      7.000000  2.014120e+07      0.000000   \n",
       "max        3.000000     10.000000      8.000000  2.019101e+07   2016.000000   \n",
       "\n",
       "       ...    GEN-HIST-4    GEN-HIST-5  SP-HIST-2  SP-HIST-3  SCHL-HIST-4  \\\n",
       "count  ...  51909.000000  51909.000000        0.0        0.0          0.0   \n",
       "mean   ...    950.978327    728.257566        NaN        NaN          NaN   \n",
       "std    ...   1004.502233    965.935798        NaN        NaN          NaN   \n",
       "min    ...      0.000000      0.000000        NaN        NaN          NaN   \n",
       "25%    ...      0.000000      0.000000        NaN        NaN          NaN   \n",
       "50%    ...      0.000000      0.000000        NaN        NaN          NaN   \n",
       "75%    ...   2012.000000   2010.000000        NaN        NaN          NaN   \n",
       "max    ...   2012.000000   2012.000000        NaN        NaN          NaN   \n",
       "\n",
       "       SCHL-HIST-5  REF-HIST-4  REF-HIST-5      MAIL-ZIP  DATE-LAST-CHG  \n",
       "count          0.0         0.0         0.0  4.800000e+02   5.190900e+04  \n",
       "mean           NaN         NaN         NaN  8.531307e+07   2.018242e+07  \n",
       "std            NaN         NaN         NaN  9.861152e+07   4.220581e+03  \n",
       "min            NaN         NaN         NaN  0.000000e+00   2.016073e+07  \n",
       "25%            NaN         NaN         NaN  1.980500e+04   2.018072e+07  \n",
       "50%            NaN         NaN         NaN  1.989900e+04   2.018111e+07  \n",
       "75%            NaN         NaN         NaN  1.980575e+08   2.018112e+07  \n",
       "max            NaN         NaN         NaN  3.131317e+08   2.019102e+07  \n",
       "\n",
       "[8 rows x 27 columns]"
      ]
     },
     "execution_count": 13,
     "metadata": {},
     "output_type": "execute_result"
    }
   ],
   "source": [
    "df.describe()"
   ]
  },
  {
   "cell_type": "markdown",
   "metadata": {},
   "source": [
    "# HOME ZIP CODE"
   ]
  },
  {
   "cell_type": "markdown",
   "metadata": {},
   "source": [
    "Group objects using the HOME-ZIPCODE column. Assign the value to a variable called grouped_zc.  \n",
    "[Pandas Groupby User Guide](https://pandas.pydata.org/pandas-docs/stable/user_guide/groupby.html)"
   ]
  },
  {
   "cell_type": "code",
   "execution_count": 37,
   "metadata": {},
   "outputs": [
    {
     "name": "stdout",
     "output_type": "stream",
     "text": [
      "<pandas.core.groupby.generic.DataFrameGroupBy object at 0x123487fe0>\n"
     ]
    }
   ],
   "source": [
    "grouped_zc=df.groupby('HOME-ZIPCODE')\n",
    "print(grouped_zc)"
   ]
  },
  {
   "cell_type": "markdown",
   "metadata": {},
   "source": [
    "What type of object is grouped_zc?"
   ]
  },
  {
   "cell_type": "code",
   "execution_count": 38,
   "metadata": {},
   "outputs": [
    {
     "name": "stdout",
     "output_type": "stream",
     "text": [
      "<class 'pandas.core.groupby.generic.DataFrameGroupBy'>\n"
     ]
    }
   ],
   "source": [
    "print(type(grouped_zc))"
   ]
  },
  {
   "cell_type": "markdown",
   "metadata": {},
   "source": [
    "DataFrameGroupBy objects contain a groups attribute. Display the value of the groups attribute belonging to the grouped_zc object."
   ]
  },
  {
   "cell_type": "code",
   "execution_count": 40,
   "metadata": {},
   "outputs": [
    {
     "data": {
      "text/plain": [
       "{19801: [0, 1, 10, 12, 13, 15, 16, 20, 24, 34, 55, 56, 57, 58, 62, 64, 65, 67, 79, 92, 94, 95, 98, 102, 103, 110, 118, 120, 121, 129, 131, 136, 146, 149, 151, 157, 158, 173, 174, 180, 184, 188, 194, 197, 198, 202, 203, 210, 211, 215, 222, 223, 228, 229, 233, 241, 242, 263, 278, 281, 282, 284, 285, 286, 287, 288, 291, 292, 293, 294, 300, 301, 302, 310, 311, 312, 316, 317, 321, 322, 323, 324, 327, 333, 334, 336, 337, 339, 340, 343, 344, 345, 346, 347, 348, 349, 354, 357, 365, 372, ...], 19802: [3, 5, 11, 21, 29, 30, 31, 38, 39, 40, 45, 46, 51, 52, 53, 54, 59, 60, 61, 68, 69, 70, 76, 77, 78, 80, 84, 85, 88, 89, 91, 97, 99, 100, 101, 108, 109, 116, 122, 123, 124, 125, 130, 134, 135, 138, 139, 140, 143, 144, 145, 148, 154, 155, 156, 160, 162, 163, 172, 181, 186, 187, 195, 196, 200, 201, 205, 206, 207, 208, 213, 214, 220, 225, 226, 239, 240, 243, 245, 246, 250, 251, 252, 265, 270, 273, 275, 276, 277, 290, 299, 307, 308, 309, 313, 314, 315, 318, 319, 320, ...], 19805: [4, 6, 7, 8, 14, 17, 18, 19, 22, 23, 25, 26, 27, 32, 33, 35, 36, 37, 41, 42, 43, 44, 47, 49, 50, 63, 66, 71, 72, 73, 74, 75, 81, 82, 86, 87, 90, 93, 104, 105, 107, 111, 112, 113, 115, 117, 119, 126, 127, 128, 132, 133, 137, 141, 142, 147, 152, 153, 159, 161, 164, 165, 166, 167, 168, 175, 176, 177, 178, 179, 182, 183, 185, 189, 190, 191, 192, 199, 209, 212, 216, 217, 218, 221, 227, 230, 231, 232, 234, 235, 236, 237, 244, 247, 248, 249, 253, 254, 255, 256, ...], 19806: [2, 9, 28, 48, 83, 96, 106, 114, 150, 169, 170, 171, 193, 204, 219, 224, 238, 257, 296, 297, 367, 393, 429, 431, 449, 513, 533, 552, 553, 589, 591, 598, 609, 615, 616, 623, 633, 634, 644, 661, 664, 665, 684, 690, 691, 698, 703, 724, 725, 728, 731, 733, 735, 751, 765, 766, 767, 945, 946, 1135, 1170, 1246, 1255, 1322, 1332, 1464, 1491, 1528, 1615, 1616, 1670, 1734, 1759, 1785, 1893, 1894, 1898, 1943, 2053, 2089, 2127, 2129, 2154, 2204, 2294, 2377, 2403, 2518, 2888, 3597, 3731, 3808, 3878, 3879, 3880, 3903, 3904, 3905, 3906, 3907, ...], 19807: [576, 3900, 3901, 3902, 3977, 4595, 5504, 5542, 7186, 7780, 7925, 8051, 9726, 9797, 10091, 10664, 10726, 11217, 11468, 11470, 11695, 11742, 11964, 12656, 12657, 12684, 12855, 16968, 16999, 17542, 17554, 17726, 17728, 17733, 17734, 17797, 17812, 17821, 17839, 18603, 19152, 19643, 20184, 22132, 22278, 25263, 25267, 25269, 36424, 36425, 36434, 36474, 36475, 36537, 36538, 36544, 36546, 36574, 36614, 36615, 36616, 36623, 36631, 36632, 36633, 39112, 39113, 39115, 39136, 39137, 39142, 39143, 39150, 39159, 39171, 39172, 39175, 39179, 39185, 39186, 39191, 39196, 39199, 39202, 39209, 39224, 39225, 39228, 39230, 39236, 39239, 39242, 39247, 39248, 39251, 39254, 39259, 39260, 39261, 39265, ...]}"
      ]
     },
     "execution_count": 40,
     "metadata": {},
     "output_type": "execute_result"
    }
   ],
   "source": [
    "grouped_zc.groups"
   ]
  },
  {
   "cell_type": "markdown",
   "metadata": {},
   "source": [
    "Invoke the size method on the grouped_zc object to find out how many items are associated with each zip code."
   ]
  },
  {
   "cell_type": "code",
   "execution_count": 41,
   "metadata": {},
   "outputs": [],
   "source": [
    "grouped_zc_size=grouped_zc.size()"
   ]
  },
  {
   "cell_type": "markdown",
   "metadata": {},
   "source": [
    "Use a magic command so that matplotlib graphics will display inline."
   ]
  },
  {
   "cell_type": "code",
   "execution_count": 42,
   "metadata": {},
   "outputs": [
    {
     "data": {
      "text/plain": [
       "pandas.core.series.Series"
      ]
     },
     "execution_count": 42,
     "metadata": {},
     "output_type": "execute_result"
    }
   ],
   "source": [
    "%matplotlib inline \n",
    "type(grouped_zc_size)"
   ]
  },
  {
   "cell_type": "markdown",
   "metadata": {},
   "source": [
    "Create a pie chart illustrating the number of voters per zip code."
   ]
  },
  {
   "cell_type": "code",
   "execution_count": 43,
   "metadata": {},
   "outputs": [
    {
     "data": {
      "text/plain": [
       "([<matplotlib.patches.Wedge at 0x12807b470>,\n",
       "  <matplotlib.patches.Wedge at 0x1280790a0>,\n",
       "  <matplotlib.patches.Wedge at 0x1280ac140>,\n",
       "  <matplotlib.patches.Wedge at 0x1280ac7d0>,\n",
       "  <matplotlib.patches.Wedge at 0x1280ace60>],\n",
       " [Text(0.8760967626973386, 0.6651725057391077, '19801'),\n",
       "  Text(-0.7640587521483032, 0.7913369846440758, '19802'),\n",
       "  Text(-0.42112865275664896, -1.0161942028113375, '19805'),\n",
       "  Text(0.9552631610472118, -0.5454102063090577, '19806'),\n",
       "  Text(1.099969521734947, -0.008188483021424423, '19807')],\n",
       " [Text(0.47787096147127556, 0.36282136676678595, '20.7%'),\n",
       "  Text(-0.4167593193536199, 0.4316383552604049, '33.1%'),\n",
       "  Text(-0.22970653786726303, -0.5542877469880022, '30.0%'),\n",
       "  Text(0.5210526332984791, -0.2974964761685769, '16.0%'),\n",
       "  Text(0.5999833754917892, -0.0044664452844133205, '0.2%')])"
      ]
     },
     "execution_count": 43,
     "metadata": {},
     "output_type": "execute_result"
    },
    {
     "data": {
      "image/png": "[encoded data removed]",
      "text/plain": [
       "<Figure size 640x480 with 1 Axes>"
      ]
     },
     "metadata": {},
     "output_type": "display_data"
    }
   ],
   "source": [
    "import matplotlib.pyplot as plt \n",
    "\n",
    "plt.pie(grouped_zc_size.values, labels=grouped_zc_size.index, autopct=\"%1.1f%%\")"
   ]
  },
  {
   "cell_type": "markdown",
   "metadata": {},
   "source": [
    "# YEAR OF BIRTH"
   ]
  },
  {
   "cell_type": "markdown",
   "metadata": {},
   "source": [
    "Group objects by the YEAR-OF-BIRTH column. Assign the value to an object called \"grouped_yob\"."
   ]
  },
  {
   "cell_type": "code",
   "execution_count": 45,
   "metadata": {},
   "outputs": [],
   "source": [
    "grouped_yob=df.groupby(\"YEAR-OF-BIRTH\")"
   ]
  },
  {
   "cell_type": "markdown",
   "metadata": {},
   "source": [
    "Display the value of the groups attribute belonging the grouped_yob object."
   ]
  },
  {
   "cell_type": "code",
   "execution_count": 47,
   "metadata": {},
   "outputs": [
    {
     "data": {
      "text/plain": [
       "{1900: [49249], 1912: [5607], 1915: [6983, 7233], 1916: [2773, 16265, 49808], 1917: [2425, 12614], 1918: [7276, 7318, 9601, 14196], 1919: [12435, 17404, 22219, 23508, 42509], 1920: [271, 350, 534, 3468, 3541, 3909, 5485, 5606, 7071, 13684, 14831, 15495, 17447, 22093, 24793, 24934, 26266, 27799, 37052, 37182, 38014, 42055, 47857], 1921: [977, 1048, 1905, 3326, 4066, 7893, 12729, 14907, 16396, 17176, 18116, 18736, 22236, 23100, 24936, 25142, 25335, 25632, 26505, 26592, 28858, 37963, 39804, 41209, 48463, 49695], 1922: [159, 3071, 3299, 4044, 4159, 6558, 9461, 13850, 16113, 16180, 16239, 18005, 20665, 22237, 25317, 30000, 32684, 35901, 37097, 37382, 40184, 41698, 44190, 48984, 49009, 49388, 49791, 50729, 51237], 1923: [5, 1846, 2795, 3753, 4129, 4308, 5505, 6225, 7259, 13599, 14331, 14650, 15951, 16891, 18223, 18380, 22277, 22323, 25012, 25356, 25474, 25523, 31360, 33616, 39803, 41074, 41576, 41661, 41917, 42635, 43422, 49213], 1924: [426, 766, 1311, 1446, 2011, 2461, 2691, 4064, 4106, 5589, 9460, 9525, 9530, 9825, 10355, 12192, 12265, 12710, 13202, 13841, 13905, 17401, 18035, 18041, 18372, 18539, 18596, 24338, 25261, 25543, 25547, 25602, 26287, 28944, 33438, 34072, 34297, 35047, 41130, 42936, 43233, 44138, 44891, 48335, 51653], 1925: [1742, 1794, 3308, 3520, 3946, 5598, 6185, 7115, 11762, 11955, 12642, 17261, 17808, 18061, 22203, 23899, 24330, 25419, 25491, 25493, 26459, 30728, 35643, 36370, 36403, 40227, 41978, 42076, 42155, 42858, 44706, 44854, 49620, 49747, 50785, 51474], 1926: [201, 405, 1770, 3029, 3164, 3894, 3910, 4476, 4524, 5948, 6080, 7563, 11749, 12194, 12673, 14661, 17400, 17953, 17994, 18187, 18758, 19148, 19987, 24065, 24465, 24791, 25258, 25288, 25545, 28620, 29244, 29304, 30719, 32241, 32970, 36481, 36930, 37718, 39033, 39144, 39562, 40224, 41508, 41782, 41930, 42507, 42668, 44230, 44425, 44853, 48576, 48892], 1927: [483, 1107, 1679, 2689, 2845, 3020, 3032, 3636, 3716, 5658, 6730, 6965, 6978, 7258, 7267, 9652, 9788, 11089, 11539, 11578, 11757, 12742, 13227, 13741, 13843, 14084, 16312, 16398, 17219, 18013, 18595, 18731, 24312, 24399, 24447, 24466, 25336, 25571, 30878, 31639, 32871, 33214, 34093, 34148, 35291, 36139, 36240, 36608, 36972, 37495, 37848, 39120, 39516, 40527, 41007, 41533, 41757, 42184, 42567, 42630, 42676, 42766, 44143, 44620, 44729, 49078], 1928: [209, 445, 602, 629, 666, 936, 1170, 3021, 3022, 3947, 4065, 5488, 5499, 5572, 6069, 6180, 7127, 7216, 7302, 7332, 7376, 9532, 9719, 9727, 12312, 12544, 12577, 12615, 12683, 13518, 14503, 14878, 15505, 16118, 16287, 16893, 17077, 17567, 17842, 17910, 18077, 18544, 18720, 18954, 22110, 23375, 23761, 25339, 25420, 26119, 26878, 28528, 29582, 29663, 29983, 30613, 31513, 32159, 32588, 33382, 34444, 36428, 36525, 37432, 37566, 38041, 38475, 41003, 41406, 41493, 42198, 42887, 44542, 44545, 44616, 44785, 48374, 51067], 1929: [1077, 2450, 2510, 2582, 2847, 3119, 3232, 5446, 5779, 6375, 7121, 10031, 12318, 12653, 13425, 14911, 15020, 15021, 15159, 15435, 15487, 17995, 18024, 18070, 18084, 18197, 18217, 18438, 20489, 21016, 21182, 23854, 23867, 23994, 25094, 25221, 25494, 25561, 25598, 25789, 29064, 29247, 29606, 29835, 29942, 32589, 32659, 33675, 34021, 35078, 36210, 36825, 36831, 40054, 40197, 40920, 41008, 41072, 41781, 41981, 44819, 48785, 50003, 51124], 1930: [130, 319, 854, 858, 1910, 2154, 3027, 3343, 4003, 5464, 5876, 6313, 7290, 9366, 9649, 11764, 11767, 12118, 12338, 12532, 12601, 12857, 12927, 13365, 14905, 15379, 16320, 16703, 17044, 17677, 18191, 18240, 18277, 18742, 18759, 18821, 18910, 21685, 22376, 22378, 23398, 23649, 23806, 23951, 24206, 24425, 24684, 24770, 24771, 24971, 25019, 25092, 25360, 25367, 26387, 26471, 26560, 26600, 27961, 27970, 28125, 28321, 28522, 29905, 31754, 33525, 33655, 34218, 34534, 35618, 35843, 36882, 39097, 39175, 39414, 41125, 41208, 41217, 42007, 42251, 42369, 42727, 42764, 42913, 43061, 43131, 43159, 43527, 43692, 44274, 44519, 44546, 44704, 44709, 45197, 45543, 47858, 47930, 48523, 48814, ...], 1931: [398, 601, 1395, 1514, 3028, 3844, 4310, 5314, 5826, 6459, 7315, 9465, 9552, 9647, 9753, 11340, 11371, 11947, 12542, 12543, 12720, 12728, 12768, 13663, 14185, 14195, 14568, 14770, 14781, 15507, 15661, 17563, 17584, 17696, 17698, 17941, 18184, 19743, 21647, 22372, 24215, 24518, 25075, 25161, 25249, 25293, 25294, 25454, 25469, 25502, 27197, 29657, 29664, 29682, 29746, 29894, 30018, 31377, 31683, 32160, 32388, 32554, 34047, 34392, 35259, 35500, 36027, 36109, 36287, 36647, 36710, 36858, 36863, 36932, 37089, 37565, 38757, 38819, 38963, 39126, 39366, 39418, 39986, 40405, 40454, 40722, 40846, 40900, 41347, 41514, 41569, 41715, 41902, 42044, 42122, 42444, 42628, 42664, 42677, 42725, ...], 1932: [101, 215, 501, 1018, 1164, 2049, 2091, 3026, 3642, 3804, 3900, 3920, 3970, 4220, 4329, 4462, 5577, 5933, 6932, 7162, 7311, 9611, 12333, 12469, 12638, 12655, 12903, 13072, 13502, 13673, 14390, 16362, 17197, 17201, 17271, 17631, 17683, 17751, 17790, 17831, 17852, 17930, 18010, 18016, 18508, 18509, 18691, 20664, 22096, 22131, 23596, 23597, 23636, 23656, 23768, 23892, 24191, 24323, 24762, 24832, 25077, 25132, 25177, 25262, 25450, 25485, 25560, 26441, 27470, 27485, 27614, 27859, 28023, 28236, 29364, 29468, 29604, 29970, 30257, 31432, 31797, 32299, 32419, 33395, 34602, 35873, 36048, 36153, 36551, 37067, 38534, 39218, 40649, 40749, 41020, 41028, 41257, 41500, 41515, 41760, ...], 1933: [295, 356, 547, 623, 1138, 1625, 2723, 2959, 4053, 4212, 5605, 5729, 6321, 6355, 6604, 7763, 9505, 9660, 11210, 11615, 11837, 11962, 11975, 12240, 12330, 12436, 12565, 12573, 13198, 13617, 14453, 15631, 15969, 16183, 16959, 17104, 17253, 17336, 17394, 17479, 18001, 18002, 18194, 18747, 19320, 19349, 22092, 23648, 24086, 24202, 24365, 24366, 24970, 25017, 25124, 25218, 25220, 25326, 25514, 25530, 25607, 25640, 26573, 26574, 27390, 29211, 29625, 30040, 30057, 30173, 30272, 30443, 31130, 31460, 31561, 31749, 32431, 32581, 32660, 33067, 33352, 33389, 33659, 34115, 35228, 35312, 36007, 36407, 36541, 36868, 36946, 37690, 38016, 38156, 38438, 38804, 38929, 39124, 40439, 41019, ...], 1934: [419, 530, 589, 780, 990, 1005, 1030, 1091, 2092, 2921, 3117, 3878, 4042, 4905, 4911, 4927, 5723, 5952, 6065, 6267, 6377, 6517, 6885, 7026, 7236, 7361, 7373, 7377, 8281, 8465, 10733, 11239, 11423, 12196, 12527, 12661, 12672, 12685, 12694, 13611, 13669, 13713, 13987, 14058, 14172, 14362, 14872, 15064, 15668, 15690, 16043, 16136, 16288, 16462, 16809, 17436, 17697, 17749, 17935, 18089, 18163, 18280, 18282, 18317, 18358, 19196, 21742, 22113, 22230, 22727, 23607, 23845, 23934, 24009, 24328, 24410, 24809, 25162, 25186, 25238, 25365, 25366, 25926, 26286, 26304, 26942, 27029, 27094, 27772, 28019, 28116, 28704, 28896, 28960, 29455, 29487, 29603, 29668, 29695, 29723, ...], 1935: [136, 329, 381, 676, 812, 962, 1169, 1288, 1509, 1528, 1816, 1882, 2317, 2570, 2919, 3008, 3221, 3796, 4399, 5592, 5893, 6097, 6103, 6309, 6891, 6957, 7312, 7802, 8636, 9038, 9280, 9710, 9782, 11419, 12125, 12239, 12722, 12999, 13379, 13500, 13801, 13897, 14203, 14438, 14459, 14728, 14780, 14833, 15872, 16386, 16834, 16947, 16981, 17767, 17997, 18031, 18069, 18165, 18269, 18713, 18835, 20039, 21571, 21706, 22099, 22669, 23145, 23200, 23865, 24077, 24324, 24412, 24415, 24818, 25069, 25168, 25313, 25448, 25529, 25801, 25898, 26411, 26474, 27085, 27202, 27256, 27467, 27697, 27774, 27905, 28421, 28578, 28606, 28668, 28924, 29054, 29264, 29291, 29417, 29569, ...], 1936: [118, 176, 243, 359, 466, 1165, 1561, 1665, 2255, 3009, 3023, 4041, 4309, 5068, 5922, 6202, 6855, 6857, 7296, 9567, 9683, 9800, 9854, 9905, 12550, 12718, 13358, 13503, 13756, 13874, 13896, 14391, 14398, 14417, 14755, 14954, 14977, 16069, 16093, 16172, 16741, 16945, 17337, 17461, 17488, 18059, 18112, 18146, 18174, 18208, 18323, 18365, 18455, 18497, 18734, 18924, 23638, 23820, 23849, 23857, 23900, 23947, 24031, 24174, 24276, 24407, 24734, 25133, 25316, 25340, 25513, 25611, 25737, 25809, 25992, 26248, 26981, 27301, 27642, 27691, 28101, 28104, 28181, 28509, 28605, 28855, 28966, 29290, 29395, 29531, 29662, 29667, 29778, 29818, 30009, 30397, 30404, 31051, 31089, 31281, ...], 1937: [112, 258, 344, 478, 859, 1065, 1112, 1119, 1559, 1707, 2392, 2612, 3118, 3410, 3644, 3944, 4032, 4062, 4209, 4222, 4739, 5090, 5511, 5835, 6195, 6243, 6717, 6999, 7065, 7172, 7192, 7234, 9462, 9628, 9675, 9873, 10425, 12121, 12287, 12289, 12376, 12853, 12933, 13074, 13177, 13339, 13506, 13677, 13685, 14444, 14737, 15165, 16015, 16063, 16722, 16871, 17076, 17588, 17706, 17925, 18126, 18135, 18148, 18173, 18321, 18407, 18458, 18817, 19119, 19357, 19390, 19985, 22046, 22472, 23380, 23397, 23630, 23646, 23796, 23885, 24250, 24273, 24321, 24362, 24699, 24808, 25156, 25201, 25341, 25382, 25465, 25492, 25562, 25606, 25610, 25633, 25897, 25927, 26112, 26285, ...], 1938: [297, 807, 1785, 2001, 2088, 2188, 2225, 2301, 2642, 3011, 3128, 3372, 3407, 3661, 3769, 3794, 4043, 4067, 4244, 4249, 4460, 4895, 5564, 6025, 6151, 6175, 6266, 6469, 6817, 6944, 7036, 7145, 9065, 9687, 11637, 12334, 12371, 12649, 12709, 12767, 13392, 13720, 14034, 14191, 14233, 14378, 14654, 15466, 15535, 15679, 15766, 15862, 16258, 17047, 17111, 17780, 17857, 17888, 17957, 17989, 18066, 18105, 18111, 18134, 18137, 18211, 18249, 18256, 18359, 18671, 18717, 19238, 19469, 20893, 22207, 23021, 23645, 23794, 23847, 23893, 23972, 24226, 24334, 24367, 24392, 24416, 24448, 24502, 24945, 24995, 25074, 25250, 25364, 25371, 25538, 25688, 25852, 26107, 26140, 26195, ...], 1939: [6, 29, 67, 88, 133, 179, 677, 1111, 1394, 1646, 1837, 1937, 2223, 2239, 2670, 2698, 2999, 3015, 3252, 3376, 3550, 4011, 4047, 4158, 4208, 5139, 5375, 6034, 6107, 6126, 6144, 6281, 6378, 6405, 6608, 6698, 6848, 7015, 7037, 7183, 8068, 9673, 9679, 11573, 11657, 12384, 12704, 12910, 12987, 13252, 13415, 13615, 13746, 13989, 14934, 14935, 15901, 15965, 15994, 16154, 16263, 16424, 17467, 17754, 17955, 18251, 18377, 18528, 21991, 22125, 22288, 23395, 23655, 23693, 23757, 23889, 23931, 24294, 24347, 24384, 24790, 24938, 25015, 25160, 25237, 25325, 25361, 25403, 25447, 25455, 25456, 25532, 25605, 25940, 26031, 26063, 26154, 26260, 26644, 26658, ...], 1940: [184, 210, 391, 513, 608, 686, 768, 888, 1057, 1080, 1255, 1713, 1787, 1788, 1986, 2251, 2836, 3052, 3095, 3102, 3498, 3985, 4046, 4063, 4625, 5306, 5608, 5774, 5846, 6078, 6177, 7048, 7598, 7768, 9274, 9459, 9626, 9693, 10736, 11756, 12325, 12359, 12658, 12717, 13149, 13251, 13577, 13628, 13651, 13654, 14074, 14090, 14525, 15155, 15273, 15795, 15857, 16101, 16531, 16925, 18079, 18108, 18183, 18376, 19099, 19127, 19237, 19399, 20539, 21171, 21579, 22259, 22411, 22437, 22567, 23381, 23602, 23639, 23651, 23833, 23975, 24062, 24278, 24406, 24470, 24512, 24624, 24853, 24872, 24944, 24968, 24998, 25052, 25053, 25119, 25205, 25248, 25256, 25449, 25457, ...], 1941: [7, 598, 725, 773, 1225, 1458, 1558, 1736, 1784, 2374, 2448, 2593, 2643, 2728, 3830, 3984, 4006, 4187, 4651, 4900, 5043, 5235, 5492, 5578, 5959, 6277, 6396, 6599, 6632, 7103, 7249, 7256, 7257, 7381, 7587, 8278, 8937, 9597, 10943, 11233, 11277, 12220, 12692, 12705, 12714, 13012, 13219, 13243, 13592, 13762, 13854, 13867, 13908, 14033, 14357, 14415, 14527, 14609, 14664, 14786, 14891, 15249, 15944, 16348, 16784, 16927, 16984, 17045, 17093, 17145, 17213, 17251, 18090, 18096, 18210, 18361, 18383, 18818, 18890, 19500, 20601, 21278, 21487, 22127, 22336, 22434, 23404, 23585, 23827, 23844, 23896, 23941, 24256, 24660, 24783, 24886, 24994, 25194, 25283, 25295, ...], 1942: [321, 670, 993, 1168, 1201, 1334, 1359, 1430, 1740, 2694, 3030, 3202, 3244, 3287, 3404, 3424, 3450, 3744, 3833, 4107, 5069, 5356, 5627, 5796, 5979, 6374, 6559, 6591, 6614, 6896, 7004, 7138, 7165, 7232, 7237, 7371, 7379, 7824, 8116, 8240, 9566, 11320, 11345, 11648, 11790, 11865, 12390, 12583, 12627, 12654, 12726, 13208, 13531, 13710, 13974, 14599, 14799, 15096, 15472, 15570, 15717, 15993, 16091, 16201, 16211, 16259, 16269, 16385, 16451, 16988, 17235, 17381, 17505, 17582, 17874, 17927, 18312, 18741, 19115, 19550, 19964, 20721, 20985, 21344, 21584, 21623, 21848, 22833, 23614, 23853, 23911, 23973, 24277, 24320, 24368, 24371, 24427, 24468, 24472, 24533, ...], 1943: [147, 372, 393, 427, 438, 443, 516, 614, 890, 960, 1167, 1349, 1587, 1643, 2194, 3012, 3173, 3186, 3411, 3516, 3535, 3701, 3729, 3747, 4002, 4052, 4317, 4891, 5015, 5269, 5565, 5579, 5678, 5733, 5767, 6255, 6782, 6878, 7169, 7178, 7352, 7696, 7728, 7940, 8084, 9247, 9376, 9565, 9618, 9839, 10186, 10672, 11101, 11197, 11566, 11705, 12420, 12505, 12549, 12680, 12775, 12963, 13058, 13062, 13162, 13241, 13318, 13384, 13413, 13534, 13553, 14071, 14219, 14424, 14768, 15181, 15293, 15828, 15989, 16162, 16449, 16729, 16977, 17052, 17137, 17198, 17257, 17305, 17340, 17428, 17463, 17663, 17727, 17985, 18040, 18052, 18145, 18168, 18196, 18418, ...], 1944: [374, 388, 413, 420, 518, 643, 810, 1166, 1180, 1285, 1384, 1499, 1789, 1883, 1933, 2142, 2481, 2635, 2703, 3019, 3176, 3351, 3381, 3429, 3447, 3635, 3740, 3945, 3958, 4252, 4600, 4721, 4766, 4916, 5609, 5868, 6196, 6440, 6453, 6707, 6814, 7191, 7868, 8291, 8889, 9012, 9373, 9610, 9666, 9807, 11265, 11471, 11609, 12320, 12339, 12621, 12725, 12731, 12755, 12994, 13343, 13660, 13763, 14002, 14013, 14055, 14432, 14713, 14720, 14884, 15360, 15553, 15568, 16231, 16406, 16642, 16702, 16867, 16915, 17206, 17240, 17260, 17558, 17916, 18207, 18400, 18489, 18493, 18814, 19440, 20617, 21686, 22176, 22441, 22610, 22952, 23155, 23610, 23751, 23815, ...], 1945: [43, 44, 47, 180, 181, 326, 327, 440, 533, 594, 646, 745, 1322, 1664, 1732, 2058, 2518, 2541, 2701, 2814, 3175, 3293, 3346, 3474, 3648, 3825, 4007, 4152, 4189, 4728, 5079, 5322, 5603, 5964, 6053, 6443, 6444, 6607, 6611, 7205, 7522, 8048, 8914, 8924, 9795, 10985, 11180, 11546, 11775, 11949, 12696, 12890, 13061, 13125, 13210, 13253, 13308, 13753, 14043, 14298, 14315, 14377, 15078, 15440, 15573, 16006, 16041, 16173, 16739, 16795, 17375, 17380, 17590, 17785, 17926, 18537, 18677, 18721, 18837, 18842, 19464, 19624, 19967, 19981, 19984, 21641, 23390, 23623, 23658, 23858, 23910, 24027, 24199, 24329, 24361, 24804, 24863, 24903, 24940, 25054, ...], 1946: [39, 105, 197, 322, 522, 560, 758, 921, 937, 996, 1219, 1350, 1388, 1409, 1463, 1480, 1530, 1578, 1636, 1666, 1783, 1792, 2010, 2237, 2344, 2917, 3039, 3353, 3425, 3457, 3458, 3505, 3772, 3867, 3951, 4013, 4179, 4311, 4570, 5183, 5371, 6314, 6487, 6859, 6912, 6943, 7264, 7268, 7693, 8127, 9190, 9533, 9722, 9790, 10398, 10827, 11028, 11046, 11581, 11658, 11755, 12126, 12255, 12278, 12317, 12510, 12555, 12679, 12778, 13057, 13089, 13330, 13344, 13432, 13597, 13770, 14021, 14088, 14137, 14147, 14220, 14263, 14308, 14327, 14421, 14667, 14686, 14763, 14858, 14875, 14999, 15028, 15221, 16541, 16777, 16862, 16963, 17050, 17063, 17517, ...], 1947: [12, 45, 135, 153, 238, 275, 549, 645, 875, 1082, 1245, 1286, 1786, 2355, 2356, 2445, 2471, 2522, 2667, 2705, 2820, 2987, 3062, 3154, 3311, 3331, 3466, 3490, 3538, 3613, 3688, 3702, 3850, 3954, 4100, 4151, 4221, 4458, 4479, 4586, 4605, 4643, 4655, 4853, 4917, 5145, 5186, 5335, 5510, 5602, 5708, 5710, 5867, 5962, 6072, 6149, 6806, 6818, 6864, 6866, 6977, 6984, 6997, 7007, 7023, 7025, 7054, 7084, 7173, 7287, 7292, 8606, 8850, 8909, 9379, 9388, 10248, 10839, 10973, 11098, 12175, 12347, 12348, 12364, 12533, 12587, 12592, 12711, 12833, 12852, 12934, 12990, 13397, 13641, 13671, 13981, 14057, 14064, 14073, 14135, ...], 1948: [38, 152, 183, 262, 392, 400, 415, 436, 526, 552, 672, 706, 1365, 1374, 1422, 1523, 1680, 1984, 1991, 2040, 2123, 2193, 2250, 2305, 2354, 2379, 2407, 2653, 2806, 2923, 2942, 2955, 2998, 3262, 3274, 3336, 3463, 3504, 3577, 3736, 3745, 3927, 3950, 4097, 4555, 4575, 4764, 4810, 5470, 5599, 5777, 5946, 6018, 6127, 6223, 6282, 6639, 6903, 7667, 7777, 7914, 7937, 7949, 8346, 8801, 8854, 9608, 9632, 9750, 10189, 10309, 10570, 10666, 11361, 11950, 11995, 12049, 12180, 12266, 12272, 12286, 12356, 12380, 12596, 12628, 12668, 12724, 12937, 13142, 13189, 13226, 13237, 13293, 13367, 13571, 13774, 13857, 14106, 14314, 14504, ...], 1949: [55, 57, 493, 500, 550, 627, 656, 667, 709, 984, 1079, 1121, 1220, 1253, 1280, 1560, 1718, 1810, 1813, 1817, 2090, 2217, 2328, 2360, 2416, 2528, 2726, 2863, 2892, 3227, 3243, 3254, 3258, 3294, 3329, 3383, 3476, 3551, 3573, 3774, 3866, 3981, 4234, 4544, 4632, 4641, 4710, 4729, 5742, 5848, 5882, 6013, 6019, 6067, 6224, 6289, 6295, 6312, 6320, 6470, 6538, 6548, 6972, 7085, 7314, 7482, 8513, 9171, 10932, 11599, 11875, 11926, 11963, 11991, 12115, 12199, 12678, 12707, 12908, 13165, 13326, 13355, 13383, 13455, 13657, 13821, 13927, 14016, 14051, 14056, 14192, 14260, 14317, 14428, 14645, 14821, 14847, 15311, 15853, 15962, ...], 1950: [77, 113, 323, 494, 506, 658, 755, 879, 922, 946, 971, 1136, 1177, 1249, 1455, 1519, 1562, 1586, 1648, 1857, 1989, 2128, 2169, 2352, 2403, 2417, 2444, 2720, 2937, 3065, 3236, 3332, 3512, 3517, 3620, 3842, 4096, 4261, 4367, 4429, 4619, 4819, 5174, 5382, 5807, 5861, 5888, 5906, 6176, 6532, 6787, 6901, 6955, 7019, 7254, 7301, 8177, 8306, 8357, 8373, 8566, 8787, 8956, 9095, 9273, 9275, 9490, 9587, 9752, 9841, 9895, 10563, 10813, 11308, 11533, 11787, 11931, 11954, 12024, 12077, 12174, 12267, 12268, 12445, 12633, 12648, 12659, 13114, 13268, 13420, 13465, 13538, 13791, 14042, 14078, 14152, 14271, 14272, 14422, 14443, ...], 1951: [90, 330, 349, 363, 416, 489, 502, 587, 640, 735, 765, 775, 832, 963, 1303, 1469, 1599, 1702, 1799, 1929, 2127, 2283, 2358, 2376, 2414, 2768, 2911, 2930, 2961, 3005, 3010, 3229, 3272, 3355, 3634, 3719, 3865, 3887, 3892, 3895, 3957, 4176, 4612, 4635, 4675, 4730, 4964, 5071, 5494, 5512, 5521, 5586, 5661, 5984, 6114, 6222, 6237, 6269, 6473, 6524, 6656, 7149, 7360, 7459, 7591, 7770, 7807, 8168, 8194, 8271, 8361, 8807, 9438, 9568, 9749, 10308, 10373, 10628, 10863, 10904, 11469, 11580, 12013, 12219, 12324, 12450, 12502, 12575, 12681, 12741, 12931, 12935, 13190, 13270, 13511, 13587, 13607, 13707, 13777, 13904, ...], 1952: [0, 56, 140, 158, 165, 244, 335, 368, 377, 465, 590, 647, 857, 1041, 1144, 1267, 1310, 1403, 1693, 1699, 1760, 1772, 1805, 1860, 1996, 2112, 2260, 2337, 2387, 2390, 2547, 2601, 2747, 2798, 2808, 2850, 2902, 3050, 3099, 3321, 3363, 3621, 3749, 3783, 4045, 4099, 4211, 4615, 4669, 4740, 4827, 4869, 4986, 5188, 5301, 5398, 5400, 5463, 5518, 5673, 5763, 6465, 6535, 6704, 6742, 6756, 6827, 6894, 7006, 7059, 7158, 7217, 7227, 7299, 7718, 8771, 8882, 9099, 9208, 9304, 9559, 9598, 9605, 9620, 9650, 9686, 10422, 10784, 11299, 11466, 11745, 11768, 11771, 11776, 11878, 12064, 12257, 12302, 12367, 12466, ...], 1953: [174, 242, 333, 370, 442, 467, 592, 628, 649, 731, 741, 792, 967, 1105, 1224, 1367, 1370, 1421, 1477, 1659, 1721, 1735, 1849, 1913, 2021, 2046, 2124, 2153, 2285, 2343, 2394, 2418, 2446, 2661, 2759, 2916, 2964, 2985, 3165, 3211, 3251, 3491, 3515, 3617, 3955, 3960, 4008, 4210, 4235, 4240, 4254, 4365, 4424, 4562, 4584, 4734, 4778, 4783, 4875, 4893, 4938, 5058, 5109, 5133, 5342, 5476, 5491, 5660, 5747, 5772, 5860, 5921, 5932, 6369, 6463, 6484, 6501, 6796, 6935, 6973, 7005, 7030, 7052, 7090, 7349, 7356, 7461, 7516, 7539, 7566, 7597, 7612, 7656, 7666, 7814, 7933, 8414, 8778, 8783, 9191, ...], 1954: [132, 148, 161, 253, 274, 287, 332, 346, 348, 529, 536, 559, 626, 869, 882, 909, 1104, 1124, 1150, 1218, 1289, 1407, 1541, 1630, 1734, 1804, 1898, 2009, 2135, 2164, 2269, 2279, 2397, 2545, 2737, 2739, 2823, 2957, 2969, 2972, 3138, 3155, 3289, 3319, 3403, 3462, 3475, 3486, 3624, 3626, 3638, 3657, 3843, 3861, 4223, 4229, 4300, 4301, 4313, 4330, 4334, 4518, 4527, 4591, 4673, 4786, 4939, 5195, 5223, 5305, 5341, 5383, 5402, 5407, 5453, 5517, 5709, 5816, 5895, 5945, 5947, 5983, 6141, 6280, 6383, 6696, 6699, 6703, 6764, 6773, 6793, 6805, 6851, 6861, 6960, 6986, 7118, 7166, 7202, 7387, ...], 1955: [11, 106, 166, 234, 240, 389, 431, 491, 505, 508, 556, 591, 668, 805, 837, 900, 1067, 1106, 1128, 1235, 1318, 1361, 1406, 1524, 1632, 1663, 1671, 1722, 1758, 1771, 1773, 1966, 2017, 2061, 2133, 2185, 2186, 2254, 2271, 2340, 2359, 2534, 2586, 2647, 2652, 2683, 2736, 3046, 3073, 3086, 3100, 3103, 3151, 3271, 3285, 3327, 3335, 3348, 3357, 3379, 3455, 3537, 3574, 3623, 3715, 3810, 3826, 4060, 4204, 4238, 4438, 4742, 4836, 4987, 5233, 5331, 5338, 5926, 6062, 6134, 6164, 6167, 6333, 6434, 6598, 6610, 6674, 6718, 6747, 6754, 6918, 6950, 7055, 7081, 7117, 7120, 7180, 7210, 7464, 7631, ...], 1956: [108, 199, 219, 313, 334, 355, 360, 486, 597, 674, 860, 866, 1027, 1038, 1043, 1081, 1108, 1132, 1134, 1211, 1462, 1657, 1658, 1684, 1698, 1790, 1930, 1970, 2050, 2321, 2327, 2335, 2362, 2505, 2516, 2560, 2566, 2704, 2745, 2894, 2956, 3166, 3196, 3219, 3288, 3339, 3539, 3593, 3771, 3797, 3812, 3899, 3998, 4074, 4271, 4285, 4385, 4449, 4580, 4712, 4733, 4843, 4881, 4921, 4928, 5083, 5137, 5154, 5202, 5226, 5315, 5474, 5575, 5588, 5640, 5675, 5737, 5831, 5904, 5905, 6002, 6012, 6020, 6027, 6123, 6273, 6316, 6393, 6399, 6485, 6534, 6833, 6895, 6909, 7058, 7066, 7176, 7350, 7385, 7526, ...], 1957: [60, 98, 239, 325, 357, 371, 421, 453, 470, 475, 481, 607, 612, 616, 641, 703, 748, 886, 939, 950, 964, 1060, 1069, 1089, 1092, 1295, 1315, 1466, 1491, 1531, 1573, 1579, 1678, 1741, 1762, 1822, 1831, 1916, 1985, 2037, 2048, 2198, 2332, 2353, 2465, 2543, 2568, 2571, 2724, 2929, 3079, 3123, 3208, 3210, 3222, 3228, 3256, 3341, 3370, 3420, 3446, 3553, 3568, 3597, 3622, 3686, 3711, 3712, 3757, 3759, 3767, 3811, 3838, 3880, 4133, 4253, 4255, 4345, 4683, 4741, 4747, 4858, 4860, 4880, 4918, 4969, 5027, 5487, 5689, 5692, 5775, 5825, 5914, 5956, 5994, 6169, 6350, 6550, 6600, 6615, ...], 1958: [3, 50, 74, 129, 138, 169, 268, 272, 279, 294, 353, 407, 432, 441, 525, 542, 636, 797, 829, 835, 881, 938, 955, 1008, 1028, 1101, 1366, 1444, 1485, 1660, 1661, 1674, 1853, 1854, 1904, 1940, 1969, 1994, 1995, 2042, 2102, 2121, 2191, 2224, 2256, 2346, 2393, 2396, 2409, 2419, 2492, 2558, 2585, 2631, 2663, 2666, 2779, 2893, 2896, 2922, 3041, 3098, 3101, 3140, 3178, 3286, 3313, 3349, 3419, 3487, 3554, 3555, 3557, 3611, 3673, 3681, 3690, 3756, 3822, 3851, 4341, 4435, 4664, 4676, 4805, 4816, 4926, 4983, 5048, 5289, 5460, 5540, 5558, 5559, 5590, 5700, 5724, 5735, 5743, 5762, ...], 1959: [15, 16, 20, 36, 62, 72, 211, 236, 302, 385, 409, 535, 638, 801, 825, 838, 873, 966, 1026, 1052, 1120, 1161, 1293, 1325, 1328, 1434, 1464, 1532, 1536, 1537, 1544, 1592, 1639, 1653, 1757, 1759, 1960, 1999, 2054, 2097, 2101, 2226, 2280, 2286, 2313, 2372, 2438, 2540, 2686, 2731, 2755, 2828, 2975, 3241, 3338, 3356, 3477, 3643, 3645, 3687, 3706, 3839, 3937, 4005, 4040, 4117, 4231, 4314, 4316, 4370, 4397, 4417, 4532, 4644, 4687, 4697, 4752, 4820, 4821, 4832, 4847, 4892, 4920, 4942, 5070, 5180, 5193, 5212, 5231, 5477, 5534, 5571, 5582, 5797, 5803, 5916, 5999, 6081, 6189, 6274, ...], 1960: [96, 191, 198, 200, 255, 267, 320, 378, 510, 558, 785, 849, 910, 999, 1039, 1054, 1070, 1086, 1265, 1299, 1424, 1429, 1443, 1513, 1563, 1588, 1603, 1627, 1667, 1695, 1818, 1825, 1895, 1956, 2004, 2116, 2159, 2175, 2199, 2318, 2319, 2389, 2482, 2530, 2634, 2668, 2669, 2713, 2870, 2890, 2980, 3047, 3263, 3291, 3330, 3358, 3461, 3543, 3647, 3760, 3840, 3845, 3872, 3908, 3936, 3963, 3999, 4030, 4142, 4207, 4219, 4286, 4321, 4443, 4486, 4581, 4642, 4839, 4842, 4845, 4868, 4934, 4991, 4999, 5029, 5053, 5080, 5434, 5483, 5495, 5583, 5696, 5732, 5758, 5795, 5844, 5894, 5911, 5955, 5977, ...], 1961: [71, 82, 125, 141, 156, 168, 204, 282, 288, 300, 566, 650, 794, 884, 889, 891, 998, 1009, 1040, 1098, 1191, 1297, 1425, 1459, 1540, 1589, 1600, 1606, 1681, 1842, 2113, 2158, 2261, 2273, 2297, 2302, 2315, 2331, 2351, 2375, 2442, 2536, 2594, 2605, 2616, 2785, 2906, 2945, 3001, 3092, 3108, 3113, 3135, 3156, 3237, 3375, 3459, 3471, 3519, 3583, 3632, 3813, 3873, 3896, 3953, 3968, 4009, 4034, 4180, 4182, 4379, 4423, 4485, 4556, 4595, 4674, 4812, 4878, 4914, 5002, 5074, 5095, 5214, 5319, 5332, 5462, 5481, 5562, 5581, 5587, 5669, 5871, 5879, 6092, 6108, 6125, 6165, 6194, 6197, 6288, ...], 1962: [32, 120, 146, 227, 249, 289, 292, 337, 444, 457, 479, 482, 498, 581, 624, 692, 769, 815, 831, 926, 1006, 1024, 1047, 1066, 1090, 1126, 1143, 1178, 1199, 1229, 1233, 1423, 1520, 1574, 1595, 1655, 1673, 1755, 1791, 1884, 1944, 1972, 1980, 2002, 2031, 2039, 2093, 2126, 2206, 2228, 2264, 2342, 2531, 2613, 2617, 2632, 2650, 2700, 2754, 2757, 2924, 2973, 3024, 3035, 3081, 3094, 3214, 3276, 3297, 3369, 3394, 3423, 3445, 3460, 3484, 3500, 3563, 3572, 3625, 3721, 3784, 3841, 3860, 3975, 4039, 4051, 4054, 4058, 4077, 4230, 4239, 4447, 4468, 4506, 4514, 4620, 4654, 4720, 4782, 4826, ...], 1963: [2, 23, 27, 53, 144, 149, 247, 261, 316, 345, 396, 434, 472, 476, 497, 523, 538, 555, 564, 680, 727, 783, 790, 796, 870, 898, 952, 986, 1012, 1042, 1270, 1305, 1312, 1316, 1337, 1508, 1585, 1683, 1714, 1745, 1775, 1819, 1821, 1889, 1891, 1942, 1950, 1962, 2067, 2131, 2262, 2380, 2398, 2436, 2504, 2511, 2549, 2552, 2581, 2607, 2644, 2709, 2721, 2740, 2778, 2782, 2794, 2860, 2891, 2903, 2905, 2907, 2913, 2920, 2970, 2971, 3018, 3104, 3200, 3206, 3212, 3224, 3350, 3366, 3436, 3518, 3565, 3627, 3654, 3800, 3808, 3852, 3889, 3952, 4016, 4090, 4203, 4366, 4658, 4667, ...], 1964: [102, 157, 160, 223, 224, 286, 306, 324, 417, 452, 461, 527, 632, 818, 852, 885, 913, 925, 949, 1182, 1214, 1243, 1251, 1287, 1319, 1330, 1340, 1393, 1608, 1622, 1635, 1682, 1749, 1793, 1855, 1863, 1917, 1979, 2057, 2069, 2200, 2229, 2316, 2348, 2402, 2480, 2665, 2733, 2884, 2952, 2974, 2990, 3068, 3126, 3218, 3302, 3340, 3371, 3430, 3492, 3507, 3559, 3695, 3792, 3904, 3934, 3961, 3991, 4027, 4218, 4227, 4258, 4298, 4302, 4307, 4325, 4371, 4436, 4466, 4471, 4472, 4522, 4608, 4616, 4670, 4686, 4804, 4811, 4852, 4890, 4952, 4953, 4963, 5019, 5025, 5076, 5244, 5286, 5303, 5394, ...], 1965: [33, 121, 250, 256, 278, 285, 343, 382, 412, 485, 507, 537, 546, 580, 611, 630, 716, 848, 855, 874, 923, 988, 1083, 1123, 1155, 1186, 1213, 1272, 1348, 1415, 1431, 1461, 1631, 1708, 1725, 1820, 1843, 1876, 1902, 1955, 1992, 2055, 2106, 2119, 2183, 2196, 2266, 2270, 2420, 2431, 2432, 2439, 2483, 2487, 2513, 2519, 2620, 2633, 2654, 2719, 2803, 2938, 2982, 3007, 3049, 3106, 3144, 3226, 3295, 3315, 3322, 3344, 3345, 3373, 3398, 3409, 3564, 3664, 3722, 3763, 3766, 3870, 3940, 4035, 4161, 4199, 4256, 4318, 4339, 4388, 4452, 4551, 4614, 4639, 4696, 4831, 5024, 5054, 5066, 5101, ...], 1966: [8, 19, 68, 78, 194, 237, 312, 351, 375, 383, 384, 386, 520, 532, 567, 568, 576, 599, 851, 868, 905, 912, 919, 947, 1046, 1085, 1118, 1146, 1152, 1157, 1171, 1217, 1276, 1342, 1390, 1408, 1493, 1504, 1571, 1618, 1675, 1709, 1737, 1833, 1840, 1861, 1926, 1961, 2014, 2032, 2043, 2070, 2098, 2150, 2214, 2294, 2349, 2391, 2434, 2472, 2475, 2548, 2580, 2646, 2673, 2675, 2743, 2781, 2788, 2830, 2868, 2925, 2932, 2934, 3069, 3133, 3261, 3273, 3279, 3400, 3416, 3434, 3441, 3444, 3485, 3511, 3530, 3628, 3652, 3655, 3724, 3785, 3847, 3921, 3978, 3979, 4116, 4183, 4289, 4401, ...], 1967: [40, 76, 122, 128, 142, 185, 186, 196, 222, 228, 301, 305, 310, 397, 411, 423, 447, 484, 787, 961, 965, 972, 1129, 1210, 1247, 1260, 1376, 1411, 1551, 1554, 1619, 1640, 1641, 1668, 1689, 1744, 1847, 1880, 1938, 2008, 2012, 2033, 2136, 2268, 2304, 2314, 2336, 2455, 2574, 2660, 2674, 2678, 2727, 2742, 2861, 2948, 2981, 3013, 3014, 3025, 3051, 3072, 3150, 3184, 3230, 3307, 3361, 3395, 3414, 3576, 3581, 3582, 3616, 3637, 3651, 3734, 3874, 4018, 4093, 4136, 4156, 4184, 4269, 4272, 4431, 4571, 4622, 4647, 4755, 4769, 4777, 4817, 4835, 4841, 4849, 4883, 4937, 4974, 4990, 5000, ...], 1968: [1, 10, 80, 81, 95, 119, 175, 208, 214, 241, 252, 284, 293, 299, 317, 338, 347, 390, 399, 402, 469, 471, 577, 595, 605, 635, 652, 691, 715, 729, 767, 880, 978, 992, 1019, 1023, 1102, 1151, 1216, 1232, 1274, 1292, 1320, 1321, 1358, 1419, 1439, 1568, 1615, 1827, 1871, 1901, 2027, 2038, 2157, 2181, 2184, 2395, 2421, 2468, 2524, 2657, 2722, 2800, 2846, 2856, 2858, 2885, 2944, 2946, 3074, 3093, 3189, 3209, 3305, 3579, 3607, 3615, 3641, 3676, 3696, 3832, 4015, 4145, 4186, 4257, 4277, 4303, 4412, 4421, 4440, 4444, 4565, 4713, 4717, 4775, 4830, 4877, 4885, 4957, ...], 1969: [18, 84, 103, 107, 154, 163, 173, 260, 456, 492, 548, 561, 583, 619, 633, 651, 804, 928, 945, 951, 959, 987, 995, 1093, 1097, 1103, 1148, 1160, 1172, 1209, 1300, 1338, 1345, 1346, 1347, 1381, 1433, 1448, 1456, 1492, 1510, 1557, 1566, 1601, 1637, 1701, 1748, 1829, 1859, 1873, 1874, 1886, 1892, 1897, 1919, 1920, 1932, 1949, 1974, 2071, 2109, 2197, 2201, 2278, 2298, 2312, 2371, 2440, 2449, 2648, 2677, 2744, 3053, 3059, 3143, 3195, 3233, 3238, 3268, 3328, 3334, 3367, 3374, 3440, 3569, 3692, 3708, 3718, 3776, 3858, 3884, 3891, 3929, 3935, 3971, 3977, 4019, 4092, 4135, 4281, ...], 1970: [22, 26, 48, 97, 115, 151, 164, 220, 246, 341, 366, 408, 428, 474, 490, 620, 621, 648, 687, 759, 772, 808, 826, 833, 878, 934, 1000, 1192, 1215, 1226, 1242, 1269, 1392, 1410, 1428, 1489, 1494, 1553, 1555, 1593, 1705, 1756, 1761, 1802, 1838, 1922, 1967, 2094, 2176, 2367, 2422, 2484, 2618, 2710, 2812, 2844, 2928, 3096, 3111, 3130, 3142, 3161, 3183, 3197, 3318, 3325, 3354, 3385, 3481, 3513, 3584, 3588, 3592, 3680, 3685, 3725, 3768, 3802, 3864, 3897, 3923, 3930, 3965, 4085, 4165, 4205, 4323, 4393, 4407, 4416, 4418, 4430, 4505, 4552, 4711, 4781, 4794, 4806, 4882, 4931, ...], 1971: [52, 126, 143, 178, 203, 207, 225, 230, 235, 280, 281, 291, 307, 488, 509, 514, 588, 662, 695, 720, 728, 789, 843, 862, 906, 1016, 1017, 1068, 1100, 1139, 1145, 1153, 1248, 1250, 1281, 1296, 1383, 1418, 1441, 1449, 1538, 1581, 1616, 1807, 1923, 2047, 2059, 2178, 2205, 2210, 2238, 2334, 2368, 2426, 2435, 2489, 2500, 2501, 2509, 2584, 2627, 2641, 2699, 2716, 2947, 2960, 2979, 3063, 3085, 3097, 3129, 3162, 3408, 3427, 3540, 3545, 3566, 3570, 3575, 3589, 3600, 3612, 3669, 3694, 3883, 3890, 3962, 3972, 3992, 4014, 4049, 4071, 4157, 4168, 4173, 4200, 4247, 4273, 4275, 4288, ...], 1972: [28, 31, 51, 65, 127, 248, 315, 433, 563, 756, 871, 895, 1007, 1034, 1109, 1162, 1179, 1181, 1271, 1309, 1344, 1442, 1467, 1474, 1502, 1516, 1582, 1591, 1602, 1638, 1719, 1731, 1739, 1781, 1867, 1872, 1890, 1973, 1975, 2084, 2208, 2213, 2215, 2244, 2370, 2430, 2485, 2559, 2598, 2603, 2636, 2651, 2662, 2676, 2706, 2717, 2832, 2873, 2908, 2910, 3167, 3190, 3199, 3223, 3245, 3246, 3259, 3337, 3402, 3415, 3428, 3606, 3608, 3631, 3656, 3674, 3705, 3752, 3803, 3824, 3903, 3994, 3996, 4029, 4059, 4115, 4120, 4148, 4171, 4213, 4246, 4382, 4448, 4464, 4483, 4520, 4596, 4633, 4704, 4756, ...], 1973: [17, 70, 117, 123, 124, 283, 414, 422, 477, 496, 519, 562, 675, 707, 844, 924, 927, 944, 968, 994, 1099, 1205, 1241, 1382, 1389, 1402, 1482, 1506, 1712, 1778, 1803, 1879, 1885, 1894, 2063, 2064, 2076, 2082, 2105, 2134, 2182, 2307, 2369, 2579, 2787, 2833, 2835, 2881, 2958, 2996, 3152, 3180, 3215, 3253, 3290, 3317, 3333, 3443, 3478, 3548, 3580, 3602, 3619, 3666, 3741, 3886, 3893, 3911, 3993, 4033, 4048, 4101, 4112, 4172, 4178, 4319, 4327, 4342, 4409, 4599, 4611, 4660, 4718, 4840, 4857, 4924, 4941, 4989, 5010, 5045, 5065, 5155, 5187, 5201, 5232, 5321, 5412, 5431, 5452, 5530, ...], 1974: [9, 41, 155, 205, 217, 270, 311, 328, 406, 455, 495, 584, 625, 732, 770, 800, 802, 887, 954, 989, 1063, 1064, 1072, 1117, 1252, 1445, 1484, 1535, 1548, 1776, 1795, 1836, 1856, 1869, 1952, 1963, 2018, 2024, 2073, 2132, 2203, 2296, 2330, 2473, 2477, 2494, 2495, 2498, 2526, 2535, 2538, 2626, 2682, 2707, 2708, 2715, 2718, 2760, 2826, 2829, 2838, 2875, 2879, 2888, 3070, 3136, 3275, 3435, 3525, 3549, 3614, 3735, 3765, 3781, 3806, 3817, 3829, 3835, 3871, 3915, 3967, 4031, 4082, 4127, 4149, 4290, 4352, 4357, 4358, 4369, 4375, 4469, 4480, 4482, 4519, 4525, 4573, 4606, 4656, 4693, ...], 1975: [54, 91, 298, 358, 424, 429, 657, 661, 736, 980, 1088, 1256, 1332, 1397, 1473, 1647, 1724, 1754, 1797, 1841, 1858, 1865, 1866, 1870, 1928, 1931, 1964, 2025, 2051, 2075, 2085, 2240, 2263, 2282, 2377, 2382, 2437, 2447, 2454, 2493, 2592, 2640, 2729, 2775, 2831, 2839, 2854, 2864, 3216, 3217, 3324, 3454, 3470, 3483, 3503, 3560, 3599, 3668, 3789, 3849, 4023, 4061, 4118, 4128, 4154, 4166, 4195, 4237, 4282, 4349, 4387, 4404, 4427, 4487, 4507, 4523, 4585, 4588, 4648, 4688, 4701, 4793, 4948, 5283, 5290, 5377, 5388, 5421, 5475, 5549, 5561, 5642, 5727, 5730, 5815, 5902, 5935, 5938, 5963, 5980, ...], 1976: [42, 49, 89, 109, 145, 336, 352, 373, 458, 511, 528, 603, 669, 679, 743, 813, 817, 894, 908, 920, 969, 1035, 1053, 1114, 1261, 1282, 1317, 1360, 1369, 1398, 1437, 1556, 1594, 1686, 1815, 1839, 1948, 1976, 1990, 2016, 2120, 2143, 2234, 2497, 2784, 2792, 2809, 2859, 2882, 2883, 2895, 3006, 3056, 3060, 3174, 3281, 3359, 3387, 3578, 3591, 3596, 3639, 3640, 3646, 3693, 3869, 3898, 3980, 3983, 4001, 4012, 4126, 4245, 4287, 4337, 4350, 4454, 4494, 4535, 4543, 4548, 4681, 4685, 4726, 4757, 4792, 4846, 4855, 4912, 5001, 5036, 5122, 5149, 5198, 5300, 5302, 5320, 5437, 5444, 5471, ...], 1977: [13, 35, 93, 94, 171, 182, 354, 367, 376, 454, 499, 517, 531, 539, 571, 665, 683, 710, 734, 793, 840, 902, 985, 1003, 1021, 1055, 1095, 1133, 1188, 1236, 1238, 1263, 1294, 1391, 1427, 1470, 1487, 1517, 1580, 1690, 1729, 1925, 1936, 1953, 2062, 2148, 2172, 2245, 2258, 2289, 2333, 2373, 2378, 2413, 2476, 2554, 2649, 2680, 2697, 2734, 2752, 2767, 2774, 2821, 2824, 2837, 2840, 2899, 2914, 2954, 2983, 3034, 3061, 3082, 3191, 3264, 3292, 3304, 3442, 3456, 3595, 3601, 3700, 3723, 3726, 3731, 3816, 3863, 3901, 3933, 4109, 4138, 4198, 4293, 4322, 4351, 4360, 4422, 4428, 4495, ...], 1978: [30, 111, 187, 221, 266, 269, 296, 303, 342, 395, 446, 451, 462, 463, 688, 726, 760, 776, 786, 795, 819, 865, 941, 1022, 1036, 1062, 1087, 1147, 1176, 1195, 1212, 1239, 1373, 1396, 1400, 1413, 1435, 1438, 1498, 1534, 1614, 1691, 1697, 1774, 1782, 1823, 1826, 1832, 1868, 1945, 1951, 1954, 1959, 2138, 2219, 2220, 2235, 2292, 2293, 2306, 2424, 2427, 2443, 2452, 2453, 2474, 2488, 2521, 2614, 2645, 2687, 2735, 2756, 2799, 2805, 2876, 2940, 3016, 3080, 3109, 3120, 3137, 3149, 3158, 3284, 3352, 3389, 3433, 3561, 3629, 3663, 3665, 3691, 3787, 3795, 3942, 4036, 4083, 4088, 4147, ...], 1979: [87, 116, 167, 202, 218, 229, 245, 361, 364, 403, 437, 449, 575, 585, 586, 593, 613, 637, 696, 700, 774, 806, 823, 845, 861, 896, 1056, 1073, 1113, 1122, 1163, 1187, 1197, 1264, 1440, 1495, 1522, 1526, 1527, 1609, 1669, 1687, 1694, 1720, 1800, 1900, 1908, 1957, 1987, 2003, 2007, 2023, 2035, 2056, 2060, 2079, 2080, 2122, 2167, 2190, 2246, 2288, 2309, 2350, 2357, 2365, 2366, 2469, 2496, 2532, 2565, 2567, 2572, 2684, 2702, 2712, 2732, 2783, 2842, 2880, 2886, 2994, 3075, 3090, 3115, 3194, 3203, 3204, 3342, 3384, 3421, 3547, 3586, 3594, 3618, 3633, 3660, 3703, 3720, 3737, ...], 1980: [58, 66, 92, 139, 170, 192, 193, 290, 387, 401, 430, 448, 468, 524, 606, 615, 639, 663, 737, 746, 761, 777, 821, 827, 876, 914, 917, 931, 948, 981, 1029, 1078, 1127, 1137, 1158, 1159, 1230, 1326, 1426, 1452, 1486, 1496, 1507, 1572, 1605, 1617, 1620, 1656, 1662, 1726, 1767, 1796, 1881, 1909, 1968, 2078, 2095, 2107, 2117, 2125, 2247, 2267, 2291, 2308, 2345, 2383, 2405, 2441, 2527, 2550, 2556, 2591, 2596, 2602, 2611, 2681, 2761, 2769, 2793, 2815, 2834, 2841, 2874, 2936, 3004, 3031, 3055, 3146, 3153, 3160, 3169, 3187, 3192, 3201, 3239, 3265, 3314, 3316, 3413, 3605, ...], 1981: [4, 25, 61, 100, 110, 190, 318, 331, 418, 439, 512, 551, 572, 582, 600, 659, 664, 690, 708, 747, 763, 820, 841, 1025, 1037, 1115, 1190, 1223, 1262, 1333, 1447, 1503, 1567, 1569, 1611, 1613, 1629, 1649, 1672, 1710, 1716, 1768, 1779, 1808, 1835, 1848, 1877, 1878, 1893, 1965, 1978, 2022, 2036, 2045, 2065, 2072, 2086, 2103, 2160, 2177, 2207, 2231, 2253, 2406, 2464, 2499, 2506, 2507, 2508, 2539, 2551, 2557, 2610, 2711, 2725, 2777, 2819, 2825, 2843, 2866, 3037, 3048, 3257, 3266, 3298, 3364, 3365, 3448, 3495, 3501, 3506, 3533, 3552, 3587, 3603, 3609, 3678, 3750, 3761, 3780, ...], 1982: [37, 162, 216, 254, 276, 314, 362, 450, 464, 473, 504, 544, 655, 682, 749, 863, 877, 943, 979, 1059, 1061, 1110, 1154, 1194, 1208, 1231, 1306, 1314, 1323, 1324, 1329, 1336, 1351, 1354, 1364, 1414, 1501, 1511, 1596, 1704, 1780, 1809, 1830, 1983, 2019, 2029, 2141, 2243, 2248, 2265, 2295, 2404, 2412, 2470, 2520, 2753, 2764, 2771, 2772, 2780, 2797, 2848, 2865, 2867, 2872, 2878, 2897, 2900, 2918, 2941, 2963, 2984, 3000, 3078, 3089, 3134, 3179, 3270, 3301, 3382, 3390, 3397, 3399, 3497, 3526, 3529, 3556, 3713, 3733, 3754, 3801, 3819, 3831, 3912, 3938, 3939, 3964, 4004, 4056, 4094, ...], 1983: [69, 131, 188, 206, 257, 263, 380, 459, 541, 671, 782, 803, 847, 867, 915, 1004, 1010, 1015, 1198, 1207, 1234, 1275, 1279, 1283, 1355, 1380, 1387, 1436, 1451, 1525, 1533, 1539, 1549, 1575, 1727, 1743, 1764, 1766, 1777, 1911, 1946, 1988, 2030, 2081, 2104, 2111, 2137, 2149, 2162, 2168, 2221, 2259, 2329, 2386, 2401, 2410, 2411, 2466, 2628, 2637, 2776, 2791, 2811, 2818, 2822, 2950, 2951, 2991, 2995, 3002, 3044, 3112, 3125, 3139, 3141, 3168, 3170, 3220, 3248, 3283, 3405, 3417, 3432, 3452, 3467, 3510, 3527, 3531, 3542, 3590, 3659, 3707, 3739, 3799, 3814, 3855, 3857, 3859, 3959, 4050, ...], 1984: [14, 24, 63, 64, 231, 232, 309, 365, 379, 394, 540, 557, 574, 578, 610, 618, 654, 694, 705, 713, 719, 744, 771, 824, 892, 929, 932, 1049, 1076, 1084, 1222, 1246, 1254, 1266, 1302, 1307, 1368, 1372, 1432, 1475, 1505, 1542, 1543, 1550, 1626, 1628, 1654, 1677, 1700, 1711, 1723, 1738, 1850, 1875, 1918, 1997, 2000, 2052, 2068, 2087, 2165, 2170, 2209, 2339, 2361, 2384, 2385, 2388, 2423, 2429, 2433, 2523, 2569, 2615, 2621, 2658, 2679, 2714, 2770, 2813, 2889, 2988, 3043, 3057, 3084, 3185, 3269, 3277, 3499, 3544, 3546, 3567, 3653, 3742, 3758, 3762, 3782, 3786, 3807, 3828, ...], 1985: [73, 75, 304, 308, 339, 554, 565, 569, 631, 642, 644, 673, 678, 711, 717, 724, 738, 784, 788, 836, 899, 933, 973, 1020, 1045, 1071, 1140, 1183, 1185, 1206, 1308, 1335, 1378, 1401, 1450, 1457, 1483, 1564, 1612, 1769, 1851, 1912, 1941, 2053, 2114, 2152, 2156, 2174, 2218, 2233, 2241, 2249, 2276, 2364, 2459, 2460, 2490, 2606, 2639, 2672, 2692, 2758, 2802, 2851, 2912, 2927, 2931, 2933, 2976, 2992, 3036, 3058, 3088, 3121, 3159, 3181, 3431, 3464, 3496, 3502, 3532, 3630, 3649, 3662, 3683, 3697, 3730, 3788, 3820, 3823, 3919, 3956, 3995, 4024, 4057, 4084, 4110, 4192, 4241, 4262, ...], 1986: [86, 137, 213, 369, 487, 515, 545, 596, 634, 723, 798, 809, 834, 901, 904, 907, 918, 935, 956, 997, 1074, 1278, 1327, 1343, 1353, 1386, 1405, 1417, 1481, 1500, 1546, 1565, 1607, 1633, 1645, 1688, 1730, 1750, 1763, 1887, 1888, 1914, 1915, 1927, 1958, 1971, 1981, 2006, 2066, 2077, 2083, 2108, 2145, 2171, 2216, 2230, 2236, 2284, 2299, 2415, 2467, 2517, 2577, 2638, 2671, 2688, 2730, 2741, 2810, 2855, 2862, 2915, 2967, 2978, 3017, 3040, 3042, 3066, 3077, 3147, 3249, 3347, 3368, 3401, 3465, 3508, 3558, 3682, 3790, 3922, 3924, 3949, 4020, 4069, 4089, 4108, 4111, 4137, 4163, 4228, ...], 1987: [34, 59, 104, 195, 264, 265, 340, 404, 435, 660, 712, 718, 739, 762, 799, 811, 814, 816, 822, 911, 982, 991, 1075, 1131, 1149, 1203, 1244, 1284, 1331, 1363, 1416, 1465, 1468, 1490, 1497, 1515, 1545, 1570, 1624, 1652, 1692, 1844, 1852, 2074, 2096, 2099, 2100, 2110, 2115, 2118, 2129, 2147, 2163, 2166, 2363, 2399, 2478, 2553, 2599, 2609, 2751, 2766, 2790, 2817, 2849, 2852, 2871, 2898, 2909, 2926, 2943, 2949, 2968, 2986, 2993, 3038, 3163, 3300, 3426, 3489, 3536, 3709, 3743, 3777, 3805, 3868, 3885, 3905, 4025, 4122, 4134, 4170, 4174, 4242, 4353, 4376, 4386, 4461, 4502, 4503, ...], 1988: [21, 46, 79, 83, 85, 99, 114, 134, 212, 233, 251, 259, 277, 425, 460, 521, 579, 604, 609, 622, 704, 722, 781, 791, 846, 958, 974, 1050, 1156, 1193, 1257, 1298, 1339, 1341, 1385, 1518, 1576, 1765, 1798, 1814, 1862, 1864, 1903, 1906, 2013, 2034, 2180, 2211, 2257, 2287, 2290, 2326, 2408, 2428, 2457, 2502, 2533, 2561, 2564, 2573, 2576, 2623, 2624, 2625, 2685, 2762, 2786, 2801, 2807, 2857, 2869, 2887, 3064, 3067, 3105, 3110, 3122, 3157, 3172, 3193, 3213, 3250, 3260, 3360, 3377, 3396, 3439, 3488, 3494, 3509, 3748, 3778, 3917, 3987, 4086, 4131, 4167, 4215, 4326, 4372, ...], 1989: [150, 172, 226, 410, 480, 503, 543, 553, 573, 617, 653, 685, 698, 699, 750, 839, 970, 983, 1001, 1013, 1044, 1094, 1174, 1189, 1204, 1228, 1240, 1258, 1375, 1420, 1478, 1479, 1547, 1583, 1597, 1621, 1623, 1753, 1801, 1811, 1845, 1907, 1934, 1947, 1993, 1998, 2020, 2140, 2144, 2146, 2161, 2192, 2222, 2252, 2320, 2324, 2325, 2347, 2451, 2458, 2512, 2588, 2604, 2655, 2690, 2696, 2746, 2748, 2977, 3114, 3127, 3198, 3207, 3225, 3234, 3235, 3282, 3303, 3362, 3493, 3514, 3521, 3534, 3571, 3585, 3738, 3751, 3798, 3834, 3876, 3925, 3948, 3986, 3989, 3997, 4232, 4260, 4283, 4297, 4335, ...], 1990: [177, 189, 273, 570, 693, 702, 740, 751, 752, 754, 757, 764, 778, 830, 850, 872, 893, 916, 930, 975, 976, 1011, 1125, 1135, 1173, 1277, 1304, 1357, 1379, 1590, 1634, 1642, 1650, 1676, 1685, 1696, 1746, 1824, 1935, 1977, 2026, 2089, 2151, 2155, 2189, 2195, 2242, 2272, 2275, 2303, 2311, 2400, 2486, 2503, 2529, 2537, 2542, 2562, 2575, 2578, 2583, 2589, 2600, 2608, 2619, 2659, 2750, 2789, 2827, 3003, 3083, 3107, 3116, 3131, 3132, 3240, 3247, 3278, 3309, 3391, 3406, 3412, 3451, 3453, 3658, 3714, 3727, 3732, 3764, 3846, 3888, 3902, 3907, 3943, 3976, 3990, 4026, 4038, 4072, 4073, ...], 1991: [681, 684, 701, 742, 753, 883, 942, 953, 1002, 1032, 1033, 1051, 1116, 1130, 1141, 1142, 1196, 1202, 1291, 1404, 1453, 1460, 1476, 1529, 1604, 1644, 1670, 1703, 1733, 1747, 1921, 1924, 2028, 2041, 2044, 2130, 2212, 2277, 2300, 2323, 2381, 2462, 2491, 2514, 2515, 2544, 2546, 2555, 2595, 2629, 2693, 2695, 2763, 2877, 2935, 2965, 2989, 2997, 3033, 3091, 3177, 3182, 3188, 3205, 3242, 3267, 3296, 3312, 3386, 3388, 3449, 3472, 3479, 3522, 3528, 3598, 3604, 3689, 3699, 3704, 3793, 3837, 3913, 3966, 4017, 4217, 4259, 4338, 4368, 4381, 4391, 4446, 4450, 4491, 4499, 4504, 4558, 4604, 4609, 4626, ...], 1992: [779, 828, 842, 856, 864, 940, 957, 1014, 1031, 1184, 1237, 1259, 1268, 1273, 1290, 1301, 1313, 1352, 1356, 1377, 1399, 1454, 1471, 1472, 1512, 1521, 1552, 1584, 1598, 1610, 1715, 1728, 1751, 1806, 1828, 1834, 1896, 1899, 1939, 2139, 2173, 2202, 2274, 2281, 2310, 2322, 2338, 2341, 2456, 2525, 2563, 2587, 2597, 2656, 2749, 2804, 2939, 2953, 2962, 2966, 3045, 3076, 3124, 3148, 3171, 3255, 3310, 3323, 3378, 3392, 3438, 3469, 3523, 3524, 3650, 3671, 3677, 3698, 3710, 3775, 3779, 3973, 4080, 4132, 4328, 4348, 4361, 4374, 4419, 4500, 4538, 4576, 4629, 4661, 4694, 4695, 4727, 4736, 4908, 4930, ...], 1993: [853, 903, 1096, 1175, 1362, 1488, 1577, 1651, 1706, 1812, 2005, 2015, 2179, 2227, 2479, 2590, 2622, 2630, 2738, 2816, 2901, 2904, 3054, 3087, 3145, 3231, 3380, 3393, 3418, 3422, 3437, 3480, 3672, 3684, 3853, 3941, 4028, 4078, 4236, 4279, 4343, 4344, 4529, 4537, 4582, 4610, 4628, 4665, 4677, 4716, 4814, 4910, 4988, 5159, 5179, 5228, 5294, 5344, 5352, 5353, 5358, 5366, 5386, 5404, 5450, 5509, 5513, 5519, 5546, 5554, 5626, 5664, 5713, 5728, 5778, 5808, 5924, 5953, 5995, 6014, 6043, 6056, 6104, 6121, 6139, 6152, 6153, 6172, 6205, 6217, 6228, 6244, 6270, 6285, 6315, 6324, 6338, 6360, 6570, 6574, ...], 1994: [733, 897, 1058, 1200, 1221, 1227, 1371, 1412, 1717, 1982, 2187, 2204, 2232, 2463, 2765, 2796, 3280, 3306, 3320, 3473, 3482, 3679, 3728, 3770, 3974, 4125, 4141, 4294, 4380, 4459, 4646, 4715, 4759, 4947, 4984, 5039, 5050, 5085, 5123, 5148, 5173, 5309, 5327, 5346, 5355, 5357, 5362, 5367, 5392, 5393, 5410, 5461, 5508, 5523, 5525, 5532, 5543, 5620, 5632, 5636, 5644, 5645, 5651, 5655, 5702, 5707, 5752, 5755, 5791, 5804, 5850, 5858, 5896, 5978, 6006, 6024, 6033, 6063, 6082, 6085, 6155, 6198, 6341, 6356, 6425, 6426, 6492, 6593, 6624, 6671, 6676, 6755, 6791, 6824, 6884, 6929, 6941, 6949, 6979, 7060, ...], 1995: [730, 1752, 7922, 7923, 7924, 7928, 7943, 7945, 7954, 7956, 7959, 7960, 7963, 7966, 7967, 7968, 7970, 7973, 7974, 7979, 7980, 7981, 7987, 7989, 7991, 7994, 8006, 8007, 8008, 8009, 8012, 8014, 8015, 8025, 8029, 8030, 8034, 8035, 8045, 8047, 8055, 8056, 8058, 8060, 8062, 8063, 8066, 8069, 8077, 8079, 8080, 8098, 8133, 8161, 8174, 8181, 8197, 8199, 8202, 8216, 8223, 8226, 8246, 8248, 8251, 8252, 8258, 8260, 8267, 8268, 8279, 8289, 8294, 8295, 8301, 8322, 8323, 8326, 8329, 8340, 8344, 8347, 8354, 8363, 8364, 8376, 8379, 8387, 8388, 8390, 8394, 8400, 8411, 8412, 8415, 8416, 8425, 8436, 8456, 8459, ...], 1996: [3562, 7925, 7926, 7930, 7935, 7936, 7938, 7939, 7942, 7952, 7953, 7955, 7964, 7971, 7972, 7976, 7978, 7982, 7983, 7984, 7986, 7988, 7990, 7992, 7995, 7998, 8002, 8010, 8011, 8013, 8016, 8017, 8023, 8028, 8033, 8040, 8041, 8044, 8049, 8050, 8051, 8052, 8061, 8064, 8065, 8067, 8070, 8073, 8074, 8075, 8078, 8081, 8091, 8102, 8141, 8142, 8147, 8156, 8187, 8222, 8247, 8257, 8286, 8290, 8315, 8386, 8391, 8418, 8430, 8452, 8511, 8516, 8530, 8532, 8547, 8562, 8587, 8600, 8609, 8654, 8690, 8727, 8746, 8781, 8790, 8858, 8866, 8868, 8881, 8901, 8912, 8927, 8940, 9004, 9011, 9026, 9043, 9061, 9081, 9084, ...], 1997: [714, 721, 4121, 9817, 9820, 9835, 9849, 9878, 9879, 9882, 9886, 9888, 9889, 9890, 9920, 9922, 9935, 9941, 9944, 9947, 9948, 9951, 9954, 9961, 9964, 9965, 9966, 9970, 9974, 9975, 9979, 9986, 9988, 9991, 9992, 9994, 9995, 9997, 9998, 9999, 10001, 10002, 10006, 10007, 10014, 10015, 10018, 10019, 10020, 10023, 10025, 10026, 10027, 10028, 10034, 10035, 10037, 10038, 10039, 10040, 10041, 10043, 10045, 10046, 10049, 10051, 10054, 10056, 10062, 10063, 10065, 10066, 10067, 10074, 10076, 10079, 10080, 10082, 10085, 10086, 10087, 10091, 10092, 10093, 10096, 10098, 10099, 10106, 10107, 10108, 10109, 10110, 10113, 10114, 10118, 10119, 10122, 10123, 10124, 10127, ...], 1998: [7480, 9288, 9510, 9813, 9814, 9815, 9818, 9819, 9821, 9822, 9823, 9864, 9877, 9880, 9883, 9884, 9885, 9887, 9891, 9921, 9946, 9949, 9950, 9952, 9953, 9962, 9969, 9971, 9973, 9976, 9977, 9978, 9982, 9984, 9985, 9987, 9990, 9993, 10000, 10004, 10008, 10009, 10010, 10016, 10017, 10021, 10022, 10024, 10030, 10032, 10042, 10044, 10047, 10048, 10050, 10052, 10057, 10058, 10059, 10061, 10064, 10068, 10069, 10070, 10072, 10078, 10083, 10111, 10121, 10129, 10142, 10173, 10195, 10212, 10249, 10277, 10280, 10312, 10321, 10361, 10416, 10432, 10471, 10472, 10475, 10487, 10488, 10489, 10498, 10515, 10517, 10530, 10560, 10561, 10569, 10586, 10588, 10595, 10615, 10618, ...], 1999: [697, 2664, 2853, 7902, 9221, 9342, 9853, 10253, 10267, 11562, 12867, 12869, 12875, 12886, 14530, 14531, 14532, 14533, 14536, 14537, 14540, 14553, 14554, 18315, 18503, 18609, 18611, 18612, 18615, 18618, 18621, 18623, 18626, 18628, 18629, 18630, 18632, 18633, 18851, 18852, 18853, 18854, 18855, 18856, 18857, 18858, 18859, 18860, 18861, 18862, 18863, 18864, 18865, 18866, 18867, 18868, 18870, 18871, 18872, 18873, 18874, 18875, 18876, 18877, 18878, 18985, 18987, 18988, 18989, 18990, 18991, 18992, 18993, 18995, 18996, 18997, 18998, 18999, 19000, 19001, 19002, 19003, 19004, 19005, 19006, 19007, 19008, 19009, 19013, 19015, 19062, 19065, 19066, 19067, 19068, 19069, 19071, 19072, 19073, 19075, ...], 2000: [689, 4355, 4536, 9358, 11523, 12779, 12790, 12804, 12855, 12865, 12866, 12868, 12877, 12881, 12883, 12884, 12887, 12888, 12889, 14477, 14546, 14548, 14550, 17179, 18087, 18608, 18610, 18614, 18617, 18619, 18620, 18622, 18624, 18625, 18627, 18634, 18879, 18986, 18994, 19011, 19012, 19014, 19016, 19061, 19063, 19064, 19070, 19074, 19089, 19090, 19093, 19155, 19157, 19158, 19159, 19163, 19691, 19765, 19797, 19798, 19800, 19801, 19808, 19946, 19954, 19989, 19995, 20013, 20014, 20015, 20022, 20027, 20028, 20029, 20030, 20063, 20066, 20109, 20115, 20125, 20126, 20127, 20129, 20130, 20135, 20138, 20140, 20141, 20144, 20151, 20154, 20161, 20167, 20170, 20171, 20172, 20176, 20178, 20179, 20182, ...], 2001: [1943, 4509, 9850, 9913, 20669, 20717, 20739, 20747, 28796, 32732, 34636, 34944, 34947, 34948, 45620, 45633, 45638, 45870, 46529, 46530, 46531, 46533, 46534, 46537, 46538, 46539, 46541, 46545, 46548, 46549, 46552, 46556, 46557, 46562, 46565, 46567, 46570, 46571, 46572, 46576, 46725, 46726, 46727, 46728, 46730, 46731, 46732, 46733, 46734, 46736, 46740, 46741, 46742, 46743, 46744, 46745, 46746, 46747, 46748, 46749, 46750, 46751, 46753, 46754, 46755, 46756, 46758, 46760, 46761, 46762, 46763, 46764, 46766, 46767, 46769, 46770, 46772, 46773, 46774, 46775, 46776, 46779, 46781, 46800, 46802, 46805, 46806, 46807, 46809, 46810, 46811, 46813, 46814, 46816, 46817, 46818, 46819, 46820, 46821, 46822, ...], 2002: [3667, 9228, 13551, 20720, 20726, 20742, 20749, 23413, 28706, 28787, 28824, 31763, 34638, 34942, 34943, 34945, 34946, 41411, 41413, 45604, 45605, 45609, 45610, 45611, 45612, 45615, 45617, 45621, 45623, 45627, 45628, 45631, 45635, 45636, 45637, 46515, 46555, 46573, 46845, 46934, 46942, 46957, 46962, 46989, 46994, 47018, 47019, 47023, 47045, 47048, 47056, 47076, 47083, 47087, 47091, 47093, 47099, 47107, 47108, 47112, 47113, 47114, 47132, 47135, 47142, 47145, 47159, 47162, 47182, 47200, 47214, 47220, 47229, 47235, 47248, 47249, 47250, 47251, 47252, 47259, 47262, 47263, 47266, 47268, 47285, 47286, 47290, 47322, 47325, 47326, 47327, 47328, 47330, 47331, 47332, 47333, 47334, 47335, 47336, 47337, ...]}"
      ]
     },
     "execution_count": 47,
     "metadata": {},
     "output_type": "execute_result"
    }
   ],
   "source": [
    "grouped_yob.groups"
   ]
  },
  {
   "cell_type": "markdown",
   "metadata": {},
   "source": [
    "Select the object for the row indicating that the voter was born in 1900."
   ]
  },
  {
   "cell_type": "code",
   "execution_count": 48,
   "metadata": {},
   "outputs": [
    {
     "data": {
      "text/html": [
       "<div>\n",
       "<style scoped>\n",
       "    .dataframe tbody tr th:only-of-type {\n",
       "        vertical-align: middle;\n",
       "    }\n",
       "\n",
       "    .dataframe tbody tr th {\n",
       "        vertical-align: top;\n",
       "    }\n",
       "\n",
       "    .dataframe thead th {\n",
       "        text-align: right;\n",
       "    }\n",
       "</style>\n",
       "<table border=\"1\" class=\"dataframe\">\n",
       "  <thead>\n",
       "    <tr style=\"text-align: right;\">\n",
       "      <th></th>\n",
       "      <th>UNIQUE-ID</th>\n",
       "      <th>LAST-NAME</th>\n",
       "      <th>FIRST-NAME</th>\n",
       "      <th>MID-INIT</th>\n",
       "      <th>SUFFIX</th>\n",
       "      <th>YEAR-OF-BIRTH</th>\n",
       "      <th>HOME-NO</th>\n",
       "      <th>HOME-APT</th>\n",
       "      <th>HOME-STREET</th>\n",
       "      <th>HOME-DEV</th>\n",
       "      <th>...</th>\n",
       "      <th>REF-HIST-5</th>\n",
       "      <th>MAIL-NO</th>\n",
       "      <th>MAIL-APT</th>\n",
       "      <th>MAIL-STR</th>\n",
       "      <th>MAIL-CITY</th>\n",
       "      <th>MAIL-STATE</th>\n",
       "      <th>MAIL-ZIP</th>\n",
       "      <th>DATE-LAST-CHG</th>\n",
       "      <th>CODE-CHANGE</th>\n",
       "      <th>STATUS</th>\n",
       "    </tr>\n",
       "  </thead>\n",
       "  <tbody>\n",
       "    <tr>\n",
       "      <th>49249</th>\n",
       "      <td>101092654</td>\n",
       "      <td>KENNEDY</td>\n",
       "      <td>JORDAN</td>\n",
       "      <td>D</td>\n",
       "      <td>NaN</td>\n",
       "      <td>1900</td>\n",
       "      <td>724</td>\n",
       "      <td>NaN</td>\n",
       "      <td>N BANCROFT PKY</td>\n",
       "      <td>NaN</td>\n",
       "      <td>...</td>\n",
       "      <td>NaN</td>\n",
       "      <td>NaN</td>\n",
       "      <td>NaN</td>\n",
       "      <td>NaN</td>\n",
       "      <td>NaN</td>\n",
       "      <td>NaN</td>\n",
       "      <td>NaN</td>\n",
       "      <td>20170731</td>\n",
       "      <td>P6</td>\n",
       "      <td>I</td>\n",
       "    </tr>\n",
       "  </tbody>\n",
       "</table>\n",
       "<p>1 rows × 54 columns</p>\n",
       "</div>"
      ],
      "text/plain": [
       "       UNIQUE-ID LAST-NAME FIRST-NAME MID-INIT SUFFIX  YEAR-OF-BIRTH HOME-NO  \\\n",
       "49249  101092654   KENNEDY     JORDAN        D    NaN           1900     724   \n",
       "\n",
       "      HOME-APT     HOME-STREET HOME-DEV  ... REF-HIST-5  MAIL-NO MAIL-APT  \\\n",
       "49249      NaN  N BANCROFT PKY      NaN  ...        NaN      NaN      NaN   \n",
       "\n",
       "       MAIL-STR  MAIL-CITY  MAIL-STATE  MAIL-ZIP  DATE-LAST-CHG CODE-CHANGE  \\\n",
       "49249       NaN        NaN         NaN       NaN       20170731          P6   \n",
       "\n",
       "      STATUS  \n",
       "49249      I  \n",
       "\n",
       "[1 rows x 54 columns]"
      ]
     },
     "execution_count": 48,
     "metadata": {},
     "output_type": "execute_result"
    }
   ],
   "source": [
    "grouped_yob.get_group(1900)"
   ]
  },
  {
   "cell_type": "markdown",
   "metadata": {},
   "source": [
    "Graph a histogram to  illustrate the age distribution of voters in this dataset. Try using different values for the bins attribute of the histogram. "
   ]
  },
  {
   "cell_type": "code",
   "execution_count": 49,
   "metadata": {},
   "outputs": [
    {
     "data": {
      "text/plain": [
       "(array([1., 0., 0., 0., 0., 0., 0., 0., 0., 0., 0., 1., 0., 0., 1., 1., 1.,\n",
       "        1., 1., 1., 1., 1., 1., 1., 1., 1., 1., 1., 1., 1., 1., 1., 1., 1.,\n",
       "        1., 1., 1., 1., 1., 1., 1., 1., 1., 1., 1., 1., 1., 1., 1., 1., 2.,\n",
       "        1., 1., 1., 1., 1., 1., 1., 1., 1., 1., 1., 1., 1., 1., 1., 1., 1.,\n",
       "        1., 1., 1., 1., 1., 1., 1., 1., 1., 1., 1., 1., 1., 1., 1., 1., 1.,\n",
       "        1., 1., 1., 1., 1., 1., 1., 1., 1., 1., 1., 1., 1., 1., 2.]),\n",
       " array([1900.  , 1901.02, 1902.04, 1903.06, 1904.08, 1905.1 , 1906.12,\n",
       "        1907.14, 1908.16, 1909.18, 1910.2 , 1911.22, 1912.24, 1913.26,\n",
       "        1914.28, 1915.3 , 1916.32, 1917.34, 1918.36, 1919.38, 1920.4 ,\n",
       "        1921.42, 1922.44, 1923.46, 1924.48, 1925.5 , 1926.52, 1927.54,\n",
       "        1928.56, 1929.58, 1930.6 , 1931.62, 1932.64, 1933.66, 1934.68,\n",
       "        1935.7 , 1936.72, 1937.74, 1938.76, 1939.78, 1940.8 , 1941.82,\n",
       "        1942.84, 1943.86, 1944.88, 1945.9 , 1946.92, 1947.94, 1948.96,\n",
       "        1949.98, 1951.  , 1952.02, 1953.04, 1954.06, 1955.08, 1956.1 ,\n",
       "        1957.12, 1958.14, 1959.16, 1960.18, 1961.2 , 1962.22, 1963.24,\n",
       "        1964.26, 1965.28, 1966.3 , 1967.32, 1968.34, 1969.36, 1970.38,\n",
       "        1971.4 , 1972.42, 1973.44, 1974.46, 1975.48, 1976.5 , 1977.52,\n",
       "        1978.54, 1979.56, 1980.58, 1981.6 , 1982.62, 1983.64, 1984.66,\n",
       "        1985.68, 1986.7 , 1987.72, 1988.74, 1989.76, 1990.78, 1991.8 ,\n",
       "        1992.82, 1993.84, 1994.86, 1995.88, 1996.9 , 1997.92, 1998.94,\n",
       "        1999.96, 2000.98, 2002.  ]),\n",
       " <BarContainer object of 100 artists>)"
      ]
     },
     "execution_count": 49,
     "metadata": {},
     "output_type": "execute_result"
    },
    {
     "data": {
      "image/png": "[encoded data removed]",
      "text/plain": [
       "<Figure size 640x480 with 1 Axes>"
      ]
     },
     "metadata": {},
     "output_type": "display_data"
    }
   ],
   "source": [
    "plt.hist(grouped_yob.groups, bins=100)"
   ]
  },
  {
   "cell_type": "markdown",
   "metadata": {},
   "source": [
    "# PARTY"
   ]
  },
  {
   "cell_type": "markdown",
   "metadata": {},
   "source": [
    "Group objects using the PARTY column. Assign the value to a variable called grouped_p."
   ]
  },
  {
   "cell_type": "code",
   "execution_count": 53,
   "metadata": {},
   "outputs": [
    {
     "data": {
      "text/plain": [
       "PARTY\n",
       "A       52\n",
       "B      441\n",
       "D    38020\n",
       "E       30\n",
       "G       42\n",
       "H       82\n",
       "I     7670\n",
       "J      161\n",
       "L       98\n",
       "M        1\n",
       "O       33\n",
       "Q       17\n",
       "R     4851\n",
       "T       14\n",
       "V       11\n",
       "W      333\n",
       "Y       14\n",
       "Z       39\n",
       "Name: PARTY, dtype: int64"
      ]
     },
     "execution_count": 53,
     "metadata": {},
     "output_type": "execute_result"
    }
   ],
   "source": [
    "#grouped_p=df.groupby(\"PARTY\")\n",
    "grouped_p=df.groupby(['PARTY'])['PARTY'].count()\n",
    "grouped_p"
   ]
  },
  {
   "cell_type": "markdown",
   "metadata": {},
   "source": [
    "Display the value of the groups attribute belonging to the grouped_p object."
   ]
  },
  {
   "cell_type": "code",
   "execution_count": 54,
   "metadata": {},
   "outputs": [
    {
     "data": {
      "text/plain": [
       "PARTY\n",
       "A       52\n",
       "B      441\n",
       "D    38020\n",
       "E       30\n",
       "G       42\n",
       "H       82\n",
       "I     7670\n",
       "J      161\n",
       "L       98\n",
       "M        1\n",
       "O       33\n",
       "Q       17\n",
       "R     4851\n",
       "T       14\n",
       "V       11\n",
       "W      333\n",
       "Y       14\n",
       "Z       39\n",
       "Name: PARTY, dtype: int64"
      ]
     },
     "execution_count": 54,
     "metadata": {},
     "output_type": "execute_result"
    }
   ],
   "source": [
    "grouped_p"
   ]
  },
  {
   "cell_type": "markdown",
   "metadata": {},
   "source": [
    "Invoke the size method on the grouped_p object to find out how many items are associated with each party."
   ]
  },
  {
   "cell_type": "code",
   "execution_count": 58,
   "metadata": {
    "scrolled": true
   },
   "outputs": [],
   "source": [
    "grouped_p_size=grouped_zc.size()"
   ]
  },
  {
   "cell_type": "markdown",
   "metadata": {},
   "source": [
    "Create a bar chart to visualize the number of voters associated with each party."
   ]
  },
  {
   "cell_type": "code",
   "execution_count": 62,
   "metadata": {},
   "outputs": [
    {
     "data": {
      "text/plain": [
       "Text(0, 0.5, 'Number of Voters')"
      ]
     },
     "execution_count": 62,
     "metadata": {},
     "output_type": "execute_result"
    },
    {
     "data": {
      "image/png": "[encoded data removed]",
      "text/plain": [
       "<Figure size 640x480 with 1 Axes>"
      ]
     },
     "metadata": {},
     "output_type": "display_data"
    }
   ],
   "source": [
    "#list(df.columns)\n",
    "#plt.bar(grouped_yob.groups, bins=100)\n",
    "#party_counts = df['PARTY'].value_counts()\n",
    "party_counts = df.groupby('PARTY').size()\n",
    "parties = party_counts.index\n",
    "counts = party_counts.values\n",
    "\n",
    "plt.bar(parties, counts, color=\"blue\")\n",
    "plt.title('Number of Voters by Party')\n",
    "plt.xlabel('Party')\n",
    "plt.ylabel('Number of Voters')\n",
    "\n"
   ]
  },
  {
   "cell_type": "markdown",
   "metadata": {},
   "source": [
    "# Merging Two DataFrames"
   ]
  },
  {
   "cell_type": "markdown",
   "metadata": {},
   "source": [
    "Using the data from the documentation, create a Pandas DataFrame that contains the party code and the corresponding legal name for each party."
   ]
  },
  {
   "cell_type": "code",
   "execution_count": 72,
   "metadata": {},
   "outputs": [],
   "source": [
    "legal_names = { 'Party Code': ['A', 'B', 'D', 'E', 'G', 'H', 'I', 'J', 'L', 'M', 'O', 'Q', 'R', 'T', 'V', 'W', 'Y', 'Z'],\n",
    "                'Legal Name': ['AMERICAN', 'AMERICAN DELTA', 'DEMOCRATIC PARTY', 'LIBERAL', 'NON PARTISAN', 'GREEN PARTY', \n",
    "                   'UNAFFILIATED', 'WORKING FAMILIES PARTY', 'LIBERTARIAN PARTY', 'REFORM PARTY', 'OTHERS/ALL OTHER PARTIES', \n",
    "                   'CONSTITUTION PARTY', 'REPUBLICAN PARTY', 'CONSERVATIVE', 'NATURAL LAW PARTY', 'INDEPENDENT PARTY OF DEL', \n",
    "                   'THE BLUE ENIGMA PARTY', 'SOCIALIST WORKERS PARTY']}\n",
    "    \n",
    "#'Abbreviated Name': ['AMERICAN', 'AMER DELTA', 'DEMOCRATIC', 'LIBERAL', 'N PARTISAN', 'GREEN', 'UNAFFILIAT', 'WFP', \n",
    "    #                      'LIBERTARIN', 'REFORM', 'OTHERS', 'CONSTITUTN', 'REPUBLICAN', 'CONSERVATI', 'NATURAL LW', \n",
    "    #                      'IND OF DEL', 'BLUE ENIGM', 'SOC WORKER'],\n",
    "    # '2016 Ballot Status': ['-', '-', 'YES', '-', '-', 'YES', '-', '-', 'NO', '-', '-', 'YES', 'YES', '-', '-', '-', '-'\n",
    "\n"
   ]
  },
  {
   "cell_type": "code",
   "execution_count": 73,
   "metadata": {},
   "outputs": [
    {
     "name": "stdout",
     "output_type": "stream",
     "text": [
      "Length of Party Code: 18\n",
      "Length of Legal Name: 18\n"
     ]
    }
   ],
   "source": [
    "for key, value in legal_names.items():\n",
    "    print(f\"Length of {key}: {len(value)}\")"
   ]
  },
  {
   "cell_type": "code",
   "execution_count": 74,
   "metadata": {},
   "outputs": [],
   "source": [
    "df_legal_names = pd.DataFrame(legal_names)"
   ]
  },
  {
   "cell_type": "code",
   "execution_count": 75,
   "metadata": {},
   "outputs": [
    {
     "data": {
      "text/html": [
       "<div>\n",
       "<style scoped>\n",
       "    .dataframe tbody tr th:only-of-type {\n",
       "        vertical-align: middle;\n",
       "    }\n",
       "\n",
       "    .dataframe tbody tr th {\n",
       "        vertical-align: top;\n",
       "    }\n",
       "\n",
       "    .dataframe thead th {\n",
       "        text-align: right;\n",
       "    }\n",
       "</style>\n",
       "<table border=\"1\" class=\"dataframe\">\n",
       "  <thead>\n",
       "    <tr style=\"text-align: right;\">\n",
       "      <th></th>\n",
       "      <th>Party Code</th>\n",
       "      <th>Legal Name</th>\n",
       "    </tr>\n",
       "  </thead>\n",
       "  <tbody>\n",
       "    <tr>\n",
       "      <th>0</th>\n",
       "      <td>A</td>\n",
       "      <td>AMERICAN</td>\n",
       "    </tr>\n",
       "    <tr>\n",
       "      <th>1</th>\n",
       "      <td>B</td>\n",
       "      <td>AMERICAN DELTA</td>\n",
       "    </tr>\n",
       "    <tr>\n",
       "      <th>2</th>\n",
       "      <td>D</td>\n",
       "      <td>DEMOCRATIC PARTY</td>\n",
       "    </tr>\n",
       "    <tr>\n",
       "      <th>3</th>\n",
       "      <td>E</td>\n",
       "      <td>LIBERAL</td>\n",
       "    </tr>\n",
       "    <tr>\n",
       "      <th>4</th>\n",
       "      <td>G</td>\n",
       "      <td>NON PARTISAN</td>\n",
       "    </tr>\n",
       "    <tr>\n",
       "      <th>5</th>\n",
       "      <td>H</td>\n",
       "      <td>GREEN PARTY</td>\n",
       "    </tr>\n",
       "    <tr>\n",
       "      <th>6</th>\n",
       "      <td>I</td>\n",
       "      <td>UNAFFILIATED</td>\n",
       "    </tr>\n",
       "    <tr>\n",
       "      <th>7</th>\n",
       "      <td>J</td>\n",
       "      <td>WORKING FAMILIES PARTY</td>\n",
       "    </tr>\n",
       "    <tr>\n",
       "      <th>8</th>\n",
       "      <td>L</td>\n",
       "      <td>LIBERTARIAN PARTY</td>\n",
       "    </tr>\n",
       "    <tr>\n",
       "      <th>9</th>\n",
       "      <td>M</td>\n",
       "      <td>REFORM PARTY</td>\n",
       "    </tr>\n",
       "    <tr>\n",
       "      <th>10</th>\n",
       "      <td>O</td>\n",
       "      <td>OTHERS/ALL OTHER PARTIES</td>\n",
       "    </tr>\n",
       "    <tr>\n",
       "      <th>11</th>\n",
       "      <td>Q</td>\n",
       "      <td>CONSTITUTION PARTY</td>\n",
       "    </tr>\n",
       "    <tr>\n",
       "      <th>12</th>\n",
       "      <td>R</td>\n",
       "      <td>REPUBLICAN PARTY</td>\n",
       "    </tr>\n",
       "    <tr>\n",
       "      <th>13</th>\n",
       "      <td>T</td>\n",
       "      <td>CONSERVATIVE</td>\n",
       "    </tr>\n",
       "    <tr>\n",
       "      <th>14</th>\n",
       "      <td>V</td>\n",
       "      <td>NATURAL LAW PARTY</td>\n",
       "    </tr>\n",
       "    <tr>\n",
       "      <th>15</th>\n",
       "      <td>W</td>\n",
       "      <td>INDEPENDENT PARTY OF DEL</td>\n",
       "    </tr>\n",
       "    <tr>\n",
       "      <th>16</th>\n",
       "      <td>Y</td>\n",
       "      <td>THE BLUE ENIGMA PARTY</td>\n",
       "    </tr>\n",
       "    <tr>\n",
       "      <th>17</th>\n",
       "      <td>Z</td>\n",
       "      <td>SOCIALIST WORKERS PARTY</td>\n",
       "    </tr>\n",
       "  </tbody>\n",
       "</table>\n",
       "</div>"
      ],
      "text/plain": [
       "   Party Code                Legal Name\n",
       "0           A                  AMERICAN\n",
       "1           B            AMERICAN DELTA\n",
       "2           D          DEMOCRATIC PARTY\n",
       "3           E                   LIBERAL\n",
       "4           G              NON PARTISAN\n",
       "5           H               GREEN PARTY\n",
       "6           I              UNAFFILIATED\n",
       "7           J    WORKING FAMILIES PARTY\n",
       "8           L         LIBERTARIAN PARTY\n",
       "9           M              REFORM PARTY\n",
       "10          O  OTHERS/ALL OTHER PARTIES\n",
       "11          Q        CONSTITUTION PARTY\n",
       "12          R          REPUBLICAN PARTY\n",
       "13          T              CONSERVATIVE\n",
       "14          V         NATURAL LAW PARTY\n",
       "15          W  INDEPENDENT PARTY OF DEL\n",
       "16          Y     THE BLUE ENIGMA PARTY\n",
       "17          Z   SOCIALIST WORKERS PARTY"
      ]
     },
     "execution_count": 75,
     "metadata": {},
     "output_type": "execute_result"
    }
   ],
   "source": [
    "df_legal_names"
   ]
  },
  {
   "cell_type": "code",
   "execution_count": 77,
   "metadata": {},
   "outputs": [],
   "source": [
    "# df=pd.DataFrame()\n",
    "# df= pd.read_csv(\"Data/ActiveFile-Wilm1thru8-20191015.csv\")\n",
    "# print(df.head())"
   ]
  },
  {
   "cell_type": "markdown",
   "metadata": {},
   "source": [
    "Create a Pandas DataFrame that contains the Party code and the corresponding number of registered voters for said party."
   ]
  },
  {
   "cell_type": "code",
   "execution_count": 80,
   "metadata": {},
   "outputs": [],
   "source": [
    "# Create DataFrame df_party_counts here \n",
    "df_party_counts = df['PARTY'].value_counts()"
   ]
  },
  {
   "cell_type": "code",
   "execution_count": 81,
   "metadata": {},
   "outputs": [
    {
     "data": {
      "text/plain": [
       "PARTY\n",
       "D    38020\n",
       "I     7670\n",
       "R     4851\n",
       "B      441\n",
       "W      333\n",
       "J      161\n",
       "L       98\n",
       "H       82\n",
       "A       52\n",
       "G       42\n",
       "Z       39\n",
       "O       33\n",
       "E       30\n",
       "Q       17\n",
       "T       14\n",
       "Y       14\n",
       "V       11\n",
       "M        1\n",
       "Name: count, dtype: int64"
      ]
     },
     "execution_count": 81,
     "metadata": {},
     "output_type": "execute_result"
    }
   ],
   "source": [
    "# df_party_counts \n",
    "df_party_counts"
   ]
  },
  {
   "cell_type": "code",
   "execution_count": 85,
   "metadata": {},
   "outputs": [
    {
     "name": "stdout",
     "output_type": "stream",
     "text": [
      "Columns of df_legal_names: Index(['Party Code', 'Legal Name'], dtype='object')\n",
      "Columns of df_party_counts: Index(['D', 'I', 'R', 'B', 'W', 'J', 'L', 'H', 'A', 'G', 'Z', 'O', 'E', 'Q',\n",
      "       'T', 'Y', 'V', 'M'],\n",
      "      dtype='object', name='PARTY')\n"
     ]
    }
   ],
   "source": [
    "print(\"Columns of df_legal_names:\", df_legal_names.columns)\n",
    "print(\"Columns of df_party_counts:\", df_party_counts.index)"
   ]
  },
  {
   "cell_type": "markdown",
   "metadata": {},
   "source": [
    "Merge the two DataFrames."
   ]
  },
  {
   "cell_type": "code",
   "execution_count": 88,
   "metadata": {},
   "outputs": [
    {
     "name": "stdout",
     "output_type": "stream",
     "text": [
      "   Party Code                Legal Name  count\n",
      "0           A                  AMERICAN     52\n",
      "1           B            AMERICAN DELTA    441\n",
      "2           D          DEMOCRATIC PARTY  38020\n",
      "3           E                   LIBERAL     30\n",
      "4           G              NON PARTISAN     42\n",
      "5           H               GREEN PARTY     82\n",
      "6           I              UNAFFILIATED   7670\n",
      "7           J    WORKING FAMILIES PARTY    161\n",
      "8           L         LIBERTARIAN PARTY     98\n",
      "9           M              REFORM PARTY      1\n",
      "10          O  OTHERS/ALL OTHER PARTIES     33\n",
      "11          Q        CONSTITUTION PARTY     17\n",
      "12          R          REPUBLICAN PARTY   4851\n",
      "13          T              CONSERVATIVE     14\n",
      "14          V         NATURAL LAW PARTY     11\n",
      "15          W  INDEPENDENT PARTY OF DEL    333\n",
      "16          Y     THE BLUE ENIGMA PARTY     14\n",
      "17          Z   SOCIALIST WORKERS PARTY     39\n"
     ]
    }
   ],
   "source": [
    "# Merge DataFrame here \n",
    "# Merge the two DataFrames on 'Party Code'\n",
    "# merged_df = pd.merge(df_legal_names, df_party_counts, on='Party Code', how='left')\n",
    "\n",
    "# print(merged_df)\n",
    "# Merge the two DataFrames on 'Party Code'\n",
    "df_merged = pd.merge(df_legal_names, df_party_counts, left_on='Party Code', right_index=True, how='left')\n",
    "\n",
    "print(df_merged)\n"
   ]
  },
  {
   "cell_type": "code",
   "execution_count": 89,
   "metadata": {},
   "outputs": [
    {
     "data": {
      "text/html": [
       "<div>\n",
       "<style scoped>\n",
       "    .dataframe tbody tr th:only-of-type {\n",
       "        vertical-align: middle;\n",
       "    }\n",
       "\n",
       "    .dataframe tbody tr th {\n",
       "        vertical-align: top;\n",
       "    }\n",
       "\n",
       "    .dataframe thead th {\n",
       "        text-align: right;\n",
       "    }\n",
       "</style>\n",
       "<table border=\"1\" class=\"dataframe\">\n",
       "  <thead>\n",
       "    <tr style=\"text-align: right;\">\n",
       "      <th></th>\n",
       "      <th>Party Code</th>\n",
       "      <th>Legal Name</th>\n",
       "      <th>count</th>\n",
       "    </tr>\n",
       "  </thead>\n",
       "  <tbody>\n",
       "    <tr>\n",
       "      <th>0</th>\n",
       "      <td>A</td>\n",
       "      <td>AMERICAN</td>\n",
       "      <td>52</td>\n",
       "    </tr>\n",
       "    <tr>\n",
       "      <th>1</th>\n",
       "      <td>B</td>\n",
       "      <td>AMERICAN DELTA</td>\n",
       "      <td>441</td>\n",
       "    </tr>\n",
       "    <tr>\n",
       "      <th>2</th>\n",
       "      <td>D</td>\n",
       "      <td>DEMOCRATIC PARTY</td>\n",
       "      <td>38020</td>\n",
       "    </tr>\n",
       "    <tr>\n",
       "      <th>3</th>\n",
       "      <td>E</td>\n",
       "      <td>LIBERAL</td>\n",
       "      <td>30</td>\n",
       "    </tr>\n",
       "    <tr>\n",
       "      <th>4</th>\n",
       "      <td>G</td>\n",
       "      <td>NON PARTISAN</td>\n",
       "      <td>42</td>\n",
       "    </tr>\n",
       "    <tr>\n",
       "      <th>5</th>\n",
       "      <td>H</td>\n",
       "      <td>GREEN PARTY</td>\n",
       "      <td>82</td>\n",
       "    </tr>\n",
       "    <tr>\n",
       "      <th>6</th>\n",
       "      <td>I</td>\n",
       "      <td>UNAFFILIATED</td>\n",
       "      <td>7670</td>\n",
       "    </tr>\n",
       "    <tr>\n",
       "      <th>7</th>\n",
       "      <td>J</td>\n",
       "      <td>WORKING FAMILIES PARTY</td>\n",
       "      <td>161</td>\n",
       "    </tr>\n",
       "    <tr>\n",
       "      <th>8</th>\n",
       "      <td>L</td>\n",
       "      <td>LIBERTARIAN PARTY</td>\n",
       "      <td>98</td>\n",
       "    </tr>\n",
       "    <tr>\n",
       "      <th>9</th>\n",
       "      <td>M</td>\n",
       "      <td>REFORM PARTY</td>\n",
       "      <td>1</td>\n",
       "    </tr>\n",
       "    <tr>\n",
       "      <th>10</th>\n",
       "      <td>O</td>\n",
       "      <td>OTHERS/ALL OTHER PARTIES</td>\n",
       "      <td>33</td>\n",
       "    </tr>\n",
       "    <tr>\n",
       "      <th>11</th>\n",
       "      <td>Q</td>\n",
       "      <td>CONSTITUTION PARTY</td>\n",
       "      <td>17</td>\n",
       "    </tr>\n",
       "    <tr>\n",
       "      <th>12</th>\n",
       "      <td>R</td>\n",
       "      <td>REPUBLICAN PARTY</td>\n",
       "      <td>4851</td>\n",
       "    </tr>\n",
       "    <tr>\n",
       "      <th>13</th>\n",
       "      <td>T</td>\n",
       "      <td>CONSERVATIVE</td>\n",
       "      <td>14</td>\n",
       "    </tr>\n",
       "    <tr>\n",
       "      <th>14</th>\n",
       "      <td>V</td>\n",
       "      <td>NATURAL LAW PARTY</td>\n",
       "      <td>11</td>\n",
       "    </tr>\n",
       "    <tr>\n",
       "      <th>15</th>\n",
       "      <td>W</td>\n",
       "      <td>INDEPENDENT PARTY OF DEL</td>\n",
       "      <td>333</td>\n",
       "    </tr>\n",
       "    <tr>\n",
       "      <th>16</th>\n",
       "      <td>Y</td>\n",
       "      <td>THE BLUE ENIGMA PARTY</td>\n",
       "      <td>14</td>\n",
       "    </tr>\n",
       "    <tr>\n",
       "      <th>17</th>\n",
       "      <td>Z</td>\n",
       "      <td>SOCIALIST WORKERS PARTY</td>\n",
       "      <td>39</td>\n",
       "    </tr>\n",
       "  </tbody>\n",
       "</table>\n",
       "</div>"
      ],
      "text/plain": [
       "   Party Code                Legal Name  count\n",
       "0           A                  AMERICAN     52\n",
       "1           B            AMERICAN DELTA    441\n",
       "2           D          DEMOCRATIC PARTY  38020\n",
       "3           E                   LIBERAL     30\n",
       "4           G              NON PARTISAN     42\n",
       "5           H               GREEN PARTY     82\n",
       "6           I              UNAFFILIATED   7670\n",
       "7           J    WORKING FAMILIES PARTY    161\n",
       "8           L         LIBERTARIAN PARTY     98\n",
       "9           M              REFORM PARTY      1\n",
       "10          O  OTHERS/ALL OTHER PARTIES     33\n",
       "11          Q        CONSTITUTION PARTY     17\n",
       "12          R          REPUBLICAN PARTY   4851\n",
       "13          T              CONSERVATIVE     14\n",
       "14          V         NATURAL LAW PARTY     11\n",
       "15          W  INDEPENDENT PARTY OF DEL    333\n",
       "16          Y     THE BLUE ENIGMA PARTY     14\n",
       "17          Z   SOCIALIST WORKERS PARTY     39"
      ]
     },
     "execution_count": 89,
     "metadata": {},
     "output_type": "execute_result"
    }
   ],
   "source": [
    "# Display new DataFrame here \n",
    "df_merged"
   ]
  },
  {
   "cell_type": "markdown",
   "metadata": {},
   "source": [
    "Create a bar graph again but using the legal name for each party as the value on the x axes."
   ]
  },
  {
   "cell_type": "code",
   "execution_count": 94,
   "metadata": {},
   "outputs": [
    {
     "data": {
      "image/png": "[encoded data removed]",
      "text/plain": [
       "<Figure size 1000x600 with 1 Axes>"
      ]
     },
     "metadata": {},
     "output_type": "display_data"
    }
   ],
   "source": [
    "legal_names = df_merged['Legal Name']\n",
    "counts = df_merged.iloc[:, 2] \n",
    "\n",
    "\n",
    "plt.figure(figsize =(10, 6))\n",
    "plt.bar(legal_names, counts, color='blue')\n",
    "plt.xlabel('Legal name of party')\n",
    "plt.ylabel('No. of registered voters')\n",
    "plt.title('No. of registered voters by Party')\n",
    "plt.xticks(rotation=90)  # Rotate x-axis labels for better readability\n",
    "plt.tight_layout()\n",
    "plt.show()"
   ]
  },
  {
   "cell_type": "code",
   "execution_count": null,
   "metadata": {},
   "outputs": [],
   "source": []
  }
 ],
 "metadata": {
  "kernelspec": {
   "display_name": "Python 3 (ipykernel)",
   "language": "python",
   "name": "python3"
  },
  "language_info": {
   "codemirror_mode": {
    "name": "ipython",
    "version": 3
   },
   "file_extension": ".py",
   "mimetype": "text/x-python",
   "name": "python",
   "nbconvert_exporter": "python",
   "pygments_lexer": "ipython3",
   "version": "3.12.2"
  }
 },
 "nbformat": 4,
 "nbformat_minor": 4
}
