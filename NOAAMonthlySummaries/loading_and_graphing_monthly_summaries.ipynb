{
 "cells": [
  {
   "cell_type": "markdown",
   "metadata": {},
   "source": [
    "# Loading And Graphing Monthly Summaries"
   ]
  },
  {
   "cell_type": "code",
   "execution_count": null,
   "metadata": {},
   "outputs": [],
   "source": [
    "# Make the json_helper module available to this notebook.\n"
   ]
  },
  {
   "cell_type": "code",
   "execution_count": null,
   "metadata": {},
   "outputs": [],
   "source": [
    "# Using the json_helper module, load all of the json files acquired in part one of this lab into a Pandas DataFrame.\n"
   ]
  },
  {
   "cell_type": "code",
   "execution_count": null,
   "metadata": {},
   "outputs": [],
   "source": [
    "# Display a summary of the DataFrame\n"
   ]
  },
  {
   "cell_type": "code",
   "execution_count": null,
   "metadata": {},
   "outputs": [],
   "source": [
    "# How many stations are there?\n",
    "# How many rows are associated with each DataFrame?\n"
   ]
  },
  {
   "cell_type": "markdown",
   "metadata": {},
   "source": [
    "# Narrow our analysis to station id: GHCND:USW00013781\n",
    "\n",
    "https://www.ncdc.noaa.gov/cdo-web/api/v2/stations/GHCND:USC00071200\n",
    "\n",
    "```json\n",
    "{\n",
    "    \"elevation\": 24.1,\n",
    "    \"mindate\": \"1948-01-01\",\n",
    "    \"maxdate\": \"2019-12-05\",\n",
    "    \"latitude\": 39.6744,\n",
    "    \"name\": \"WILMINGTON NEW CASTLE CO AIRPORT, DE US\",\n",
    "    \"datacoverage\": 1,\n",
    "    \"id\": \"GHCND:USW00013781\",\n",
    "    \"elevationUnit\": \"METERS\",\n",
    "    \"longitude\": -75.60567\n",
    "}\n",
    "```"
   ]
  },
  {
   "cell_type": "code",
   "execution_count": null,
   "metadata": {},
   "outputs": [],
   "source": [
    "# Create a DataFrame called \"df_wilm_readings\". \n",
    "# This DataFrame should only contain records associated with station id 'GHCND:USW00013781'.\n"
   ]
  },
  {
   "cell_type": "code",
   "execution_count": null,
   "metadata": {},
   "outputs": [],
   "source": [
    "# Display a summary of the df_wilm_readings DataFrame.\n"
   ]
  },
  {
   "cell_type": "code",
   "execution_count": null,
   "metadata": {},
   "outputs": [],
   "source": [
    "# Create a DataFrame called jan_readings.\n",
    "# This DataFrame should filter the contents of df_wilm_readings in such a way that it only keeps records \n",
    "# which are associated with the month of January.\n",
    "# Make sure that rows are sorted by date.\n"
   ]
  },
  {
   "cell_type": "code",
   "execution_count": null,
   "metadata": {},
   "outputs": [],
   "source": [
    "# What is the shape of jan_readings?\n"
   ]
  },
  {
   "cell_type": "markdown",
   "metadata": {},
   "source": [
    "* Create a line graph which meets the following requirements:\n",
    "* The x axis should represent the year.\n",
    "* The y axis should represent the temperature in celsius.\n",
    "* Each point should display the average temperature in celsius for a given year.\n",
    "* At a minimum it should display data from 1938 to 2017. \n",
    "* Make sure to include the x and y labels. \n",
    "* Make sure that x and y ticks are readable. "
   ]
  },
  {
   "cell_type": "code",
   "execution_count": null,
   "metadata": {},
   "outputs": [],
   "source": []
  }
 ],
 "metadata": {
  "kernelspec": {
   "display_name": "Python 3 (ipykernel)",
   "language": "python",
   "name": "python3"
  },
  "language_info": {
   "codemirror_mode": {
    "name": "ipython",
    "version": 3
   },
   "file_extension": ".py",
   "mimetype": "text/x-python",
   "name": "python",
   "nbconvert_exporter": "python",
   "pygments_lexer": "ipython3",
   "version": "3.12.2"
  }
 },
 "nbformat": 4,
 "nbformat_minor": 4
}
